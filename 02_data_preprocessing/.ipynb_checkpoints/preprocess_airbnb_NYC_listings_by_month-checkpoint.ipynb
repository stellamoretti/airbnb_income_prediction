{
 "cells": [
  {
   "cell_type": "markdown",
   "metadata": {},
   "source": [
    "## Imports"
   ]
  },
  {
   "cell_type": "markdown",
   "metadata": {},
   "source": [
    "### Python Library Imports"
   ]
  },
  {
   "cell_type": "code",
   "execution_count": 1,
   "metadata": {
    "ExecuteTime": {
     "end_time": "2018-01-09T10:20:54.748840Z",
     "start_time": "2018-01-09T10:20:52.072375Z"
    }
   },
   "outputs": [
    {
     "name": "stdout",
     "output_type": "stream",
     "text": [
      "Populating the interactive namespace from numpy and matplotlib\n"
     ]
    },
    {
     "name": "stderr",
     "output_type": "stream",
     "text": [
      "/anaconda/envs/py36/lib/python3.6/site-packages/IPython/core/magics/pylab.py:161: UserWarning: pylab import has clobbered these variables: ['datetime']\n",
      "`%matplotlib` prevents importing * from pylab and numpy\n",
      "  \"\\n`%matplotlib` prevents importing * from pylab and numpy\"\n"
     ]
    }
   ],
   "source": [
    "import pandas as pd\n",
    "import numpy as np\n",
    "import re\n",
    "from datetime import datetime\n",
    "import requests\n",
    "from bs4 import BeautifulSoup\n",
    "from collections import defaultdict\n",
    "import pickle\n",
    "import matplotlib.pyplot as plt\n",
    "import seaborn as sns\n",
    "%pylab inline"
   ]
  },
  {
   "cell_type": "code",
   "execution_count": 2,
   "metadata": {
    "ExecuteTime": {
     "end_time": "2018-01-09T10:20:58.278667Z",
     "start_time": "2018-01-09T10:20:58.274057Z"
    },
    "collapsed": true
   },
   "outputs": [],
   "source": [
    "pd.set_option('display.max_columns', None)"
   ]
  },
  {
   "cell_type": "markdown",
   "metadata": {},
   "source": [
    "### Data Imports\n",
    "Listings dataframes:"
   ]
  },
  {
   "cell_type": "code",
   "execution_count": 3,
   "metadata": {
    "ExecuteTime": {
     "end_time": "2018-01-09T10:26:03.656035Z",
     "start_time": "2018-01-09T10:25:09.860751Z"
    }
   },
   "outputs": [
    {
     "name": "stderr",
     "output_type": "stream",
     "text": [
      "/anaconda/envs/py36/lib/python3.6/site-packages/IPython/core/interactiveshell.py:2717: DtypeWarning: Columns (43) have mixed types. Specify dtype option on import or set low_memory=False.\n",
      "  interactivity=interactivity, compiler=compiler, result=result)\n",
      "/anaconda/envs/py36/lib/python3.6/site-packages/IPython/core/interactiveshell.py:2717: DtypeWarning: Columns (43,88) have mixed types. Specify dtype option on import or set low_memory=False.\n",
      "  interactivity=interactivity, compiler=compiler, result=result)\n"
     ]
    }
   ],
   "source": [
    "dfNov2016 = pd.read_csv('../raw_data/inside_airbnb/1116listings.csv')\n",
    "dfDec2016 = pd.read_csv('../raw_data/inside_airbnb/1216listings.csv')\n",
    "dfJan2017 = pd.read_csv('../raw_data/inside_airbnb/0117listings.csv')\n",
    "dfFeb2017 = pd.read_csv('../raw_data/inside_airbnb/0217listings.csv')\n",
    "dfMar2017 = pd.read_csv('../raw_data/inside_airbnb/0317listings.csv')\n",
    "dfApr2017 = pd.read_csv('../raw_data/inside_airbnb/0417listings.csv')\n",
    "dfMay2017 = pd.read_csv('../raw_data/inside_airbnb/0517listings.csv')\n",
    "dfJun2017 = pd.read_csv('../raw_data/inside_airbnb/0617listings.csv')\n",
    "dfJul2017 = pd.read_csv('../raw_data/inside_airbnb/0717listings.csv')\n",
    "dfAug2017 = pd.read_csv('../raw_data/inside_airbnb/0817listings.csv')\n",
    "dfSep2017 = pd.read_csv('../raw_data/inside_airbnb/0917listings.csv')\n",
    "dfOct2017 = pd.read_csv('../raw_data/inside_airbnb/1017listings.csv')"
   ]
  },
  {
   "cell_type": "code",
   "execution_count": null,
   "metadata": {
    "collapsed": true,
    "scrolled": false
   },
   "outputs": [],
   "source": [
    "# print(len(dfNov2016))\n",
    "# print(len(dfDec2016))\n",
    "# print(len(dfJan2017))\n",
    "# print(len(dfFeb2017))\n",
    "# print(len(dfMar2017))\n",
    "# print(len(dfApr2017))\n",
    "# print(len(dfMay2017))\n",
    "# print(len(dfJun2017))\n",
    "# print(len(dfJul2017))\n",
    "# print(len(dfAug2017))\n",
    "# print(len(dfSep2017))\n",
    "# print(len(dfOct2017))"
   ]
  },
  {
   "cell_type": "markdown",
   "metadata": {},
   "source": [
    "## Data Preprocessing\n",
    "### Listings dataframe\n",
    "#### Price\n",
    "Convert all price columns from strings to integers."
   ]
  },
  {
   "cell_type": "code",
   "execution_count": 4,
   "metadata": {
    "ExecuteTime": {
     "end_time": "2018-01-09T11:06:45.133476Z",
     "start_time": "2018-01-09T11:06:45.035898Z"
    },
    "collapsed": true
   },
   "outputs": [],
   "source": [
    "def make_int(string):\n",
    "    if pd.isnull(string):\n",
    "        return string\n",
    "    else:\n",
    "        string = re.sub(',', '', string)\n",
    "        match = re.search(r'([\\$])(\\d+)([\\.])(00)', string)\n",
    "        if match:\n",
    "            return match.group(2)"
   ]
  },
  {
   "cell_type": "code",
   "execution_count": 5,
   "metadata": {
    "ExecuteTime": {
     "end_time": "2018-01-09T11:06:46.075149Z",
     "start_time": "2018-01-09T11:06:45.982707Z"
    },
    "collapsed": true
   },
   "outputs": [],
   "source": [
    "price_columns = ['price', 'weekly_price', 'monthly_price', 'security_deposit', 'cleaning_fee', 'extra_people']"
   ]
  },
  {
   "cell_type": "code",
   "execution_count": 6,
   "metadata": {
    "ExecuteTime": {
     "end_time": "2018-01-09T11:07:35.570274Z",
     "start_time": "2018-01-09T11:06:49.296107Z"
    },
    "collapsed": true
   },
   "outputs": [],
   "source": [
    "dfNov2016[price_columns] = dfNov2016[price_columns].applymap(make_int).astype(float)\n",
    "dfDec2016[price_columns] = dfDec2016[price_columns].applymap(make_int).astype(float)\n",
    "dfJan2017[price_columns] = dfJan2017[price_columns].applymap(make_int).astype(float)\n",
    "dfFeb2017[price_columns] = dfFeb2017[price_columns].applymap(make_int).astype(float)\n",
    "dfMar2017[price_columns] = dfMar2017[price_columns].applymap(make_int).astype(float)\n",
    "dfApr2017[price_columns] = dfApr2017[price_columns].applymap(make_int).astype(float)\n",
    "dfMay2017[price_columns] = dfMay2017[price_columns].applymap(make_int).astype(float)\n",
    "dfJun2017[price_columns] = dfJun2017[price_columns].applymap(make_int).astype(float)\n",
    "dfJul2017[price_columns] = dfJul2017[price_columns].applymap(make_int).astype(float)\n",
    "dfAug2017[price_columns] = dfAug2017[price_columns].applymap(make_int).astype(float)\n",
    "dfSep2017[price_columns] = dfSep2017[price_columns].applymap(make_int).astype(float)\n",
    "dfOct2017[price_columns] = dfOct2017[price_columns].applymap(make_int).astype(float)"
   ]
  },
  {
   "cell_type": "markdown",
   "metadata": {},
   "source": [
    "Convert numerical columns from string to float."
   ]
  },
  {
   "cell_type": "code",
   "execution_count": 7,
   "metadata": {
    "ExecuteTime": {
     "end_time": "2018-01-09T11:07:52.698172Z",
     "start_time": "2018-01-09T11:07:52.656710Z"
    },
    "collapsed": true
   },
   "outputs": [],
   "source": [
    "numerical_columns = ['id', 'scrape_id', 'host_id', 'host_listings_count', 'latitude', 'longitude', 'square_feet', 'extra_people']"
   ]
  },
  {
   "cell_type": "code",
   "execution_count": 8,
   "metadata": {
    "ExecuteTime": {
     "end_time": "2018-01-09T11:07:56.455809Z",
     "start_time": "2018-01-09T11:07:53.774629Z"
    },
    "collapsed": true
   },
   "outputs": [],
   "source": [
    "dfNov2016[numerical_columns] = dfNov2016[numerical_columns].astype(float)\n",
    "dfDec2016[numerical_columns] = dfDec2016[numerical_columns].astype(float)\n",
    "dfJan2017[numerical_columns] = dfJan2017[numerical_columns].astype(float)\n",
    "dfFeb2017[numerical_columns] = dfFeb2017[numerical_columns].astype(float)\n",
    "dfMar2017[numerical_columns] = dfMar2017[numerical_columns].astype(float)\n",
    "dfApr2017[numerical_columns] = dfApr2017[numerical_columns].astype(float)\n",
    "dfMay2017[numerical_columns] = dfMay2017[numerical_columns].astype(float)\n",
    "dfJun2017[numerical_columns] = dfJun2017[numerical_columns].astype(float)\n",
    "dfJul2017[numerical_columns] = dfJul2017[numerical_columns].astype(float)\n",
    "dfAug2017[numerical_columns] = dfAug2017[numerical_columns].astype(float)\n",
    "dfSep2017[numerical_columns] = dfSep2017[numerical_columns].astype(float)\n",
    "dfOct2017[numerical_columns] = dfOct2017[numerical_columns].astype(float)"
   ]
  },
  {
   "cell_type": "markdown",
   "metadata": {},
   "source": [
    "#### Zipcode\n",
    "Clean up 'zipcode' column."
   ]
  },
  {
   "cell_type": "code",
   "execution_count": 9,
   "metadata": {
    "ExecuteTime": {
     "end_time": "2018-01-09T11:08:03.822937Z",
     "start_time": "2018-01-09T11:08:03.554903Z"
    }
   },
   "outputs": [
    {
     "name": "stdout",
     "output_type": "stream",
     "text": [
      "[22924]\n",
      "[23943]\n",
      "[16139]\n",
      "[33335]\n",
      "[33933]\n",
      "[34197]\n",
      "[34844]\n",
      "[35109]\n",
      "[36266]\n",
      "[36271]\n",
      "[33274]\n",
      "[36412]\n"
     ]
    }
   ],
   "source": [
    "print(dfNov2016.index[dfNov2016.zipcode == '1m'].tolist())\n",
    "print(dfDec2016.index[dfDec2016.zipcode == '1m'].tolist())\n",
    "print(dfJan2017.index[dfJan2017.zipcode == '1m'].tolist())\n",
    "print(dfFeb2017.index[dfFeb2017.zipcode == '1m'].tolist())\n",
    "print(dfMar2017.index[dfMar2017.zipcode == '1m'].tolist())\n",
    "print(dfApr2017.index[dfApr2017.zipcode == '1m'].tolist())\n",
    "print(dfMay2017.index[dfMay2017.zipcode == '1m'].tolist())\n",
    "print(dfJun2017.index[dfJun2017.zipcode == '1m'].tolist())\n",
    "print(dfJul2017.index[dfJul2017.zipcode == '1m'].tolist())\n",
    "print(dfAug2017.index[dfAug2017.zipcode == '1m'].tolist())\n",
    "print(dfSep2017.index[dfSep2017.zipcode == '1m'].tolist())\n",
    "print(dfOct2017.index[dfOct2017.zipcode == '1m'].tolist())"
   ]
  },
  {
   "cell_type": "code",
   "execution_count": 10,
   "metadata": {
    "ExecuteTime": {
     "end_time": "2018-01-09T11:08:09.213495Z",
     "start_time": "2018-01-09T11:08:09.129878Z"
    },
    "collapsed": true
   },
   "outputs": [],
   "source": [
    "dfNov2016 = dfNov2016.set_value(22924, 'zipcode', np.nan)\n",
    "dfDec2016 = dfDec2016.set_value(23943, 'zipcode', np.nan)\n",
    "dfJan2017 = dfJan2017.set_value(16139, 'zipcode', np.nan)\n",
    "dfFeb2017 = dfFeb2017.set_value(33335, 'zipcode', np.nan)\n",
    "dfMar2017 = dfMar2017.set_value(33933, 'zipcode', np.nan)\n",
    "dfApr2017 = dfApr2017.set_value(34197, 'zipcode', np.nan)\n",
    "dfMay2017 = dfMay2017.set_value(34844, 'zipcode', np.nan)\n",
    "dfJun2017 = dfJun2017.set_value(35109, 'zipcode', np.nan)\n",
    "dfJul2017 = dfJul2017.set_value(36266, 'zipcode', np.nan)\n",
    "dfAug2017 = dfAug2017.set_value(36271, 'zipcode', np.nan)\n",
    "dfSep2017 = dfSep2017.set_value(33274, 'zipcode', np.nan)\n",
    "dfOct2017 = dfOct2017.set_value(36412, 'zipcode', np.nan)"
   ]
  },
  {
   "cell_type": "code",
   "execution_count": 11,
   "metadata": {
    "ExecuteTime": {
     "end_time": "2018-01-09T11:08:13.599969Z",
     "start_time": "2018-01-09T11:08:13.589107Z"
    },
    "collapsed": true
   },
   "outputs": [],
   "source": [
    "def fix_zipcode(zipcode):\n",
    "    if pd.isnull(zipcode):\n",
    "        return zipcode\n",
    "    if isinstance(zipcode, float):\n",
    "        return zipcode\n",
    "    elif len(zipcode) < 5:\n",
    "        return np.nan\n",
    "    else:\n",
    "        return zipcode[:5]"
   ]
  },
  {
   "cell_type": "code",
   "execution_count": 12,
   "metadata": {
    "ExecuteTime": {
     "end_time": "2018-01-09T11:08:19.908928Z",
     "start_time": "2018-01-09T11:08:14.510874Z"
    },
    "collapsed": true
   },
   "outputs": [],
   "source": [
    "dfNov2016.zipcode = dfNov2016.zipcode.apply(fix_zipcode).astype(float)\n",
    "dfDec2016.zipcode = dfDec2016.zipcode.apply(fix_zipcode).astype(float)\n",
    "dfJan2017.zipcode = dfJan2017.zipcode.apply(fix_zipcode).astype(float)\n",
    "dfFeb2017.zipcode = dfFeb2017.zipcode.apply(fix_zipcode).astype(float)\n",
    "dfMar2017.zipcode = dfMar2017.zipcode.apply(fix_zipcode).astype(float)\n",
    "dfApr2017.zipcode = dfApr2017.zipcode.apply(fix_zipcode).astype(float)\n",
    "dfMay2017.zipcode = dfMay2017.zipcode.apply(fix_zipcode).astype(float)\n",
    "dfJun2017.zipcode = dfJun2017.zipcode.apply(fix_zipcode).astype(float)\n",
    "dfJul2017.zipcode = dfJul2017.zipcode.apply(fix_zipcode).astype(float)\n",
    "dfAug2017.zipcode = dfAug2017.zipcode.apply(fix_zipcode).astype(float)\n",
    "dfSep2017.zipcode = dfSep2017.zipcode.apply(fix_zipcode).astype(float)\n",
    "dfOct2017.zipcode = dfOct2017.zipcode.apply(fix_zipcode).astype(float)"
   ]
  },
  {
   "cell_type": "markdown",
   "metadata": {},
   "source": [
    "#### Datetime\n",
    "Check format of date-based columns."
   ]
  },
  {
   "cell_type": "code",
   "execution_count": 13,
   "metadata": {
    "ExecuteTime": {
     "end_time": "2018-01-09T11:08:24.133927Z",
     "start_time": "2018-01-09T11:08:24.119368Z"
    },
    "collapsed": true
   },
   "outputs": [],
   "source": [
    "date_columns = ['last_scraped', 'host_since', 'calendar_last_scraped', 'first_review', 'last_review']"
   ]
  },
  {
   "cell_type": "code",
   "execution_count": 14,
   "metadata": {
    "ExecuteTime": {
     "end_time": "2018-01-09T11:08:31.470052Z",
     "start_time": "2018-01-09T11:08:25.081405Z"
    },
    "collapsed": true
   },
   "outputs": [],
   "source": [
    "dfNov2016[date_columns] = dfNov2016[date_columns].apply(pd.to_datetime)\n",
    "dfDec2016[date_columns] = dfDec2016[date_columns].apply(pd.to_datetime)\n",
    "dfJan2017[date_columns] = dfJan2017[date_columns].apply(pd.to_datetime)\n",
    "dfFeb2017[date_columns] = dfFeb2017[date_columns].apply(pd.to_datetime)\n",
    "dfMar2017[date_columns] = dfMar2017[date_columns].apply(pd.to_datetime)\n",
    "dfApr2017[date_columns] = dfApr2017[date_columns].apply(pd.to_datetime)\n",
    "dfMay2017[date_columns] = dfMay2017[date_columns].apply(pd.to_datetime)\n",
    "dfJun2017[date_columns] = dfJun2017[date_columns].apply(pd.to_datetime)\n",
    "dfJul2017[date_columns] = dfJul2017[date_columns].apply(pd.to_datetime)\n",
    "dfAug2017[date_columns] = dfAug2017[date_columns].apply(pd.to_datetime)\n",
    "dfSep2017[date_columns] = dfSep2017[date_columns].apply(pd.to_datetime)\n",
    "dfOct2017[date_columns] = dfOct2017[date_columns].apply(pd.to_datetime)"
   ]
  },
  {
   "cell_type": "markdown",
   "metadata": {
    "collapsed": true
   },
   "source": [
    "#### Amenities\n",
    "Split up column 'amenities' into individual features."
   ]
  },
  {
   "cell_type": "code",
   "execution_count": 15,
   "metadata": {
    "ExecuteTime": {
     "end_time": "2018-01-09T11:08:34.807173Z",
     "start_time": "2018-01-09T11:08:34.783812Z"
    },
    "collapsed": true
   },
   "outputs": [],
   "source": [
    "amenities = dfOct2017.amenities.tolist()"
   ]
  },
  {
   "cell_type": "code",
   "execution_count": 16,
   "metadata": {
    "ExecuteTime": {
     "end_time": "2018-01-09T11:08:35.757225Z",
     "start_time": "2018-01-09T11:08:35.595169Z"
    }
   },
   "outputs": [
    {
     "data": {
      "text/plain": [
       "44317"
      ]
     },
     "execution_count": 16,
     "metadata": {},
     "output_type": "execute_result"
    }
   ],
   "source": [
    "len(amenities)"
   ]
  },
  {
   "cell_type": "code",
   "execution_count": 17,
   "metadata": {
    "ExecuteTime": {
     "end_time": "2018-01-09T11:08:36.362929Z",
     "start_time": "2018-01-09T11:08:36.351964Z"
    }
   },
   "outputs": [
    {
     "data": {
      "text/plain": [
       "'{TV,\"Wireless Internet\",\"Air conditioning\",Kitchen,\"Smoke detector\",\"Carbon monoxide detector\",\"First aid kit\",\"Safety card\",Essentials,\"Hair dryer\",\"translation missing: en.hosting_amenity_49\",\"translation missing: en.hosting_amenity_50\"}'"
      ]
     },
     "execution_count": 17,
     "metadata": {},
     "output_type": "execute_result"
    }
   ],
   "source": [
    "amenities[0]"
   ]
  },
  {
   "cell_type": "code",
   "execution_count": 18,
   "metadata": {
    "ExecuteTime": {
     "end_time": "2018-01-09T11:08:38.970541Z",
     "start_time": "2018-01-09T11:08:38.898878Z"
    },
    "collapsed": true
   },
   "outputs": [],
   "source": [
    "def string_to_list(string):\n",
    "    # amenities will be a binary list for 15 things: [essentials, pool, kitchen, washer, parking, \n",
    "    # elevator, hot tub, gym, wifi, tv, heat, AC, fireplace, pets, lock]\n",
    "    amenities = []\n",
    "    if 'Essentials' in string:\n",
    "        amenities.append(1)\n",
    "    else:\n",
    "        amenities.append(0)\n",
    "    if 'Pool' in string:\n",
    "        amenities.append(1)\n",
    "    else:\n",
    "        amenities.append(0)\n",
    "    if 'Kitchen' in string:\n",
    "        amenities.append(1)\n",
    "    else:\n",
    "        amenities.append(0)\n",
    "    if 'Washer' in string:\n",
    "        amenities.append(1)\n",
    "    else:\n",
    "        amenities.append(0)\n",
    "    if 'parking' in string:\n",
    "        amenities.append(1)\n",
    "    else:\n",
    "        amenities.append(0)\n",
    "    if 'Elevator' in string:\n",
    "        amenities.append(1)\n",
    "    else:\n",
    "        amenities.append(0)\n",
    "    if 'Hot tub' in string:\n",
    "        amenities.append(1)\n",
    "    else:\n",
    "        amenities.append(0)\n",
    "    if 'Gym' in string:\n",
    "        amenities.append(1)\n",
    "    else:\n",
    "        amenities.append(0)\n",
    "    if 'Wireless Internet' in string:\n",
    "        amenities.append(1)\n",
    "    else:\n",
    "        amenities.append(0)\n",
    "    if 'TV' in string:\n",
    "        amenities.append(1)\n",
    "    else:\n",
    "        amenities.append(0)\n",
    "    if 'Heating' in string:\n",
    "        amenities.append(1)\n",
    "    else:\n",
    "        amenities.append(0)\n",
    "    if 'Air conditioning' in string:\n",
    "        amenities.append(1)\n",
    "    else:\n",
    "        amenities.append(0)\n",
    "    if 'fireplace' in string:\n",
    "        amenities.append(1)\n",
    "    else:\n",
    "        amenities.append(0)\n",
    "    if 'Pets allowed' in string:\n",
    "        amenities.append(1)\n",
    "    else:\n",
    "        amenities.append(0)\n",
    "    if 'Lock on bedroom door' in string:\n",
    "        amenities.append(1)\n",
    "    else:\n",
    "        amenities.append(0)\n",
    "    return amenities"
   ]
  },
  {
   "cell_type": "code",
   "execution_count": 19,
   "metadata": {
    "ExecuteTime": {
     "end_time": "2018-01-09T11:08:48.618612Z",
     "start_time": "2018-01-09T11:08:42.918954Z"
    },
    "collapsed": true
   },
   "outputs": [],
   "source": [
    "dfNov2016['amenities_list'] = dfNov2016['amenities'].map(string_to_list)\n",
    "dfDec2016['amenities_list'] = dfDec2016['amenities'].map(string_to_list)\n",
    "dfJan2017['amenities_list'] = dfJan2017['amenities'].map(string_to_list)\n",
    "dfFeb2017['amenities_list'] = dfFeb2017['amenities'].map(string_to_list)\n",
    "dfMar2017['amenities_list'] = dfMar2017['amenities'].map(string_to_list)\n",
    "dfApr2017['amenities_list'] = dfApr2017['amenities'].map(string_to_list)\n",
    "dfMay2017['amenities_list'] = dfMay2017['amenities'].map(string_to_list)\n",
    "dfJun2017['amenities_list'] = dfJun2017['amenities'].map(string_to_list)\n",
    "dfJul2017['amenities_list'] = dfJul2017['amenities'].map(string_to_list)\n",
    "dfAug2017['amenities_list'] = dfAug2017['amenities'].map(string_to_list)\n",
    "dfSep2017['amenities_list'] = dfSep2017['amenities'].map(string_to_list)\n",
    "dfOct2017['amenities_list'] = dfOct2017['amenities'].map(string_to_list)"
   ]
  },
  {
   "cell_type": "markdown",
   "metadata": {},
   "source": [
    "Convert amentities list to individual binarized columns for each amenity (feature)."
   ]
  },
  {
   "cell_type": "code",
   "execution_count": 20,
   "metadata": {
    "ExecuteTime": {
     "end_time": "2018-01-09T11:08:52.169241Z",
     "start_time": "2018-01-09T11:08:52.163980Z"
    },
    "collapsed": true
   },
   "outputs": [],
   "source": [
    "amenities_columns = ['essentials', 'pool', 'kitchen', 'washer', 'parking', 'elevator', 'hot_tub', 'gym', \n",
    "            'wifi', 'tv', 'heat', 'AC', 'fireplace', 'pets_allowed', 'lock']"
   ]
  },
  {
   "cell_type": "code",
   "execution_count": 21,
   "metadata": {
    "ExecuteTime": {
     "end_time": "2018-01-09T11:08:56.591056Z",
     "start_time": "2018-01-09T11:08:53.254483Z"
    },
    "collapsed": true
   },
   "outputs": [],
   "source": [
    "dfNov2016[amenities_columns] = pd.DataFrame(dfNov2016.amenities_list.values.tolist(), index=dfNov2016.index)\n",
    "dfDec2016[amenities_columns] = pd.DataFrame(dfDec2016.amenities_list.values.tolist(), index=dfDec2016.index)\n",
    "dfJan2017[amenities_columns] = pd.DataFrame(dfJan2017.amenities_list.values.tolist(), index=dfJan2017.index)\n",
    "dfFeb2017[amenities_columns] = pd.DataFrame(dfFeb2017.amenities_list.values.tolist(), index=dfFeb2017.index)\n",
    "dfMar2017[amenities_columns] = pd.DataFrame(dfMar2017.amenities_list.values.tolist(), index=dfMar2017.index)\n",
    "dfApr2017[amenities_columns] = pd.DataFrame(dfApr2017.amenities_list.values.tolist(), index=dfApr2017.index)\n",
    "dfMay2017[amenities_columns] = pd.DataFrame(dfMay2017.amenities_list.values.tolist(), index=dfMay2017.index)\n",
    "dfJun2017[amenities_columns] = pd.DataFrame(dfJun2017.amenities_list.values.tolist(), index=dfJun2017.index)\n",
    "dfJul2017[amenities_columns] = pd.DataFrame(dfJul2017.amenities_list.values.tolist(), index=dfJul2017.index)\n",
    "dfAug2017[amenities_columns] = pd.DataFrame(dfAug2017.amenities_list.values.tolist(), index=dfAug2017.index)\n",
    "dfSep2017[amenities_columns] = pd.DataFrame(dfSep2017.amenities_list.values.tolist(), index=dfSep2017.index)\n",
    "dfOct2017[amenities_columns] = pd.DataFrame(dfOct2017.amenities_list.values.tolist(), index=dfOct2017.index)"
   ]
  },
  {
   "cell_type": "markdown",
   "metadata": {},
   "source": [
    "#### Replace True/False binary labels with 1/0"
   ]
  },
  {
   "cell_type": "code",
   "execution_count": 22,
   "metadata": {
    "ExecuteTime": {
     "end_time": "2018-01-09T11:09:23.538364Z",
     "start_time": "2018-01-09T11:08:58.951934Z"
    },
    "collapsed": true
   },
   "outputs": [],
   "source": [
    "dfNov2016.replace('t', 1, inplace=True)\n",
    "dfDec2016.replace('t', 1, inplace=True)\n",
    "dfJan2017.replace('t', 1, inplace=True)\n",
    "dfFeb2017.replace('t', 1, inplace=True)\n",
    "dfMar2017.replace('t', 1, inplace=True)\n",
    "dfApr2017.replace('t', 1, inplace=True)\n",
    "dfMay2017.replace('t', 1, inplace=True)\n",
    "dfJun2017.replace('t', 1, inplace=True)\n",
    "dfJul2017.replace('t', 1, inplace=True)\n",
    "dfAug2017.replace('t', 1, inplace=True)\n",
    "dfSep2017.replace('t', 1, inplace=True)\n",
    "dfOct2017.replace('t', 1, inplace=True)"
   ]
  },
  {
   "cell_type": "code",
   "execution_count": 23,
   "metadata": {
    "ExecuteTime": {
     "end_time": "2018-01-09T11:09:55.579550Z",
     "start_time": "2018-01-09T11:09:27.396370Z"
    },
    "collapsed": true
   },
   "outputs": [],
   "source": [
    "dfNov2016.replace('f', 0, inplace=True)\n",
    "dfDec2016.replace('f', 0, inplace=True)\n",
    "dfJan2017.replace('f', 0, inplace=True)\n",
    "dfFeb2017.replace('f', 0, inplace=True)\n",
    "dfMar2017.replace('f', 0, inplace=True)\n",
    "dfApr2017.replace('f', 0, inplace=True)\n",
    "dfMay2017.replace('f', 0, inplace=True)\n",
    "dfJun2017.replace('f', 0, inplace=True)\n",
    "dfJul2017.replace('f', 0, inplace=True)\n",
    "dfAug2017.replace('f', 0, inplace=True)\n",
    "dfSep2017.replace('f', 0, inplace=True)\n",
    "dfOct2017.replace('f', 0, inplace=True)"
   ]
  },
  {
   "cell_type": "markdown",
   "metadata": {},
   "source": [
    "## Feature Engineering"
   ]
  },
  {
   "cell_type": "markdown",
   "metadata": {},
   "source": [
    "### Make dummy variables for categorical features\n",
    "#### Property type, room type, bed type"
   ]
  },
  {
   "cell_type": "code",
   "execution_count": 24,
   "metadata": {
    "ExecuteTime": {
     "end_time": "2018-01-09T21:44:35.158981Z",
     "start_time": "2018-01-09T21:44:34.129381Z"
    },
    "collapsed": true
   },
   "outputs": [],
   "source": [
    "dfNov2016['apartment'] = np.where(dfNov2016['property_type'] == 'Apartment', 1, 0)\n",
    "dfNov2016['house'] = np.where(dfNov2016['property_type'] == 'House', 1, 0)\n",
    "dfNov2016['loft'] = np.where(dfNov2016['property_type'] == 'Loft', 1, 0)\n",
    "dfNov2016['townhouse'] = np.where(dfNov2016['property_type'] == 'Townhouse', 1, 0)\n",
    "dfNov2016['condo'] = np.where(dfNov2016['property_type'] == 'Condominium', 1, 0)\n",
    "dfNov2016['entire_home'] = np.where(dfNov2016['room_type'] == 'Entire home/apt', 1, 0)\n",
    "dfNov2016['private_room'] = np.where(dfNov2016['room_type'] == 'Private room', 1, 0)\n",
    "dfNov2016['shared_room'] = np.where(dfNov2016['room_type'] == 'Shared room', 1, 0)\n",
    "dfNov2016['real_bed'] = np.where(dfNov2016['bed_type'] == 'Real Bed', 1, 0)"
   ]
  },
  {
   "cell_type": "code",
   "execution_count": 25,
   "metadata": {
    "ExecuteTime": {
     "end_time": "2018-01-09T21:44:37.126088Z",
     "start_time": "2018-01-09T21:44:36.866803Z"
    },
    "collapsed": true
   },
   "outputs": [],
   "source": [
    "dfDec2016['apartment'] = np.where(dfDec2016['property_type'] == 'Apartment', 1, 0)\n",
    "dfDec2016['house'] = np.where(dfDec2016['property_type'] == 'House', 1, 0)\n",
    "dfDec2016['loft'] = np.where(dfDec2016['property_type'] == 'Loft', 1, 0)\n",
    "dfDec2016['townhouse'] = np.where(dfDec2016['property_type'] == 'Townhouse', 1, 0)\n",
    "dfDec2016['condo'] = np.where(dfDec2016['property_type'] == 'Condominium', 1, 0)\n",
    "dfDec2016['entire_home'] = np.where(dfDec2016['room_type'] == 'Entire home/apt', 1, 0)\n",
    "dfDec2016['private_room'] = np.where(dfDec2016['room_type'] == 'Private room', 1, 0)\n",
    "dfDec2016['shared_room'] = np.where(dfDec2016['room_type'] == 'Shared room', 1, 0)\n",
    "dfDec2016['real_bed'] = np.where(dfDec2016['bed_type'] == 'Real Bed', 1, 0)"
   ]
  },
  {
   "cell_type": "code",
   "execution_count": 26,
   "metadata": {
    "ExecuteTime": {
     "end_time": "2018-01-09T21:44:38.004446Z",
     "start_time": "2018-01-09T21:44:37.853828Z"
    },
    "collapsed": true
   },
   "outputs": [],
   "source": [
    "dfJan2017['apartment'] = np.where(dfJan2017['property_type'] == 'Apartment', 1, 0)\n",
    "dfJan2017['house'] = np.where(dfJan2017['property_type'] == 'House', 1, 0)\n",
    "dfJan2017['loft'] = np.where(dfJan2017['property_type'] == 'Loft', 1, 0)\n",
    "dfJan2017['townhouse'] = np.where(dfJan2017['property_type'] == 'Townhouse', 1, 0)\n",
    "dfJan2017['condo'] = np.where(dfJan2017['property_type'] == 'Condominium', 1, 0)\n",
    "dfJan2017['entire_home'] = np.where(dfJan2017['room_type'] == 'Entire home/apt', 1, 0)\n",
    "dfJan2017['private_room'] = np.where(dfJan2017['room_type'] == 'Private room', 1, 0)\n",
    "dfJan2017['shared_room'] = np.where(dfJan2017['room_type'] == 'Shared room', 1, 0)\n",
    "dfJan2017['real_bed'] = np.where(dfJan2017['bed_type'] == 'Real Bed', 1, 0)"
   ]
  },
  {
   "cell_type": "code",
   "execution_count": 27,
   "metadata": {
    "ExecuteTime": {
     "end_time": "2018-01-09T21:44:39.850946Z",
     "start_time": "2018-01-09T21:44:39.700607Z"
    },
    "collapsed": true
   },
   "outputs": [],
   "source": [
    "dfFeb2017['apartment'] = np.where(dfFeb2017['property_type'] == 'Apartment', 1, 0)\n",
    "dfFeb2017['house'] = np.where(dfFeb2017['property_type'] == 'House', 1, 0)\n",
    "dfFeb2017['loft'] = np.where(dfFeb2017['property_type'] == 'Loft', 1, 0)\n",
    "dfFeb2017['townhouse'] = np.where(dfFeb2017['property_type'] == 'Townhouse', 1, 0)\n",
    "dfFeb2017['condo'] = np.where(dfFeb2017['property_type'] == 'Condominium', 1, 0)\n",
    "dfFeb2017['entire_home'] = np.where(dfFeb2017['room_type'] == 'Entire home/apt', 1, 0)\n",
    "dfFeb2017['private_room'] = np.where(dfFeb2017['room_type'] == 'Private room', 1, 0)\n",
    "dfFeb2017['shared_room'] = np.where(dfFeb2017['room_type'] == 'Shared room', 1, 0)\n",
    "dfFeb2017['real_bed'] = np.where(dfFeb2017['bed_type'] == 'Real Bed', 1, 0)"
   ]
  },
  {
   "cell_type": "code",
   "execution_count": 28,
   "metadata": {
    "ExecuteTime": {
     "end_time": "2018-01-09T21:44:40.543022Z",
     "start_time": "2018-01-09T21:44:40.408332Z"
    },
    "collapsed": true
   },
   "outputs": [],
   "source": [
    "dfMar2017['apartment'] = np.where(dfMar2017['property_type'] == 'Apartment', 1, 0)\n",
    "dfMar2017['house'] = np.where(dfMar2017['property_type'] == 'House', 1, 0)\n",
    "dfMar2017['loft'] = np.where(dfMar2017['property_type'] == 'Loft', 1, 0)\n",
    "dfMar2017['townhouse'] = np.where(dfMar2017['property_type'] == 'Townhouse', 1, 0)\n",
    "dfMar2017['condo'] = np.where(dfMar2017['property_type'] == 'Condominium', 1, 0)\n",
    "dfMar2017['entire_home'] = np.where(dfMar2017['room_type'] == 'Entire home/apt', 1, 0)\n",
    "dfMar2017['private_room'] = np.where(dfMar2017['room_type'] == 'Private room', 1, 0)\n",
    "dfMar2017['shared_room'] = np.where(dfMar2017['room_type'] == 'Shared room', 1, 0)\n",
    "dfMar2017['real_bed'] = np.where(dfMar2017['bed_type'] == 'Real Bed', 1, 0)"
   ]
  },
  {
   "cell_type": "code",
   "execution_count": 29,
   "metadata": {
    "ExecuteTime": {
     "end_time": "2018-01-09T21:44:42.745650Z",
     "start_time": "2018-01-09T21:44:42.612924Z"
    },
    "collapsed": true
   },
   "outputs": [],
   "source": [
    "dfApr2017['apartment'] = np.where(dfApr2017['property_type'] == 'Apartment', 1, 0)\n",
    "dfApr2017['house'] = np.where(dfApr2017['property_type'] == 'House', 1, 0)\n",
    "dfApr2017['loft'] = np.where(dfApr2017['property_type'] == 'Loft', 1, 0)\n",
    "dfApr2017['townhouse'] = np.where(dfApr2017['property_type'] == 'Townhouse', 1, 0)\n",
    "dfApr2017['condo'] = np.where(dfApr2017['property_type'] == 'Condominium', 1, 0)\n",
    "dfApr2017['entire_home'] = np.where(dfApr2017['room_type'] == 'Entire home/apt', 1, 0)\n",
    "dfApr2017['private_room'] = np.where(dfApr2017['room_type'] == 'Private room', 1, 0)\n",
    "dfApr2017['shared_room'] = np.where(dfApr2017['room_type'] == 'Shared room', 1, 0)\n",
    "dfApr2017['real_bed'] = np.where(dfApr2017['bed_type'] == 'Real Bed', 1, 0)"
   ]
  },
  {
   "cell_type": "code",
   "execution_count": 30,
   "metadata": {
    "ExecuteTime": {
     "end_time": "2018-01-09T21:44:43.727712Z",
     "start_time": "2018-01-09T21:44:43.427152Z"
    },
    "collapsed": true
   },
   "outputs": [],
   "source": [
    "dfMay2017['apartment'] = np.where(dfMay2017['property_type'] == 'Apartment', 1, 0)\n",
    "dfMay2017['house'] = np.where(dfMay2017['property_type'] == 'House', 1, 0)\n",
    "dfMay2017['loft'] = np.where(dfMay2017['property_type'] == 'Loft', 1, 0)\n",
    "dfMay2017['townhouse'] = np.where(dfMay2017['property_type'] == 'Townhouse', 1, 0)\n",
    "dfMay2017['condo'] = np.where(dfMay2017['property_type'] == 'Condominium', 1, 0)\n",
    "dfMay2017['entire_home'] = np.where(dfMay2017['room_type'] == 'Entire home/apt', 1, 0)\n",
    "dfMay2017['private_room'] = np.where(dfMay2017['room_type'] == 'Private room', 1, 0)\n",
    "dfMay2017['shared_room'] = np.where(dfMay2017['room_type'] == 'Shared room', 1, 0)\n",
    "dfMay2017['real_bed'] = np.where(dfMay2017['bed_type'] == 'Real Bed', 1, 0)"
   ]
  },
  {
   "cell_type": "code",
   "execution_count": 31,
   "metadata": {
    "ExecuteTime": {
     "end_time": "2018-01-09T21:44:45.624526Z",
     "start_time": "2018-01-09T21:44:45.209848Z"
    },
    "collapsed": true
   },
   "outputs": [],
   "source": [
    "dfJun2017['apartment'] = np.where(dfJun2017['property_type'] == 'Apartment', 1, 0)\n",
    "dfJun2017['house'] = np.where(dfJun2017['property_type'] == 'House', 1, 0)\n",
    "dfJun2017['loft'] = np.where(dfJun2017['property_type'] == 'Loft', 1, 0)\n",
    "dfJun2017['townhouse'] = np.where(dfJun2017['property_type'] == 'Townhouse', 1, 0)\n",
    "dfJun2017['condo'] = np.where(dfJun2017['property_type'] == 'Condominium', 1, 0)\n",
    "dfJun2017['entire_home'] = np.where(dfJun2017['room_type'] == 'Entire home/apt', 1, 0)\n",
    "dfJun2017['private_room'] = np.where(dfJun2017['room_type'] == 'Private room', 1, 0)\n",
    "dfJun2017['shared_room'] = np.where(dfJun2017['room_type'] == 'Shared room', 1, 0)\n",
    "dfJun2017['real_bed'] = np.where(dfJun2017['bed_type'] == 'Real Bed', 1, 0)"
   ]
  },
  {
   "cell_type": "code",
   "execution_count": 32,
   "metadata": {
    "ExecuteTime": {
     "end_time": "2018-01-09T21:44:46.149952Z",
     "start_time": "2018-01-09T21:44:45.863791Z"
    },
    "collapsed": true
   },
   "outputs": [],
   "source": [
    "dfJul2017['apartment'] = np.where(dfJul2017['property_type'] == 'Apartment', 1, 0)\n",
    "dfJul2017['house'] = np.where(dfJul2017['property_type'] == 'House', 1, 0)\n",
    "dfJul2017['loft'] = np.where(dfJul2017['property_type'] == 'Loft', 1, 0)\n",
    "dfJul2017['townhouse'] = np.where(dfJul2017['property_type'] == 'Townhouse', 1, 0)\n",
    "dfJul2017['condo'] = np.where(dfJul2017['property_type'] == 'Condominium', 1, 0)\n",
    "dfJul2017['entire_home'] = np.where(dfJul2017['room_type'] == 'Entire home/apt', 1, 0)\n",
    "dfJul2017['private_room'] = np.where(dfJul2017['room_type'] == 'Private room', 1, 0)\n",
    "dfJul2017['shared_room'] = np.where(dfJul2017['room_type'] == 'Shared room', 1, 0)\n",
    "dfJul2017['real_bed'] = np.where(dfJul2017['bed_type'] == 'Real Bed', 1, 0)"
   ]
  },
  {
   "cell_type": "code",
   "execution_count": 33,
   "metadata": {
    "ExecuteTime": {
     "end_time": "2018-01-09T21:44:47.807129Z",
     "start_time": "2018-01-09T21:44:47.679067Z"
    },
    "collapsed": true
   },
   "outputs": [],
   "source": [
    "dfAug2017['apartment'] = np.where(dfAug2017['property_type'] == 'Apartment', 1, 0)\n",
    "dfAug2017['house'] = np.where(dfAug2017['property_type'] == 'House', 1, 0)\n",
    "dfAug2017['loft'] = np.where(dfAug2017['property_type'] == 'Loft', 1, 0)\n",
    "dfAug2017['townhouse'] = np.where(dfAug2017['property_type'] == 'Townhouse', 1, 0)\n",
    "dfAug2017['condo'] = np.where(dfAug2017['property_type'] == 'Condominium', 1, 0)\n",
    "dfAug2017['entire_home'] = np.where(dfAug2017['room_type'] == 'Entire home/apt', 1, 0)\n",
    "dfAug2017['private_room'] = np.where(dfAug2017['room_type'] == 'Private room', 1, 0)\n",
    "dfAug2017['shared_room'] = np.where(dfAug2017['room_type'] == 'Shared room', 1, 0)\n",
    "dfAug2017['real_bed'] = np.where(dfAug2017['bed_type'] == 'Real Bed', 1, 0)"
   ]
  },
  {
   "cell_type": "code",
   "execution_count": 34,
   "metadata": {
    "ExecuteTime": {
     "end_time": "2018-01-09T21:44:48.359770Z",
     "start_time": "2018-01-09T21:44:48.204125Z"
    },
    "collapsed": true
   },
   "outputs": [],
   "source": [
    "dfSep2017['apartment'] = np.where(dfSep2017['property_type'] == 'Apartment', 1, 0)\n",
    "dfSep2017['house'] = np.where(dfSep2017['property_type'] == 'House', 1, 0)\n",
    "dfSep2017['loft'] = np.where(dfSep2017['property_type'] == 'Loft', 1, 0)\n",
    "dfSep2017['townhouse'] = np.where(dfSep2017['property_type'] == 'Townhouse', 1, 0)\n",
    "dfSep2017['condo'] = np.where(dfSep2017['property_type'] == 'Condominium', 1, 0)\n",
    "dfSep2017['entire_home'] = np.where(dfSep2017['room_type'] == 'Entire home/apt', 1, 0)\n",
    "dfSep2017['private_room'] = np.where(dfSep2017['room_type'] == 'Private room', 1, 0)\n",
    "dfSep2017['shared_room'] = np.where(dfSep2017['room_type'] == 'Shared room', 1, 0)\n",
    "dfSep2017['real_bed'] = np.where(dfSep2017['bed_type'] == 'Real Bed', 1, 0)"
   ]
  },
  {
   "cell_type": "code",
   "execution_count": 35,
   "metadata": {
    "ExecuteTime": {
     "end_time": "2018-01-09T21:44:50.256641Z",
     "start_time": "2018-01-09T21:44:50.070795Z"
    },
    "collapsed": true
   },
   "outputs": [],
   "source": [
    "dfOct2017['apartment'] = np.where(dfOct2017['property_type'] == 'Apartment', 1, 0)\n",
    "dfOct2017['house'] = np.where(dfOct2017['property_type'] == 'House', 1, 0)\n",
    "dfOct2017['loft'] = np.where(dfOct2017['property_type'] == 'Loft', 1, 0)\n",
    "dfOct2017['townhouse'] = np.where(dfOct2017['property_type'] == 'Townhouse', 1, 0)\n",
    "dfOct2017['condo'] = np.where(dfOct2017['property_type'] == 'Condominium', 1, 0)\n",
    "dfOct2017['entire_home'] = np.where(dfOct2017['room_type'] == 'Entire home/apt', 1, 0)\n",
    "dfOct2017['private_room'] = np.where(dfOct2017['room_type'] == 'Private room', 1, 0)\n",
    "dfOct2017['shared_room'] = np.where(dfOct2017['room_type'] == 'Shared room', 1, 0)\n",
    "dfOct2017['real_bed'] = np.where(dfOct2017['bed_type'] == 'Real Bed', 1, 0)"
   ]
  },
  {
   "cell_type": "markdown",
   "metadata": {},
   "source": [
    "### Distance from city center\n",
    "#### Haversine formula"
   ]
  },
  {
   "cell_type": "code",
   "execution_count": 36,
   "metadata": {
    "ExecuteTime": {
     "end_time": "2018-01-09T21:44:54.684030Z",
     "start_time": "2018-01-09T21:44:54.649994Z"
    },
    "collapsed": true
   },
   "outputs": [],
   "source": [
    "from math import radians, sin, cos, sqrt, asin"
   ]
  },
  {
   "cell_type": "code",
   "execution_count": 37,
   "metadata": {
    "ExecuteTime": {
     "end_time": "2018-01-09T21:44:55.457884Z",
     "start_time": "2018-01-09T21:44:55.359931Z"
    },
    "collapsed": true
   },
   "outputs": [],
   "source": [
    "def haversine(row):\n",
    "    lat1 = 40.7128 # NYC\n",
    "    lon1 = -74.0060 # NYC\n",
    "    lat2 = row['latitude']\n",
    "    lon2 = row['longitude']\n",
    "    R = 6372.8 # Earth radius in kilometers\n",
    "    dLat = radians(lat2 - lat1)\n",
    "    dLon = radians(lon2 - lon1)\n",
    "    lat1 = radians(lat1)\n",
    "    lat2 = radians(lat2)\n",
    "    a = sin(dLat/2)**2 + cos(lat1) * cos(lat2) * sin(dLon/2)**2\n",
    "    c = 2*asin(sqrt(a))\n",
    "    return R * c"
   ]
  },
  {
   "cell_type": "code",
   "execution_count": 38,
   "metadata": {
    "ExecuteTime": {
     "end_time": "2018-01-09T21:46:51.753023Z",
     "start_time": "2018-01-09T21:45:01.382914Z"
    },
    "collapsed": true
   },
   "outputs": [],
   "source": [
    "dfNov2016['distance_from_NYC'] = dfNov2016.apply(lambda row: haversine(row), axis=1)\n",
    "dfDec2016['distance_from_NYC'] = dfDec2016.apply(lambda row: haversine(row), axis=1)\n",
    "dfJan2017['distance_from_NYC'] = dfJan2017.apply(lambda row: haversine(row), axis=1)\n",
    "dfFeb2017['distance_from_NYC'] = dfFeb2017.apply(lambda row: haversine(row), axis=1)\n",
    "dfMar2017['distance_from_NYC'] = dfMar2017.apply(lambda row: haversine(row), axis=1)\n",
    "dfApr2017['distance_from_NYC'] = dfApr2017.apply(lambda row: haversine(row), axis=1)\n",
    "dfMay2017['distance_from_NYC'] = dfMay2017.apply(lambda row: haversine(row), axis=1)\n",
    "dfJun2017['distance_from_NYC'] = dfJun2017.apply(lambda row: haversine(row), axis=1)\n",
    "dfJul2017['distance_from_NYC'] = dfJul2017.apply(lambda row: haversine(row), axis=1)\n",
    "dfAug2017['distance_from_NYC'] = dfAug2017.apply(lambda row: haversine(row), axis=1)\n",
    "dfSep2017['distance_from_NYC'] = dfSep2017.apply(lambda row: haversine(row), axis=1)\n",
    "dfOct2017['distance_from_NYC'] = dfOct2017.apply(lambda row: haversine(row), axis=1)"
   ]
  },
  {
   "cell_type": "markdown",
   "metadata": {},
   "source": [
    "#### Counties (BeautifulSoup)"
   ]
  },
  {
   "cell_type": "code",
   "execution_count": 39,
   "metadata": {
    "ExecuteTime": {
     "end_time": "2018-01-09T21:46:57.444651Z",
     "start_time": "2018-01-09T21:46:57.345581Z"
    },
    "collapsed": true
   },
   "outputs": [],
   "source": [
    "def get_counties(url):\n",
    "    response = requests.get(url)\n",
    "    page = response.text\n",
    "    soup = BeautifulSoup(page,\"lxml\")\n",
    "    counties = []\n",
    "    for trs in soup.find(class_='inner_table').find_all('tr'):\n",
    "        tds = trs.find_all('td')\n",
    "        row = [elem.text for elem in tds][:3]\n",
    "        counties.append(row)\n",
    "    return counties[2:]"
   ]
  },
  {
   "cell_type": "code",
   "execution_count": 40,
   "metadata": {
    "ExecuteTime": {
     "end_time": "2018-01-09T21:47:06.933279Z",
     "start_time": "2018-01-09T21:47:01.165604Z"
    },
    "collapsed": true
   },
   "outputs": [],
   "source": [
    "counties = get_counties('http://www.zipcodestogo.com/New%20York/')"
   ]
  },
  {
   "cell_type": "code",
   "execution_count": 41,
   "metadata": {
    "ExecuteTime": {
     "end_time": "2018-01-09T21:47:08.672850Z",
     "start_time": "2018-01-09T21:47:08.639512Z"
    },
    "collapsed": true
   },
   "outputs": [],
   "source": [
    "dfCounties = pd.DataFrame(counties)\n",
    "dfCounties.columns = ['zipcode', 'city', 'county']"
   ]
  },
  {
   "cell_type": "code",
   "execution_count": 42,
   "metadata": {
    "ExecuteTime": {
     "end_time": "2018-01-09T21:47:09.430808Z",
     "start_time": "2018-01-09T21:47:09.411816Z"
    }
   },
   "outputs": [
    {
     "data": {
      "text/html": [
       "<div>\n",
       "<style>\n",
       "    .dataframe thead tr:only-child th {\n",
       "        text-align: right;\n",
       "    }\n",
       "\n",
       "    .dataframe thead th {\n",
       "        text-align: left;\n",
       "    }\n",
       "\n",
       "    .dataframe tbody tr th {\n",
       "        vertical-align: top;\n",
       "    }\n",
       "</style>\n",
       "<table border=\"1\" class=\"dataframe\">\n",
       "  <thead>\n",
       "    <tr style=\"text-align: right;\">\n",
       "      <th></th>\n",
       "      <th>zipcode</th>\n",
       "      <th>city</th>\n",
       "      <th>county</th>\n",
       "    </tr>\n",
       "  </thead>\n",
       "  <tbody>\n",
       "    <tr>\n",
       "      <th>0</th>\n",
       "      <td>00501</td>\n",
       "      <td>Holtsville</td>\n",
       "      <td>Suffolk</td>\n",
       "    </tr>\n",
       "    <tr>\n",
       "      <th>1</th>\n",
       "      <td>00544</td>\n",
       "      <td>Holtsville</td>\n",
       "      <td>Suffolk</td>\n",
       "    </tr>\n",
       "    <tr>\n",
       "      <th>2</th>\n",
       "      <td>06390</td>\n",
       "      <td>Fishers Island</td>\n",
       "      <td>Suffolk</td>\n",
       "    </tr>\n",
       "    <tr>\n",
       "      <th>3</th>\n",
       "      <td>10001</td>\n",
       "      <td>New York</td>\n",
       "      <td>New York</td>\n",
       "    </tr>\n",
       "    <tr>\n",
       "      <th>4</th>\n",
       "      <td>10002</td>\n",
       "      <td>New York</td>\n",
       "      <td>New York</td>\n",
       "    </tr>\n",
       "  </tbody>\n",
       "</table>\n",
       "</div>"
      ],
      "text/plain": [
       "  zipcode            city    county\n",
       "0   00501      Holtsville   Suffolk\n",
       "1   00544      Holtsville   Suffolk\n",
       "2   06390  Fishers Island   Suffolk\n",
       "3   10001        New York  New York\n",
       "4   10002        New York  New York"
      ]
     },
     "execution_count": 42,
     "metadata": {},
     "output_type": "execute_result"
    }
   ],
   "source": [
    "dfCounties.head()"
   ]
  },
  {
   "cell_type": "code",
   "execution_count": 43,
   "metadata": {
    "ExecuteTime": {
     "end_time": "2018-01-09T21:47:10.954524Z",
     "start_time": "2018-01-09T21:47:10.934924Z"
    }
   },
   "outputs": [
    {
     "data": {
      "text/plain": [
       "New York       162\n",
       "Suffolk        115\n",
       "Nassau         106\n",
       "Erie            87\n",
       "Westchester     85\n",
       "Queens          79\n",
       "Albany          78\n",
       "Monroe          66\n",
       "Onondaga        60\n",
       "Ulster          57\n",
       "Name: county, dtype: int64"
      ]
     },
     "execution_count": 43,
     "metadata": {},
     "output_type": "execute_result"
    }
   ],
   "source": [
    "dfCounties.county.value_counts()[:10]"
   ]
  },
  {
   "cell_type": "code",
   "execution_count": 44,
   "metadata": {
    "ExecuteTime": {
     "end_time": "2018-01-09T21:47:16.076342Z",
     "start_time": "2018-01-09T21:47:16.065493Z"
    },
    "collapsed": true
   },
   "outputs": [],
   "source": [
    "city_zip_dict = dict(zip(dfCounties['city'].values, dfCounties['zipcode'].values))"
   ]
  },
  {
   "cell_type": "code",
   "execution_count": 45,
   "metadata": {
    "ExecuteTime": {
     "end_time": "2018-01-09T21:47:16.840567Z",
     "start_time": "2018-01-09T21:47:16.823005Z"
    },
    "collapsed": true
   },
   "outputs": [],
   "source": [
    "allNYCzipcodes = dfCounties.zipcode.tolist()"
   ]
  },
  {
   "cell_type": "code",
   "execution_count": 46,
   "metadata": {
    "ExecuteTime": {
     "end_time": "2018-01-09T21:47:19.057953Z",
     "start_time": "2018-01-09T21:47:19.052030Z"
    }
   },
   "outputs": [
    {
     "data": {
      "text/plain": [
       "2205"
      ]
     },
     "execution_count": 46,
     "metadata": {},
     "output_type": "execute_result"
    }
   ],
   "source": [
    "len(allNYCzipcodes)"
   ]
  },
  {
   "cell_type": "code",
   "execution_count": 47,
   "metadata": {
    "ExecuteTime": {
     "end_time": "2018-01-09T21:47:19.662941Z",
     "start_time": "2018-01-09T21:47:19.655571Z"
    }
   },
   "outputs": [
    {
     "data": {
      "text/plain": [
       "['00501', '00544', '06390', '10001', '10002']"
      ]
     },
     "execution_count": 47,
     "metadata": {},
     "output_type": "execute_result"
    }
   ],
   "source": [
    "allNYCzipcodes[:5]"
   ]
  },
  {
   "cell_type": "code",
   "execution_count": null,
   "metadata": {
    "collapsed": true
   },
   "outputs": [],
   "source": [
    "# with open('pickled_files/zipcodes_list.pkl', 'wb') as f:\n",
    "#     pickle.dump(allNYCzipcodes, f)"
   ]
  },
  {
   "cell_type": "markdown",
   "metadata": {},
   "source": [
    "## Additional Data Sources\n",
    "### Census data - income\n",
    "Source: US Census Bureau\n",
    "\n",
    "https://factfinder.census.gov/faces/nav/jsf/pages/guided_search.xhtml"
   ]
  },
  {
   "cell_type": "code",
   "execution_count": 48,
   "metadata": {
    "ExecuteTime": {
     "end_time": "2018-01-09T21:48:15.776203Z",
     "start_time": "2018-01-09T21:48:12.634241Z"
    },
    "collapsed": true
   },
   "outputs": [],
   "source": [
    "dfIncome = pd.read_csv('../raw_data/census/ACS_15_5YR_S1901_with_ann_INCOME.csv', header=1)"
   ]
  },
  {
   "cell_type": "code",
   "execution_count": null,
   "metadata": {
    "collapsed": true
   },
   "outputs": [],
   "source": [
    "# dfIncome.head()"
   ]
  },
  {
   "cell_type": "code",
   "execution_count": 49,
   "metadata": {
    "ExecuteTime": {
     "end_time": "2018-01-09T21:48:18.140992Z",
     "start_time": "2018-01-09T21:48:18.117468Z"
    },
    "collapsed": true
   },
   "outputs": [],
   "source": [
    "def fix_income(income):\n",
    "    if income == \"**\" or income == \"N\":\n",
    "        return np.nan\n",
    "    else:\n",
    "        return int(income)"
   ]
  },
  {
   "cell_type": "code",
   "execution_count": 50,
   "metadata": {
    "ExecuteTime": {
     "end_time": "2018-01-09T21:48:21.162027Z",
     "start_time": "2018-01-09T21:48:21.105353Z"
    },
    "collapsed": true
   },
   "outputs": [],
   "source": [
    "dfIncome['median_income'] = dfIncome['Households; Margin of Error; Mean income (dollars)'].map(fix_income)"
   ]
  },
  {
   "cell_type": "code",
   "execution_count": 51,
   "metadata": {
    "ExecuteTime": {
     "end_time": "2018-01-09T21:48:23.407946Z",
     "start_time": "2018-01-09T21:48:23.360029Z"
    }
   },
   "outputs": [
    {
     "data": {
      "text/plain": [
       "count     32014.000000\n",
       "mean      10384.763728\n",
       "std       13100.047248\n",
       "min         330.000000\n",
       "25%        4703.000000\n",
       "50%        7280.500000\n",
       "75%       11780.750000\n",
       "max      820308.000000\n",
       "Name: median_income, dtype: float64"
      ]
     },
     "execution_count": 51,
     "metadata": {},
     "output_type": "execute_result"
    }
   ],
   "source": [
    "dfIncome['median_income'].describe()"
   ]
  },
  {
   "cell_type": "code",
   "execution_count": 52,
   "metadata": {
    "ExecuteTime": {
     "end_time": "2018-01-09T21:48:26.547679Z",
     "start_time": "2018-01-09T21:48:26.524581Z"
    },
    "collapsed": true
   },
   "outputs": [],
   "source": [
    "income_dict = dict(zip(dfIncome['Id2'].values, dfIncome['median_income'].values))"
   ]
  },
  {
   "cell_type": "code",
   "execution_count": 53,
   "metadata": {
    "ExecuteTime": {
     "end_time": "2018-01-09T21:48:27.856249Z",
     "start_time": "2018-01-09T21:48:27.379428Z"
    }
   },
   "outputs": [
    {
     "data": {
      "image/png": "[encoded data removed]",
      "text/plain": [
       "<matplotlib.figure.Figure at 0x179edf208>"
      ]
     },
     "metadata": {},
     "output_type": "display_data"
    }
   ],
   "source": [
    "plt.hist(dfIncome[dfIncome['median_income'] < 20000]['median_income'].dropna());"
   ]
  },
  {
   "cell_type": "code",
   "execution_count": 54,
   "metadata": {
    "ExecuteTime": {
     "end_time": "2018-01-09T21:48:28.808434Z",
     "start_time": "2018-01-09T21:48:28.800173Z"
    },
    "collapsed": true
   },
   "outputs": [],
   "source": [
    "dfIncome['log_med_income'] = np.log(dfIncome['median_income'])"
   ]
  },
  {
   "cell_type": "code",
   "execution_count": 55,
   "metadata": {
    "ExecuteTime": {
     "end_time": "2018-01-09T21:48:29.818163Z",
     "start_time": "2018-01-09T21:48:29.475810Z"
    }
   },
   "outputs": [
    {
     "data": {
      "image/png": "[encoded data removed]",
      "text/plain": [
       "<matplotlib.figure.Figure at 0x147d637b8>"
      ]
     },
     "metadata": {},
     "output_type": "display_data"
    }
   ],
   "source": [
    "plt.hist(dfIncome['log_med_income'].dropna());"
   ]
  },
  {
   "cell_type": "code",
   "execution_count": 56,
   "metadata": {
    "ExecuteTime": {
     "end_time": "2018-01-09T21:48:52.072613Z",
     "start_time": "2018-01-09T21:48:52.055165Z"
    },
    "collapsed": true
   },
   "outputs": [],
   "source": [
    "zip_med_income_dict = dict(zip(dfIncome['Id2'].values, dfIncome['median_income'].values))"
   ]
  },
  {
   "cell_type": "markdown",
   "metadata": {},
   "source": [
    "Fill blanks for zipcode 11249:"
   ]
  },
  {
   "cell_type": "code",
   "execution_count": 57,
   "metadata": {
    "ExecuteTime": {
     "end_time": "2018-01-09T21:48:58.644390Z",
     "start_time": "2018-01-09T21:48:58.639281Z"
    },
    "collapsed": true
   },
   "outputs": [],
   "source": [
    "zip_med_income_dict[11249] = zip_med_income_dict[11211]"
   ]
  },
  {
   "cell_type": "markdown",
   "metadata": {},
   "source": [
    "### Pickle zipcode:income dictionary"
   ]
  },
  {
   "cell_type": "code",
   "execution_count": 58,
   "metadata": {
    "ExecuteTime": {
     "end_time": "2018-01-09T21:49:12.142486Z",
     "start_time": "2018-01-09T21:49:12.079228Z"
    }
   },
   "outputs": [
    {
     "data": {
      "text/plain": [
       "{601: 2034.0,\n",
       " 602: 1135.0,\n",
       " 603: 1455.0,\n",
       " 606: 1563.0,\n",
       " 610: 1530.0,\n",
       " 612: 1352.0,\n",
       " 616: 2586.0,\n",
       " 617: 2043.0,\n",
       " 622: 8666.0,\n",
       " 623: 1717.0,\n",
       " 624: 1172.0,\n",
       " 627: 1763.0,\n",
       " 631: 2382.0,\n",
       " 637: 1437.0,\n",
       " 638: 1352.0,\n",
       " 641: 1137.0,\n",
       " 646: 3352.0,\n",
       " 647: 2194.0,\n",
       " 650: 1811.0,\n",
       " 652: 4624.0,\n",
       " 653: 3381.0,\n",
       " 656: 1636.0,\n",
       " 659: 1697.0,\n",
       " 660: 2438.0,\n",
       " 662: 1555.0,\n",
       " 664: 1942.0,\n",
       " 667: 1400.0,\n",
       " 669: 1589.0,\n",
       " 670: 1776.0,\n",
       " 674: 1150.0,\n",
       " 676: 1373.0,\n",
       " 677: 2001.0,\n",
       " 678: 2797.0,\n",
       " 680: 2076.0,\n",
       " 682: 3123.0,\n",
       " 683: 1932.0,\n",
       " 685: 1272.0,\n",
       " 687: 1356.0,\n",
       " 688: 1841.0,\n",
       " 690: 4465.0,\n",
       " 692: 3300.0,\n",
       " 693: 1481.0,\n",
       " 694: 2888.0,\n",
       " 698: 1268.0,\n",
       " 703: 4034.0,\n",
       " 704: 2493.0,\n",
       " 705: 1622.0,\n",
       " 707: 3381.0,\n",
       " 714: 2016.0,\n",
       " 715: 3629.0,\n",
       " 716: 2676.0,\n",
       " 717: 2850.0,\n",
       " 718: 4882.0,\n",
       " 719: 3350.0,\n",
       " 720: 1116.0,\n",
       " 723: 2586.0,\n",
       " 725: 1275.0,\n",
       " 727: 2001.0,\n",
       " 728: 1308.0,\n",
       " 729: 1637.0,\n",
       " 730: 2759.0,\n",
       " 731: 5252.0,\n",
       " 735: 3784.0,\n",
       " 736: 2889.0,\n",
       " 738: 1801.0,\n",
       " 739: 1849.0,\n",
       " 740: 4051.0,\n",
       " 741: 4033.0,\n",
       " 745: 1315.0,\n",
       " 751: 1521.0,\n",
       " 754: 2873.0,\n",
       " 757: 2036.0,\n",
       " 765: 2488.0,\n",
       " 766: 1448.0,\n",
       " 767: 1478.0,\n",
       " 769: 1769.0,\n",
       " 771: 1880.0,\n",
       " 772: 1136.0,\n",
       " 773: 1868.0,\n",
       " 775: 2982.0,\n",
       " 777: 1371.0,\n",
       " 778: 3228.0,\n",
       " 780: 6350.0,\n",
       " 782: 1702.0,\n",
       " 783: 1716.0,\n",
       " 784: 1437.0,\n",
       " 786: 5872.0,\n",
       " 791: 1871.0,\n",
       " 794: 1744.0,\n",
       " 795: 1124.0,\n",
       " 901: 9559.0,\n",
       " 906: 32967.0,\n",
       " 907: 9541.0,\n",
       " 909: 3055.0,\n",
       " 911: 5839.0,\n",
       " 912: 3962.0,\n",
       " 913: 3401.0,\n",
       " 915: 1119.0,\n",
       " 917: 2303.0,\n",
       " 918: 5723.0,\n",
       " 920: 2483.0,\n",
       " 921: 2063.0,\n",
       " 923: 1475.0,\n",
       " 924: 1689.0,\n",
       " 925: 5228.0,\n",
       " 926: 2562.0,\n",
       " 927: 8331.0,\n",
       " 934: 17637.0,\n",
       " 936: nan,\n",
       " 949: 1287.0,\n",
       " 950: nan,\n",
       " 951: nan,\n",
       " 952: 1922.0,\n",
       " 953: 1923.0,\n",
       " 956: 1042.0,\n",
       " 957: 1166.0,\n",
       " 959: 2193.0,\n",
       " 960: nan,\n",
       " 961: 2508.0,\n",
       " 962: 1740.0,\n",
       " 965: 4853.0,\n",
       " 966: 10251.0,\n",
       " 968: 8451.0,\n",
       " 969: 3480.0,\n",
       " 971: 3424.0,\n",
       " 976: 2848.0,\n",
       " 979: 4502.0,\n",
       " 982: 2723.0,\n",
       " 983: 2966.0,\n",
       " 985: 1907.0,\n",
       " 987: 1985.0,\n",
       " 1001: 4274.0,\n",
       " 1002: 4736.0,\n",
       " 1003: 78507.0,\n",
       " 1005: 12443.0,\n",
       " 1007: 6210.0,\n",
       " 1008: 5606.0,\n",
       " 1009: 11263.0,\n",
       " 1010: 8912.0,\n",
       " 1011: 7057.0,\n",
       " 1012: 11146.0,\n",
       " 1013: 2751.0,\n",
       " 1020: 4006.0,\n",
       " 1022: 6626.0,\n",
       " 1026: 5690.0,\n",
       " 1027: 6472.0,\n",
       " 1028: 5254.0,\n",
       " 1029: 12699.0,\n",
       " 1030: 4923.0,\n",
       " 1031: 11129.0,\n",
       " 1032: 12278.0,\n",
       " 1033: 14251.0,\n",
       " 1034: 6436.0,\n",
       " 1035: 13546.0,\n",
       " 1036: 10211.0,\n",
       " 1037: 13502.0,\n",
       " 1038: 9337.0,\n",
       " 1039: 12055.0,\n",
       " 1040: 2490.0,\n",
       " 1050: 6390.0,\n",
       " 1053: 17055.0,\n",
       " 1054: 9071.0,\n",
       " 1056: 5325.0,\n",
       " 1057: 5308.0,\n",
       " 1060: 7287.0,\n",
       " 1062: 11424.0,\n",
       " 1063: nan,\n",
       " 1066: nan,\n",
       " 1068: 5522.0,\n",
       " 1069: 5921.0,\n",
       " 1070: 7418.0,\n",
       " 1071: 8446.0,\n",
       " 1072: 6689.0,\n",
       " 1073: 8232.0,\n",
       " 1074: 15583.0,\n",
       " 1075: 4808.0,\n",
       " 1077: 6183.0,\n",
       " 1079: 21129.0,\n",
       " 1080: 9828.0,\n",
       " 1081: 5888.0,\n",
       " 1082: 5670.0,\n",
       " 1083: 11918.0,\n",
       " 1084: 42040.0,\n",
       " 1085: 2771.0,\n",
       " 1086: nan,\n",
       " 1088: 15236.0,\n",
       " 1089: 2893.0,\n",
       " 1092: 31124.0,\n",
       " 1093: 18632.0,\n",
       " 1094: 16540.0,\n",
       " 1095: 8032.0,\n",
       " 1096: 8367.0,\n",
       " 1097: nan,\n",
       " 1098: 6950.0,\n",
       " 1103: 6136.0,\n",
       " 1104: 4373.0,\n",
       " 1105: 4260.0,\n",
       " 1106: 11089.0,\n",
       " 1107: 3490.0,\n",
       " 1108: 3463.0,\n",
       " 1109: 2117.0,\n",
       " 1118: 4415.0,\n",
       " 1119: 5466.0,\n",
       " 1128: 15727.0,\n",
       " 1129: 5987.0,\n",
       " 1151: 3417.0,\n",
       " 1199: nan,\n",
       " 1201: 2050.0,\n",
       " 1220: 5158.0,\n",
       " 1222: 24807.0,\n",
       " 1223: 19809.0,\n",
       " 1224: 17260.0,\n",
       " 1225: 8743.0,\n",
       " 1226: 9038.0,\n",
       " 1229: 18681.0,\n",
       " 1230: 9473.0,\n",
       " 1235: 5873.0,\n",
       " 1236: 13093.0,\n",
       " 1237: 9314.0,\n",
       " 1238: 9367.0,\n",
       " 1240: 19050.0,\n",
       " 1242: 8858.0,\n",
       " 1243: 23826.0,\n",
       " 1244: 34423.0,\n",
       " 1245: 12986.0,\n",
       " 1247: 3654.0,\n",
       " 1253: 10383.0,\n",
       " 1254: 14292.0,\n",
       " 1255: 12168.0,\n",
       " 1256: 6083.0,\n",
       " 1257: 18208.0,\n",
       " 1258: 25509.0,\n",
       " 1259: 20775.0,\n",
       " 1260: 32265.0,\n",
       " 1262: 14623.0,\n",
       " 1264: 50163.0,\n",
       " 1266: 15312.0,\n",
       " 1267: 7300.0,\n",
       " 1270: 9998.0,\n",
       " 1301: 4687.0,\n",
       " 1330: 10748.0,\n",
       " 1331: 3292.0,\n",
       " 1337: 4979.0,\n",
       " 1338: 26901.0,\n",
       " 1339: 9108.0,\n",
       " 1340: 8074.0,\n",
       " 1341: 10899.0,\n",
       " 1342: 26606.0,\n",
       " 1343: 16688.0,\n",
       " 1344: 5200.0,\n",
       " 1346: 13623.0,\n",
       " 1347: 8187.0,\n",
       " 1349: 13605.0,\n",
       " 1350: 10573.0,\n",
       " 1351: 11072.0,\n",
       " 1354: 6243.0,\n",
       " 1355: 7347.0,\n",
       " 1360: 5651.0,\n",
       " 1364: 3792.0,\n",
       " 1366: 8065.0,\n",
       " 1367: 15237.0,\n",
       " 1368: 7789.0,\n",
       " 1370: 17331.0,\n",
       " 1373: 7369.0,\n",
       " 1375: 22558.0,\n",
       " 1376: 6658.0,\n",
       " 1378: 5816.0,\n",
       " 1379: 18879.0,\n",
       " 1420: 2254.0,\n",
       " 1430: 12385.0,\n",
       " 1431: 6977.0,\n",
       " 1432: 7735.0,\n",
       " 1434: 27058.0,\n",
       " 1436: 10887.0,\n",
       " 1438: 22444.0,\n",
       " 1440: 4126.0,\n",
       " 1450: 11891.0,\n",
       " 1451: 18644.0,\n",
       " 1452: 6980.0,\n",
       " 1453: 3827.0,\n",
       " 1460: 11330.0,\n",
       " 1462: 7827.0,\n",
       " 1463: 6753.0,\n",
       " 1464: 11394.0,\n",
       " 1467: 75458.0,\n",
       " 1468: 9866.0,\n",
       " 1469: 9221.0,\n",
       " 1473: 7356.0,\n",
       " 1474: 29560.0,\n",
       " 1475: 6756.0,\n",
       " 1501: 3430.0,\n",
       " 1503: 11795.0,\n",
       " 1504: 5529.0,\n",
       " 1505: 14015.0,\n",
       " 1506: 8702.0,\n",
       " 1507: 6751.0,\n",
       " 1510: 4601.0,\n",
       " 1515: 10289.0,\n",
       " 1516: 7332.0,\n",
       " 1518: 18897.0,\n",
       " 1519: 12310.0,\n",
       " 1520: 5202.0,\n",
       " 1521: 7455.0,\n",
       " 1522: 14728.0,\n",
       " 1523: 20477.0,\n",
       " 1524: 6488.0,\n",
       " 1525: 26987.0,\n",
       " 1527: 5383.0,\n",
       " 1529: 7257.0,\n",
       " 1531: 14688.0,\n",
       " 1532: 7788.0,\n",
       " 1534: 17983.0,\n",
       " 1535: 6817.0,\n",
       " 1536: 11105.0,\n",
       " 1537: 10964.0,\n",
       " 1540: 5954.0,\n",
       " 1541: 16671.0,\n",
       " 1542: 10884.0,\n",
       " 1543: 8097.0,\n",
       " 1545: 4782.0,\n",
       " 1550: 2994.0,\n",
       " 1560: 8911.0,\n",
       " 1561: 16034.0,\n",
       " 1562: 6233.0,\n",
       " 1564: 13835.0,\n",
       " 1566: 16147.0,\n",
       " 1568: 9045.0,\n",
       " 1569: 5669.0,\n",
       " 1570: 3970.0,\n",
       " 1571: 6364.0,\n",
       " 1581: 5386.0,\n",
       " 1583: 7949.0,\n",
       " 1585: 16821.0,\n",
       " 1588: 7702.0,\n",
       " 1590: 8531.0,\n",
       " 1602: 4113.0,\n",
       " 1603: 4592.0,\n",
       " 1604: 3149.0,\n",
       " 1605: 3601.0,\n",
       " 1606: 5626.0,\n",
       " 1607: 5937.0,\n",
       " 1608: 3503.0,\n",
       " 1609: 7815.0,\n",
       " 1610: 2975.0,\n",
       " 1611: 12780.0,\n",
       " 1612: 10213.0,\n",
       " 1701: 4632.0,\n",
       " 1702: 3491.0,\n",
       " 1718: 29441.0,\n",
       " 1719: 13424.0,\n",
       " 1720: 7447.0,\n",
       " 1721: 7373.0,\n",
       " 1730: 10891.0,\n",
       " 1731: 8061.0,\n",
       " 1740: 14656.0,\n",
       " 1741: 30812.0,\n",
       " 1742: 16790.0,\n",
       " 1745: 27841.0,\n",
       " 1746: 6313.0,\n",
       " 1747: 9056.0,\n",
       " 1748: 11261.0,\n",
       " 1749: 4234.0,\n",
       " 1752: 3849.0,\n",
       " 1754: 11218.0,\n",
       " 1756: 13118.0,\n",
       " 1757: 4087.0,\n",
       " 1760: 6391.0,\n",
       " 1770: 26743.0,\n",
       " 1772: 13871.0,\n",
       " 1773: 36173.0,\n",
       " 1775: 11257.0,\n",
       " 1776: 15634.0,\n",
       " 1778: 13672.0,\n",
       " 1801: 3163.0,\n",
       " 1803: 5784.0,\n",
       " 1810: 8965.0,\n",
       " 1821: 6546.0,\n",
       " 1824: 5745.0,\n",
       " 1826: 4091.0,\n",
       " 1827: 10213.0,\n",
       " 1830: 4981.0,\n",
       " 1832: 3831.0,\n",
       " 1833: 10810.0,\n",
       " 1834: 11100.0,\n",
       " 1835: 4993.0,\n",
       " 1840: 5202.0,\n",
       " 1841: 2416.0,\n",
       " 1843: 3400.0,\n",
       " 1844: 2219.0,\n",
       " 1845: 5932.0,\n",
       " 1850: 5935.0,\n",
       " 1851: 2961.0,\n",
       " 1852: 2840.0,\n",
       " 1854: 2997.0,\n",
       " 1860: 9937.0,\n",
       " 1862: 6063.0,\n",
       " 1863: 7999.0,\n",
       " 1864: 9337.0,\n",
       " 1867: 8378.0,\n",
       " 1876: 4988.0,\n",
       " 1879: 8021.0,\n",
       " 1880: 4501.0,\n",
       " 1886: 7751.0,\n",
       " 1887: 6441.0,\n",
       " 1890: 9667.0,\n",
       " 1901: 6036.0,\n",
       " 1902: 3412.0,\n",
       " 1904: 5299.0,\n",
       " 1905: 3445.0,\n",
       " 1906: 4430.0,\n",
       " 1907: 11704.0,\n",
       " 1908: 16161.0,\n",
       " 1913: 7707.0,\n",
       " 1915: 6378.0,\n",
       " 1921: 21220.0,\n",
       " 1922: 13908.0,\n",
       " 1923: 4533.0,\n",
       " 1929: 15241.0,\n",
       " 1930: 6235.0,\n",
       " 1937: nan,\n",
       " 1938: 6666.0,\n",
       " 1940: 10469.0,\n",
       " 1944: 28334.0,\n",
       " 1945: 8975.0,\n",
       " 1949: 16641.0,\n",
       " 1950: 8439.0,\n",
       " 1951: 17047.0,\n",
       " 1952: 5638.0,\n",
       " 1960: 3310.0,\n",
       " 1966: 12780.0,\n",
       " 1969: 16926.0,\n",
       " 1970: 3079.0,\n",
       " 1982: 10211.0,\n",
       " 1983: 17372.0,\n",
       " 1984: 17903.0,\n",
       " 1985: 19480.0,\n",
       " 2019: 8362.0,\n",
       " 2021: 7407.0,\n",
       " 2025: 26325.0,\n",
       " 2026: 5691.0,\n",
       " 2030: 30610.0,\n",
       " 2032: 19361.0,\n",
       " 2035: 9827.0,\n",
       " 2038: 5913.0,\n",
       " 2043: 13737.0,\n",
       " 2045: 7063.0,\n",
       " 2047: 5171.0,\n",
       " 2048: 8291.0,\n",
       " 2050: 6212.0,\n",
       " 2052: 16153.0,\n",
       " 2053: 9849.0,\n",
       " 2054: 13262.0,\n",
       " 2056: 9303.0,\n",
       " 2061: 11019.0,\n",
       " 2062: 5605.0,\n",
       " 2066: 9413.0,\n",
       " 2067: 11759.0,\n",
       " 2071: 41422.0,\n",
       " 2072: 3242.0,\n",
       " 2081: 9452.0,\n",
       " 2090: 14933.0,\n",
       " 2093: 8313.0,\n",
       " 2108: 42103.0,\n",
       " 2109: 25226.0,\n",
       " 2110: 62051.0,\n",
       " 2111: 30684.0,\n",
       " 2113: 8220.0,\n",
       " 2114: 10990.0,\n",
       " 2115: 4883.0,\n",
       " 2116: 11612.0,\n",
       " 2118: 8529.0,\n",
       " 2119: 2872.0,\n",
       " 2120: 5194.0,\n",
       " 2121: 3391.0,\n",
       " 2122: 5777.0,\n",
       " 2124: 3318.0,\n",
       " 2125: 3036.0,\n",
       " 2126: 2980.0,\n",
       " 2127: 4762.0,\n",
       " 2128: 2970.0,\n",
       " 2129: 8477.0,\n",
       " 2130: 4919.0,\n",
       " 2131: 4752.0,\n",
       " 2132: 4279.0,\n",
       " 2134: 6501.0,\n",
       " 2135: 3137.0,\n",
       " 2136: 4106.0,\n",
       " 2138: 8299.0,\n",
       " 2139: 6788.0,\n",
       " 2140: 9711.0,\n",
       " 2141: 6042.0,\n",
       " 2142: 26624.0,\n",
       " 2143: 3970.0,\n",
       " 2144: 4946.0,\n",
       " 2145: 4697.0,\n",
       " 2148: 2367.0,\n",
       " 2149: 3879.0,\n",
       " 2150: 3887.0,\n",
       " 2151: 3962.0,\n",
       " 2152: 5633.0,\n",
       " 2155: 4058.0,\n",
       " 2163: 10140.0,\n",
       " 2169: 3196.0,\n",
       " 2170: 4459.0,\n",
       " 2171: 4681.0,\n",
       " 2176: 6070.0,\n",
       " 2180: 4556.0,\n",
       " 2184: 4178.0,\n",
       " 2186: 8102.0,\n",
       " 2188: 8009.0,\n",
       " 2189: 5179.0,\n",
       " 2190: 5048.0,\n",
       " 2191: 5486.0,\n",
       " 2199: 75845.0,\n",
       " 2203: nan,\n",
       " 2210: 23478.0,\n",
       " 2215: 6646.0,\n",
       " 2301: 2254.0,\n",
       " 2302: 3603.0,\n",
       " 2322: 7645.0,\n",
       " 2324: 12484.0,\n",
       " 2330: 5900.0,\n",
       " 2332: 10639.0,\n",
       " 2333: 6604.0,\n",
       " 2338: 12049.0,\n",
       " 2339: 13372.0,\n",
       " 2341: 4705.0,\n",
       " 2343: 8517.0,\n",
       " 2346: 5213.0,\n",
       " 2347: 8064.0,\n",
       " 2351: 6717.0,\n",
       " 2356: 11258.0,\n",
       " 2357: nan,\n",
       " 2359: 7327.0,\n",
       " 2360: 3218.0,\n",
       " 2364: 6480.0,\n",
       " 2366: nan,\n",
       " 2367: 9007.0,\n",
       " 2368: 4550.0,\n",
       " 2370: 5976.0,\n",
       " 2375: 9096.0,\n",
       " 2379: 6446.0,\n",
       " 2382: 4079.0,\n",
       " 2420: 11975.0,\n",
       " 2421: 11903.0,\n",
       " 2445: 10172.0,\n",
       " 2446: 8701.0,\n",
       " 2451: 8038.0,\n",
       " 2452: 6240.0,\n",
       " 2453: 4284.0,\n",
       " 2457: nan,\n",
       " 2458: 13672.0,\n",
       " 2459: 14160.0,\n",
       " 2460: 13792.0,\n",
       " 2461: 13824.0,\n",
       " 2462: 36798.0,\n",
       " 2464: 21176.0,\n",
       " 2465: 17827.0,\n",
       " 2466: 12986.0,\n",
       " 2467: 19188.0,\n",
       " 2468: 21412.0,\n",
       " 2472: 5442.0,\n",
       " 2474: 6924.0,\n",
       " 2476: 7660.0,\n",
       " 2478: 6875.0,\n",
       " 2481: 24872.0,\n",
       " 2482: 16960.0,\n",
       " 2492: 12181.0,\n",
       " 2493: 30791.0,\n",
       " 2494: 11469.0,\n",
       " 2532: 5860.0,\n",
       " 2534: 18564.0,\n",
       " 2535: 28807.0,\n",
       " 2536: 5349.0,\n",
       " 2537: 9253.0,\n",
       " 2538: 8407.0,\n",
       " 2539: 34316.0,\n",
       " 2540: 10011.0,\n",
       " 2542: 6202.0,\n",
       " 2543: 32552.0,\n",
       " 2553: 23834.0,\n",
       " 2554: 9781.0,\n",
       " 2556: 18971.0,\n",
       " 2557: 13063.0,\n",
       " 2558: 23911.0,\n",
       " 2559: 11304.0,\n",
       " 2561: 23412.0,\n",
       " 2562: 14837.0,\n",
       " 2563: 5774.0,\n",
       " 2564: 34965.0,\n",
       " 2568: 17555.0,\n",
       " 2571: 5367.0,\n",
       " 2575: 17200.0,\n",
       " 2576: 8900.0,\n",
       " 2584: nan,\n",
       " 2601: 3929.0,\n",
       " 2630: 34102.0,\n",
       " 2631: 8181.0,\n",
       " 2632: 6487.0,\n",
       " 2633: 22484.0,\n",
       " 2635: 21242.0,\n",
       " 2637: 142627.0,\n",
       " 2638: 13179.0,\n",
       " 2639: 8790.0,\n",
       " 2641: 55342.0,\n",
       " 2642: 10454.0,\n",
       " 2643: nan,\n",
       " 2644: 14559.0,\n",
       " 2645: 9995.0,\n",
       " 2646: 28602.0,\n",
       " 2647: 62698.0,\n",
       " 2648: 9405.0,\n",
       " 2649: 4837.0,\n",
       " 2650: 19824.0,\n",
       " 2651: nan,\n",
       " 2652: 21033.0,\n",
       " 2653: 10869.0,\n",
       " 2655: 24080.0,\n",
       " 2657: 8530.0,\n",
       " 2659: 20080.0,\n",
       " 2660: 8713.0,\n",
       " 2663: 12867.0,\n",
       " 2664: 5607.0,\n",
       " 2666: 17995.0,\n",
       " 2667: 14516.0,\n",
       " 2668: 15833.0,\n",
       " 2669: 43955.0,\n",
       " 2670: 18248.0,\n",
       " 2671: 14461.0,\n",
       " 2672: 90632.0,\n",
       " 2673: 6328.0,\n",
       " 2675: 9521.0,\n",
       " 2702: 9204.0,\n",
       " 2703: 3690.0,\n",
       " 2713: 50871.0,\n",
       " 2715: 14593.0,\n",
       " 2717: 8209.0,\n",
       " 2718: 7493.0,\n",
       " 2719: 4169.0,\n",
       " 2720: 2205.0,\n",
       " 2721: 3952.0,\n",
       " 2723: 2814.0,\n",
       " 2724: 3735.0,\n",
       " 2725: 12016.0,\n",
       " 2726: 4467.0,\n",
       " 2738: 16071.0,\n",
       " 2739: 21461.0,\n",
       " 2740: 2276.0,\n",
       " 2743: 6296.0,\n",
       " 2744: 3542.0,\n",
       " 2745: 2580.0,\n",
       " 2746: 3441.0,\n",
       " 2747: 5092.0,\n",
       " 2748: 10651.0,\n",
       " 2760: 4686.0,\n",
       " 2762: 10343.0,\n",
       " 2763: 14551.0,\n",
       " 2764: 11299.0,\n",
       " 2766: 4703.0,\n",
       " 2767: 5841.0,\n",
       " 2769: 7907.0,\n",
       " 2770: 9022.0,\n",
       " 2771: 6792.0,\n",
       " 2777: 7276.0,\n",
       " 2779: 10597.0,\n",
       " 2780: 2411.0,\n",
       " 2790: 5088.0,\n",
       " 2791: 41861.0,\n",
       " 2802: 26379.0,\n",
       " 2804: 10145.0,\n",
       " 2806: 9360.0,\n",
       " 2807: 12787.0,\n",
       " 2808: 9889.0,\n",
       " 2809: 4512.0,\n",
       " 2812: 23126.0,\n",
       " 2813: 11104.0,\n",
       " 2814: 8165.0,\n",
       " 2815: 65713.0,\n",
       " 2816: 3182.0,\n",
       " 2817: 9968.0,\n",
       " 2818: 10300.0,\n",
       " 2822: 11102.0,\n",
       " 2825: 11164.0,\n",
       " 2826: 33638.0,\n",
       " 2827: 13486.0,\n",
       " 2828: 7460.0,\n",
       " 2830: 12578.0,\n",
       " 2831: 10522.0,\n",
       " 2832: 10169.0,\n",
       " 2833: 23804.0,\n",
       " 2835: 16275.0,\n",
       " 2836: 50114.0,\n",
       " 2837: 12608.0,\n",
       " 2838: 35286.0,\n",
       " 2839: 14293.0,\n",
       " 2840: 7118.0,\n",
       " 2841: nan,\n",
       " 2842: 5612.0,\n",
       " 2852: 4785.0,\n",
       " 2857: 11239.0,\n",
       " 2858: 96280.0,\n",
       " 2859: 9498.0,\n",
       " 2860: 2473.0,\n",
       " 2861: 2054.0,\n",
       " 2863: 2997.0,\n",
       " 2864: 4439.0,\n",
       " 2865: 8086.0,\n",
       " 2871: 7862.0,\n",
       " 2872: 44816.0,\n",
       " 2873: 48759.0,\n",
       " 2874: 12509.0,\n",
       " 2875: 21968.0,\n",
       " 2876: 25709.0,\n",
       " 2878: 4891.0,\n",
       " 2879: 5276.0,\n",
       " 2881: 12128.0,\n",
       " 2882: 5973.0,\n",
       " 2885: 4633.0,\n",
       " 2886: 4295.0,\n",
       " 2888: 4604.0,\n",
       " 2889: 2909.0,\n",
       " 2891: 5446.0,\n",
       " 2892: 15069.0,\n",
       " 2893: 3198.0,\n",
       " 2894: 23722.0,\n",
       " 2895: 2098.0,\n",
       " 2896: 9114.0,\n",
       " 2898: 10969.0,\n",
       " 2903: 6411.0,\n",
       " 2904: 3759.0,\n",
       " 2905: 3365.0,\n",
       " 2906: 8937.0,\n",
       " 2907: 3629.0,\n",
       " 2908: 3143.0,\n",
       " 2909: 2099.0,\n",
       " 2910: 3889.0,\n",
       " 2911: 5011.0,\n",
       " 2912: nan,\n",
       " 2914: 3640.0,\n",
       " 2915: 4069.0,\n",
       " 2916: 5561.0,\n",
       " 2917: 6154.0,\n",
       " 2919: 4697.0,\n",
       " 2920: 2979.0,\n",
       " 2921: 10238.0,\n",
       " 3031: 7719.0,\n",
       " 3032: 7188.0,\n",
       " 3033: 10161.0,\n",
       " 3034: 11731.0,\n",
       " 3036: 13797.0,\n",
       " 3037: 13200.0,\n",
       " 3038: 3197.0,\n",
       " 3042: 8207.0,\n",
       " 3043: 8863.0,\n",
       " 3044: 13015.0,\n",
       " 3045: 8731.0,\n",
       " 3046: 11446.0,\n",
       " 3047: 7776.0,\n",
       " 3048: 6144.0,\n",
       " 3049: 11605.0,\n",
       " 3051: 7785.0,\n",
       " 3052: 8790.0,\n",
       " 3053: 5363.0,\n",
       " 3054: 4879.0,\n",
       " 3055: 4643.0,\n",
       " 3057: 10696.0,\n",
       " 3060: 2886.0,\n",
       " 3062: 4083.0,\n",
       " 3063: 5192.0,\n",
       " 3064: 6119.0,\n",
       " 3070: 8537.0,\n",
       " 3071: 11270.0,\n",
       " 3076: 5947.0,\n",
       " 3077: 5900.0,\n",
       " 3079: 5933.0,\n",
       " 3082: 10767.0,\n",
       " 3084: 9623.0,\n",
       " 3086: 9710.0,\n",
       " 3087: 12361.0,\n",
       " 3101: 15397.0,\n",
       " 3102: 4021.0,\n",
       " 3103: 2422.0,\n",
       " 3104: 2874.0,\n",
       " 3106: 6449.0,\n",
       " 3109: 6914.0,\n",
       " 3110: 13628.0,\n",
       " 3215: 28758.0,\n",
       " 3216: 7868.0,\n",
       " 3217: 5548.0,\n",
       " 3218: 20406.0,\n",
       " 3220: 5568.0,\n",
       " 3221: 6731.0,\n",
       " 3222: 3935.0,\n",
       " 3223: 43541.0,\n",
       " 3224: 9822.0,\n",
       " 3225: 9964.0,\n",
       " 3226: 13006.0,\n",
       " 3227: 9551.0,\n",
       " 3229: 11536.0,\n",
       " 3230: 5506.0,\n",
       " 3231: 23599.0,\n",
       " 3233: 29821.0,\n",
       " 3234: 6852.0,\n",
       " 3235: 4298.0,\n",
       " 3237: 10248.0,\n",
       " 3238: 13824.0,\n",
       " 3240: 11409.0,\n",
       " 3241: 18147.0,\n",
       " 3242: 7845.0,\n",
       " 3243: 6291.0,\n",
       " 3244: 8247.0,\n",
       " 3245: 15698.0,\n",
       " 3246: 4716.0,\n",
       " 3249: 10941.0,\n",
       " 3251: 8356.0,\n",
       " 3253: 9089.0,\n",
       " 3254: 29181.0,\n",
       " 3255: 10536.0,\n",
       " 3256: 6280.0,\n",
       " 3257: 10843.0,\n",
       " 3258: 10025.0,\n",
       " 3259: 18605.0,\n",
       " 3260: 14139.0,\n",
       " 3261: 7525.0,\n",
       " 3262: 12513.0,\n",
       " 3263: 7710.0,\n",
       " 3264: 8885.0,\n",
       " 3266: 8371.0,\n",
       " 3268: 31780.0,\n",
       " 3269: 9930.0,\n",
       " 3273: 14052.0,\n",
       " 3275: 6740.0,\n",
       " 3276: 4936.0,\n",
       " 3278: 10577.0,\n",
       " 3279: 6869.0,\n",
       " 3280: 19625.0,\n",
       " 3281: 11505.0,\n",
       " 3282: 11214.0,\n",
       " 3284: 7537.0,\n",
       " 3285: 6594.0,\n",
       " 3287: 9276.0,\n",
       " 3290: 8361.0,\n",
       " 3291: nan,\n",
       " 3293: 13783.0,\n",
       " 3301: 3079.0,\n",
       " 3303: 4977.0,\n",
       " 3304: 7111.0,\n",
       " 3307: 9573.0,\n",
       " 3431: 4729.0,\n",
       " 3440: 7122.0,\n",
       " 3441: 20409.0,\n",
       " 3442: 6131.0,\n",
       " 3443: 12420.0,\n",
       " 3444: 7682.0,\n",
       " 3445: 14983.0,\n",
       " 3446: 17535.0,\n",
       " 3447: 9882.0,\n",
       " 3448: 6459.0,\n",
       " 3449: 15690.0,\n",
       " 3450: 7975.0,\n",
       " 3451: 4664.0,\n",
       " 3452: 8125.0,\n",
       " 3455: 6759.0,\n",
       " 3456: 7008.0,\n",
       " 3457: 14033.0,\n",
       " 3458: 9408.0,\n",
       " 3461: 10830.0,\n",
       " 3462: 25008.0,\n",
       " 3464: 7618.0,\n",
       " 3465: 11413.0,\n",
       " 3466: 19438.0,\n",
       " 3467: 8868.0,\n",
       " 3470: 4422.0,\n",
       " 3561: 7115.0,\n",
       " 3570: 4202.0,\n",
       " 3574: 10133.0,\n",
       " 3575: 18574.0,\n",
       " 3576: 3705.0,\n",
       " 3579: 11313.0,\n",
       " 3580: 14222.0,\n",
       " 3581: 7067.0,\n",
       " 3582: 4450.0,\n",
       " 3583: 6166.0,\n",
       " 3584: 6209.0,\n",
       " 3585: 5627.0,\n",
       " 3586: 10608.0,\n",
       " 3588: 7485.0,\n",
       " 3590: 14129.0,\n",
       " 3592: 9959.0,\n",
       " 3593: 12494.0,\n",
       " 3595: 18630.0,\n",
       " 3597: 10019.0,\n",
       " 3598: 4552.0,\n",
       " 3601: 11809.0,\n",
       " 3602: 7599.0,\n",
       " 3603: 6560.0,\n",
       " 3604: 23983.0,\n",
       " 3605: 10733.0,\n",
       " 3607: 13188.0,\n",
       " 3608: 18045.0,\n",
       " 3609: 12122.0,\n",
       " 3740: 11048.0,\n",
       " 3741: 7335.0,\n",
       " 3743: 3485.0,\n",
       " 3745: 6646.0,\n",
       " 3746: 37603.0,\n",
       " 3748: 15668.0,\n",
       " 3750: 28193.0,\n",
       " 3751: 18392.0,\n",
       " 3752: 9172.0,\n",
       " 3753: 13443.0,\n",
       " 3754: nan,\n",
       " 3755: 14715.0,\n",
       " 3765: 11475.0,\n",
       " 3766: 6002.0,\n",
       " 3768: 27060.0,\n",
       " 3770: 18966.0,\n",
       " 3771: 6285.0,\n",
       " 3773: 5163.0,\n",
       " 3774: 9918.0,\n",
       " 3777: 11729.0,\n",
       " 3779: 16436.0,\n",
       " 3780: 21985.0,\n",
       " 3781: 10815.0,\n",
       " 3782: 11478.0,\n",
       " 3784: 13519.0,\n",
       " 3785: 6206.0,\n",
       " 3801: 4903.0,\n",
       " 3809: 10491.0,\n",
       " 3810: 10722.0,\n",
       " 3811: 10090.0,\n",
       " 3812: 10519.0,\n",
       " 3813: 5304.0,\n",
       " 3814: 11653.0,\n",
       " 3816: 14988.0,\n",
       " 3817: 20447.0,\n",
       " 3818: 5828.0,\n",
       " 3819: 7008.0,\n",
       " 3820: 3554.0,\n",
       " 3823: 14020.0,\n",
       " 3824: 9305.0,\n",
       " 3825: 10821.0,\n",
       " 3826: 9954.0,\n",
       " 3827: 9581.0,\n",
       " 3830: 9169.0,\n",
       " 3832: 24740.0,\n",
       " 3833: 5810.0,\n",
       " 3835: 9401.0,\n",
       " 3836: 6193.0,\n",
       " 3837: 15075.0,\n",
       " 3838: 19492.0,\n",
       " 3839: 9290.0,\n",
       " 3840: 22728.0,\n",
       " 3841: 10377.0,\n",
       " 3842: 6326.0,\n",
       " 3844: 24568.0,\n",
       " 3845: 34471.0,\n",
       " 3846: 15591.0,\n",
       " 3847: 19391.0,\n",
       " 3848: 25890.0,\n",
       " 3849: 22301.0,\n",
       " 3850: 21717.0,\n",
       " 3851: 42076.0,\n",
       " 3852: 19764.0,\n",
       " 3853: 21196.0,\n",
       " 3854: 57688.0,\n",
       " 3855: 8718.0,\n",
       " 3856: 20961.0,\n",
       " 3857: 5834.0,\n",
       " 3858: 9122.0,\n",
       " 3860: 8451.0,\n",
       " 3861: 9719.0,\n",
       " 3862: 30914.0,\n",
       " 3864: 12751.0,\n",
       " 3865: 8723.0,\n",
       " 3867: 2829.0,\n",
       " 3868: 6649.0,\n",
       " 3869: 10218.0,\n",
       " 3870: 25216.0,\n",
       " 3871: nan,\n",
       " 3872: 11583.0,\n",
       " 3873: 13405.0,\n",
       " 3874: 5743.0,\n",
       " 3875: 16867.0,\n",
       " 3878: 4910.0,\n",
       " 3882: 7629.0,\n",
       " 3883: 39973.0,\n",
       " 3884: 12186.0,\n",
       " 3885: 15644.0,\n",
       " 3886: 18486.0,\n",
       " 3887: 12907.0,\n",
       " 3890: 18457.0,\n",
       " 3894: 11174.0,\n",
       " 3901: 7750.0,\n",
       " 3902: 18911.0,\n",
       " 3903: 7717.0,\n",
       " 3904: 5862.0,\n",
       " 3905: 14555.0,\n",
       " 3906: 5298.0,\n",
       " 3907: 16216.0,\n",
       " ...}"
      ]
     },
     "execution_count": 58,
     "metadata": {},
     "output_type": "execute_result"
    }
   ],
   "source": [
    "zip_med_income_dict"
   ]
  },
  {
   "cell_type": "code",
   "execution_count": 59,
   "metadata": {
    "ExecuteTime": {
     "end_time": "2018-01-09T21:49:12.850089Z",
     "start_time": "2018-01-09T21:49:12.843317Z"
    }
   },
   "outputs": [
    {
     "data": {
      "text/plain": [
       "33121"
      ]
     },
     "execution_count": 59,
     "metadata": {},
     "output_type": "execute_result"
    }
   ],
   "source": [
    "len(zip_med_income_dict)"
   ]
  },
  {
   "cell_type": "markdown",
   "metadata": {},
   "source": [
    "Pickle the dictionary:"
   ]
  },
  {
   "cell_type": "code",
   "execution_count": null,
   "metadata": {
    "collapsed": true
   },
   "outputs": [],
   "source": [
    "# dict_filename = 'pickled_models/zipcode_income.pkl'\n",
    "\n",
    "# with open(dict_filename, 'wb') as handle:\n",
    "#     pickle.dump(zip_med_income_dict, handle, protocol=pickle.HIGHEST_PROTOCOL)"
   ]
  },
  {
   "cell_type": "markdown",
   "metadata": {},
   "source": [
    "### Market Rental data\n",
    "Source: US Census Bureau\n",
    "\n",
    "https://factfinder.census.gov/faces/nav/jsf/pages/guided_search.xhtml"
   ]
  },
  {
   "cell_type": "code",
   "execution_count": 60,
   "metadata": {
    "ExecuteTime": {
     "end_time": "2018-01-09T21:49:58.655042Z",
     "start_time": "2018-01-09T21:49:58.639795Z"
    },
    "collapsed": true
   },
   "outputs": [],
   "source": [
    "dfRent = pd.read_csv('../raw_data/census/ACS_15_5YR_B25058_with_ann_RENT.csv', header=1)"
   ]
  },
  {
   "cell_type": "code",
   "execution_count": null,
   "metadata": {
    "collapsed": true,
    "scrolled": true
   },
   "outputs": [],
   "source": [
    "# dfRent.head()"
   ]
  },
  {
   "cell_type": "code",
   "execution_count": 61,
   "metadata": {
    "ExecuteTime": {
     "end_time": "2018-01-09T21:50:13.252569Z",
     "start_time": "2018-01-09T21:50:13.242278Z"
    },
    "collapsed": true
   },
   "outputs": [],
   "source": [
    "def fix_rent(rent):\n",
    "    if rent == \"-\":\n",
    "        return np.nan\n",
    "    else:\n",
    "        return int(rent)"
   ]
  },
  {
   "cell_type": "code",
   "execution_count": 62,
   "metadata": {
    "ExecuteTime": {
     "end_time": "2018-01-09T21:50:13.968193Z",
     "start_time": "2018-01-09T21:50:13.961830Z"
    },
    "collapsed": true
   },
   "outputs": [],
   "source": [
    "dfRent['median_rent'] = dfRent['Estimate; Median contract rent'].map(fix_rent)"
   ]
  },
  {
   "cell_type": "code",
   "execution_count": 63,
   "metadata": {
    "ExecuteTime": {
     "end_time": "2018-01-09T21:50:16.802549Z",
     "start_time": "2018-01-09T21:50:16.361063Z"
    },
    "scrolled": true
   },
   "outputs": [
    {
     "data": {
      "image/png": "[encoded data removed]",
      "text/plain": [
       "<matplotlib.figure.Figure at 0x123ffc7b8>"
      ]
     },
     "metadata": {},
     "output_type": "display_data"
    }
   ],
   "source": [
    "plt.hist(dfRent['median_rent'].dropna());"
   ]
  },
  {
   "cell_type": "code",
   "execution_count": 64,
   "metadata": {
    "ExecuteTime": {
     "end_time": "2018-01-09T21:50:20.399797Z",
     "start_time": "2018-01-09T21:50:20.392848Z"
    },
    "collapsed": true
   },
   "outputs": [],
   "source": [
    "dfRent['log_med_rent'] = np.log(dfRent['median_rent'])"
   ]
  },
  {
   "cell_type": "code",
   "execution_count": 65,
   "metadata": {
    "ExecuteTime": {
     "end_time": "2018-01-09T21:50:21.403354Z",
     "start_time": "2018-01-09T21:50:21.121216Z"
    },
    "scrolled": true
   },
   "outputs": [
    {
     "data": {
      "image/png": "[encoded data removed]",
      "text/plain": [
       "<matplotlib.figure.Figure at 0x123e853c8>"
      ]
     },
     "metadata": {},
     "output_type": "display_data"
    }
   ],
   "source": [
    "plt.hist(dfRent['log_med_rent'].dropna());"
   ]
  },
  {
   "cell_type": "code",
   "execution_count": 66,
   "metadata": {
    "ExecuteTime": {
     "end_time": "2018-01-09T21:50:34.657687Z",
     "start_time": "2018-01-09T21:50:34.651762Z"
    },
    "collapsed": true
   },
   "outputs": [],
   "source": [
    "zip_median_rent_dict = dict(zip(dfRent['Id2'].values, dfRent['median_rent'].values))"
   ]
  },
  {
   "cell_type": "markdown",
   "metadata": {},
   "source": [
    "Fill blanks for zipcode 11249:"
   ]
  },
  {
   "cell_type": "code",
   "execution_count": 67,
   "metadata": {
    "ExecuteTime": {
     "end_time": "2018-01-09T21:50:39.933868Z",
     "start_time": "2018-01-09T21:50:39.929853Z"
    },
    "collapsed": true
   },
   "outputs": [],
   "source": [
    "zip_median_rent_dict[11249] = zip_median_rent_dict[11211]"
   ]
  },
  {
   "cell_type": "markdown",
   "metadata": {},
   "source": [
    "### Merge income & rent data into listings dataframes"
   ]
  },
  {
   "cell_type": "markdown",
   "metadata": {},
   "source": [
    "Fill NaN in 'zipcode' column"
   ]
  },
  {
   "cell_type": "code",
   "execution_count": 68,
   "metadata": {
    "ExecuteTime": {
     "end_time": "2018-01-09T21:50:45.610555Z",
     "start_time": "2018-01-09T21:50:45.573732Z"
    }
   },
   "outputs": [
    {
     "name": "stdout",
     "output_type": "stream",
     "text": [
      "548\n",
      "585\n",
      "619\n",
      "606\n",
      "633\n",
      "624\n",
      "612\n",
      "610\n",
      "613\n",
      "632\n",
      "576\n",
      "608\n"
     ]
    }
   ],
   "source": [
    "print(dfNov2016.zipcode.isnull().sum())\n",
    "print(dfDec2016.zipcode.isnull().sum())\n",
    "print(dfJan2017.zipcode.isnull().sum())\n",
    "print(dfFeb2017.zipcode.isnull().sum())\n",
    "print(dfMar2017.zipcode.isnull().sum())\n",
    "print(dfApr2017.zipcode.isnull().sum())\n",
    "print(dfMay2017.zipcode.isnull().sum())\n",
    "print(dfJun2017.zipcode.isnull().sum())\n",
    "print(dfJul2017.zipcode.isnull().sum())\n",
    "print(dfAug2017.zipcode.isnull().sum())\n",
    "print(dfSep2017.zipcode.isnull().sum())\n",
    "print(dfOct2017.zipcode.isnull().sum())"
   ]
  },
  {
   "cell_type": "code",
   "execution_count": 69,
   "metadata": {
    "ExecuteTime": {
     "end_time": "2018-01-09T21:50:50.114974Z",
     "start_time": "2018-01-09T21:50:49.650132Z"
    },
    "collapsed": true
   },
   "outputs": [],
   "source": [
    "dfNov2016.zipcode = dfNov2016.zipcode.fillna(dfNov2016.city.map(city_zip_dict))\n",
    "dfDec2016.zipcode = dfDec2016.zipcode.fillna(dfDec2016.city.map(city_zip_dict))\n",
    "dfJan2017.zipcode = dfJan2017.zipcode.fillna(dfJan2017.city.map(city_zip_dict))\n",
    "dfFeb2017.zipcode = dfFeb2017.zipcode.fillna(dfFeb2017.city.map(city_zip_dict))\n",
    "dfMar2017.zipcode = dfMar2017.zipcode.fillna(dfMar2017.city.map(city_zip_dict))\n",
    "dfApr2017.zipcode = dfApr2017.zipcode.fillna(dfApr2017.city.map(city_zip_dict))\n",
    "dfMay2017.zipcode = dfMay2017.zipcode.fillna(dfMay2017.city.map(city_zip_dict))\n",
    "dfJun2017.zipcode = dfJun2017.zipcode.fillna(dfJun2017.city.map(city_zip_dict))\n",
    "dfJul2017.zipcode = dfJul2017.zipcode.fillna(dfJul2017.city.map(city_zip_dict))\n",
    "dfAug2017.zipcode = dfAug2017.zipcode.fillna(dfAug2017.city.map(city_zip_dict))\n",
    "dfSep2017.zipcode = dfSep2017.zipcode.fillna(dfSep2017.city.map(city_zip_dict))\n",
    "dfOct2017.zipcode = dfOct2017.zipcode.fillna(dfOct2017.city.map(city_zip_dict))"
   ]
  },
  {
   "cell_type": "code",
   "execution_count": 70,
   "metadata": {
    "ExecuteTime": {
     "end_time": "2018-01-09T21:50:52.589985Z",
     "start_time": "2018-01-09T21:50:52.546643Z"
    }
   },
   "outputs": [
    {
     "name": "stdout",
     "output_type": "stream",
     "text": [
      "50\n",
      "54\n",
      "53\n",
      "53\n",
      "58\n",
      "53\n",
      "51\n",
      "49\n",
      "51\n",
      "55\n",
      "44\n",
      "52\n"
     ]
    }
   ],
   "source": [
    "print(dfNov2016.zipcode.isnull().sum())\n",
    "print(dfDec2016.zipcode.isnull().sum())\n",
    "print(dfJan2017.zipcode.isnull().sum())\n",
    "print(dfFeb2017.zipcode.isnull().sum())\n",
    "print(dfMar2017.zipcode.isnull().sum())\n",
    "print(dfApr2017.zipcode.isnull().sum())\n",
    "print(dfMay2017.zipcode.isnull().sum())\n",
    "print(dfJun2017.zipcode.isnull().sum())\n",
    "print(dfJul2017.zipcode.isnull().sum())\n",
    "print(dfAug2017.zipcode.isnull().sum())\n",
    "print(dfSep2017.zipcode.isnull().sum())\n",
    "print(dfOct2017.zipcode.isnull().sum())"
   ]
  },
  {
   "cell_type": "code",
   "execution_count": 71,
   "metadata": {
    "ExecuteTime": {
     "end_time": "2018-01-09T21:51:01.593169Z",
     "start_time": "2018-01-09T21:51:01.534769Z"
    },
    "collapsed": true
   },
   "outputs": [],
   "source": [
    "dfNov2016['zipcode_median_income'] = dfNov2016['zipcode'].map(zip_med_income_dict)\n",
    "dfNov2016['zipcode_median_rent'] = dfNov2016['zipcode'].map(zip_median_rent_dict)"
   ]
  },
  {
   "cell_type": "code",
   "execution_count": 72,
   "metadata": {
    "ExecuteTime": {
     "end_time": "2018-01-09T21:51:07.658416Z",
     "start_time": "2018-01-09T21:51:07.587900Z"
    },
    "collapsed": true
   },
   "outputs": [],
   "source": [
    "dfDec2016['zipcode_median_income'] = dfDec2016['zipcode'].map(zip_med_income_dict)\n",
    "dfDec2016['zipcode_median_rent'] = dfDec2016['zipcode'].map(zip_median_rent_dict)"
   ]
  },
  {
   "cell_type": "code",
   "execution_count": 73,
   "metadata": {
    "ExecuteTime": {
     "end_time": "2018-01-09T21:51:13.310686Z",
     "start_time": "2018-01-09T21:51:13.259193Z"
    },
    "collapsed": true
   },
   "outputs": [],
   "source": [
    "dfJan2017['zipcode_median_income'] = dfJan2017['zipcode'].map(zip_med_income_dict)\n",
    "dfJan2017['zipcode_median_rent'] = dfJan2017['zipcode'].map(zip_median_rent_dict)"
   ]
  },
  {
   "cell_type": "code",
   "execution_count": 74,
   "metadata": {
    "ExecuteTime": {
     "end_time": "2018-01-09T21:51:21.538208Z",
     "start_time": "2018-01-09T21:51:21.476614Z"
    },
    "collapsed": true
   },
   "outputs": [],
   "source": [
    "dfFeb2017['zipcode_median_income'] = dfFeb2017['zipcode'].map(zip_med_income_dict)\n",
    "dfFeb2017['zipcode_median_rent'] = dfFeb2017['zipcode'].map(zip_median_rent_dict)"
   ]
  },
  {
   "cell_type": "code",
   "execution_count": 75,
   "metadata": {
    "ExecuteTime": {
     "end_time": "2018-01-09T21:51:26.994059Z",
     "start_time": "2018-01-09T21:51:26.941690Z"
    },
    "collapsed": true
   },
   "outputs": [],
   "source": [
    "dfMar2017['zipcode_median_income'] = dfMar2017['zipcode'].map(zip_med_income_dict)\n",
    "dfMar2017['zipcode_median_rent'] = dfMar2017['zipcode'].map(zip_median_rent_dict)"
   ]
  },
  {
   "cell_type": "code",
   "execution_count": 76,
   "metadata": {
    "ExecuteTime": {
     "end_time": "2018-01-09T21:51:33.012546Z",
     "start_time": "2018-01-09T21:51:32.960335Z"
    },
    "collapsed": true
   },
   "outputs": [],
   "source": [
    "dfApr2017['zipcode_median_income'] = dfApr2017['zipcode'].map(zip_med_income_dict)\n",
    "dfApr2017['zipcode_median_rent'] = dfApr2017['zipcode'].map(zip_median_rent_dict)"
   ]
  },
  {
   "cell_type": "code",
   "execution_count": 77,
   "metadata": {
    "ExecuteTime": {
     "end_time": "2018-01-09T21:51:38.314996Z",
     "start_time": "2018-01-09T21:51:38.259954Z"
    },
    "collapsed": true
   },
   "outputs": [],
   "source": [
    "dfMay2017['zipcode_median_income'] = dfMay2017['zipcode'].map(zip_med_income_dict)\n",
    "dfMay2017['zipcode_median_rent'] = dfMay2017['zipcode'].map(zip_median_rent_dict)"
   ]
  },
  {
   "cell_type": "code",
   "execution_count": 78,
   "metadata": {
    "ExecuteTime": {
     "end_time": "2018-01-09T21:51:44.416965Z",
     "start_time": "2018-01-09T21:51:44.349518Z"
    },
    "collapsed": true
   },
   "outputs": [],
   "source": [
    "dfJun2017['zipcode_median_income'] = dfJun2017['zipcode'].map(zip_med_income_dict)\n",
    "dfJun2017['zipcode_median_rent'] = dfJun2017['zipcode'].map(zip_median_rent_dict)"
   ]
  },
  {
   "cell_type": "code",
   "execution_count": 79,
   "metadata": {
    "ExecuteTime": {
     "end_time": "2018-01-09T21:51:49.409174Z",
     "start_time": "2018-01-09T21:51:49.355202Z"
    },
    "collapsed": true
   },
   "outputs": [],
   "source": [
    "dfJul2017['zipcode_median_income'] = dfJul2017['zipcode'].map(zip_med_income_dict)\n",
    "dfJul2017['zipcode_median_rent'] = dfJul2017['zipcode'].map(zip_median_rent_dict)"
   ]
  },
  {
   "cell_type": "code",
   "execution_count": 80,
   "metadata": {
    "ExecuteTime": {
     "end_time": "2018-01-09T21:51:59.449240Z",
     "start_time": "2018-01-09T21:51:59.393136Z"
    },
    "collapsed": true
   },
   "outputs": [],
   "source": [
    "dfAug2017['zipcode_median_income'] = dfAug2017['zipcode'].map(zip_med_income_dict)\n",
    "dfAug2017['zipcode_median_rent'] = dfAug2017['zipcode'].map(zip_median_rent_dict)"
   ]
  },
  {
   "cell_type": "code",
   "execution_count": 81,
   "metadata": {
    "ExecuteTime": {
     "end_time": "2018-01-09T21:52:07.274913Z",
     "start_time": "2018-01-09T21:52:07.221943Z"
    },
    "collapsed": true
   },
   "outputs": [],
   "source": [
    "dfSep2017['zipcode_median_income'] = dfSep2017['zipcode'].map(zip_med_income_dict)\n",
    "dfSep2017['zipcode_median_rent'] = dfSep2017['zipcode'].map(zip_median_rent_dict)"
   ]
  },
  {
   "cell_type": "code",
   "execution_count": 82,
   "metadata": {
    "ExecuteTime": {
     "end_time": "2018-01-09T21:52:12.683223Z",
     "start_time": "2018-01-09T21:52:12.610922Z"
    },
    "collapsed": true
   },
   "outputs": [],
   "source": [
    "dfOct2017['zipcode_median_income'] = dfOct2017['zipcode'].map(zip_med_income_dict)\n",
    "dfOct2017['zipcode_median_rent'] = dfOct2017['zipcode'].map(zip_median_rent_dict)"
   ]
  },
  {
   "cell_type": "markdown",
   "metadata": {},
   "source": [
    "## Pickle listings dataframes"
   ]
  },
  {
   "cell_type": "markdown",
   "metadata": {},
   "source": [
    "For each month's dataframe, e.g."
   ]
  },
  {
   "cell_type": "code",
   "execution_count": null,
   "metadata": {
    "collapsed": true
   },
   "outputs": [],
   "source": [
    "# with open('pickled_files/dfNov2016.pkl', 'wb') as picklefile:\n",
    "#     pickle.dump(dfNov2016, picklefile)"
   ]
  }
 ],
 "metadata": {
  "kernelspec": {
   "display_name": "Python 3",
   "language": "python",
   "name": "python3"
  },
  "language_info": {
   "codemirror_mode": {
    "name": "ipython",
    "version": 3
   },
   "file_extension": ".py",
   "mimetype": "text/x-python",
   "name": "python",
   "nbconvert_exporter": "python",
   "pygments_lexer": "ipython3",
   "version": "3.6.1"
  },
  "toc": {
   "nav_menu": {},
   "number_sections": true,
   "sideBar": true,
   "skip_h1_title": false,
   "toc_cell": false,
   "toc_position": {},
   "toc_section_display": "block",
   "toc_window_display": true
  }
 },
 "nbformat": 4,
 "nbformat_minor": 2
}
