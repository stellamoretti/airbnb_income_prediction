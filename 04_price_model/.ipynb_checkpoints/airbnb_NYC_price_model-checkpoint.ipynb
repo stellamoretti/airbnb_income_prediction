{
 "cells": [
  {
   "cell_type": "markdown",
   "metadata": {},
   "source": [
    "# Airbnb NYC Price - Regression"
   ]
  },
  {
   "cell_type": "markdown",
   "metadata": {},
   "source": [
    "## Imports"
   ]
  },
  {
   "cell_type": "code",
   "execution_count": 1,
   "metadata": {
    "ExecuteTime": {
     "end_time": "2018-01-09T00:23:09.128374Z",
     "start_time": "2018-01-09T00:23:07.010287Z"
    }
   },
   "outputs": [
    {
     "name": "stdout",
     "output_type": "stream",
     "text": [
      "Populating the interactive namespace from numpy and matplotlib\n"
     ]
    },
    {
     "name": "stderr",
     "output_type": "stream",
     "text": [
      "/anaconda/envs/py36/lib/python3.6/site-packages/IPython/core/magics/pylab.py:161: UserWarning: pylab import has clobbered these variables: ['randint']\n",
      "`%matplotlib` prevents importing * from pylab and numpy\n",
      "  \"\\n`%matplotlib` prevents importing * from pylab and numpy\"\n"
     ]
    }
   ],
   "source": [
    "import pandas as pd\n",
    "import numpy as np\n",
    "from scipy.stats import randint\n",
    "import pickle\n",
    "import matplotlib.pyplot as plt\n",
    "import seaborn as sns\n",
    "from functools import reduce\n",
    "from sklearn.pipeline import Pipeline, FeatureUnion\n",
    "from sklearn.base import TransformerMixin\n",
    "from sklearn.preprocessing import Imputer\n",
    "%pylab inline"
   ]
  },
  {
   "cell_type": "code",
   "execution_count": 2,
   "metadata": {
    "ExecuteTime": {
     "end_time": "2018-01-09T00:23:09.136518Z",
     "start_time": "2018-01-09T00:23:09.131632Z"
    },
    "collapsed": true
   },
   "outputs": [],
   "source": [
    "pd.set_option('display.max_columns', None)"
   ]
  },
  {
   "cell_type": "code",
   "execution_count": 3,
   "metadata": {
    "ExecuteTime": {
     "end_time": "2018-01-09T00:23:09.444012Z",
     "start_time": "2018-01-09T00:23:09.437643Z"
    },
    "collapsed": true
   },
   "outputs": [],
   "source": [
    "import warnings\n",
    "warnings.filterwarnings('ignore')"
   ]
  },
  {
   "cell_type": "code",
   "execution_count": 4,
   "metadata": {
    "ExecuteTime": {
     "end_time": "2018-01-09T00:23:12.257013Z",
     "start_time": "2018-01-09T00:23:12.214982Z"
    },
    "collapsed": true
   },
   "outputs": [],
   "source": [
    "from sklearn.model_selection import train_test_split\n",
    "from sklearn.model_selection import cross_val_score\n",
    "from sklearn.model_selection import RandomizedSearchCV\n",
    "from sklearn.pipeline import Pipeline, FeatureUnion\n",
    "from sklearn.base import TransformerMixin\n",
    "from sklearn.preprocessing import Imputer"
   ]
  },
  {
   "cell_type": "code",
   "execution_count": 5,
   "metadata": {
    "ExecuteTime": {
     "end_time": "2018-01-09T00:23:13.193139Z",
     "start_time": "2018-01-09T00:23:13.118834Z"
    },
    "collapsed": true
   },
   "outputs": [],
   "source": [
    "from sklearn.ensemble import RandomForestRegressor, GradientBoostingRegressor"
   ]
  },
  {
   "cell_type": "code",
   "execution_count": 6,
   "metadata": {
    "ExecuteTime": {
     "end_time": "2018-01-09T00:25:15.444333Z",
     "start_time": "2018-01-09T00:25:14.045291Z"
    },
    "collapsed": true
   },
   "outputs": [],
   "source": [
    "with open(\"../pickled_files/dfListings.pkl\", 'rb') as picklefile: \n",
    "    dfListings = pickle.load(picklefile)"
   ]
  },
  {
   "cell_type": "code",
   "execution_count": 7,
   "metadata": {
    "ExecuteTime": {
     "end_time": "2018-01-09T00:25:16.781058Z",
     "start_time": "2018-01-09T00:25:16.488890Z"
    },
    "scrolled": true
   },
   "outputs": [
    {
     "data": {
      "text/html": [
       "<div>\n",
       "<style>\n",
       "    .dataframe thead tr:only-child th {\n",
       "        text-align: right;\n",
       "    }\n",
       "\n",
       "    .dataframe thead th {\n",
       "        text-align: left;\n",
       "    }\n",
       "\n",
       "    .dataframe tbody tr th {\n",
       "        vertical-align: top;\n",
       "    }\n",
       "</style>\n",
       "<table border=\"1\" class=\"dataframe\">\n",
       "  <thead>\n",
       "    <tr style=\"text-align: right;\">\n",
       "      <th></th>\n",
       "      <th>id</th>\n",
       "      <th>listing_url</th>\n",
       "      <th>scrape_id</th>\n",
       "      <th>last_scraped</th>\n",
       "      <th>name</th>\n",
       "      <th>summary</th>\n",
       "      <th>space</th>\n",
       "      <th>description</th>\n",
       "      <th>experiences_offered</th>\n",
       "      <th>neighborhood_overview</th>\n",
       "      <th>notes</th>\n",
       "      <th>transit</th>\n",
       "      <th>access</th>\n",
       "      <th>interaction</th>\n",
       "      <th>house_rules</th>\n",
       "      <th>thumbnail_url</th>\n",
       "      <th>medium_url</th>\n",
       "      <th>picture_url</th>\n",
       "      <th>xl_picture_url</th>\n",
       "      <th>host_id</th>\n",
       "      <th>host_url</th>\n",
       "      <th>host_name</th>\n",
       "      <th>host_since</th>\n",
       "      <th>host_location</th>\n",
       "      <th>host_about</th>\n",
       "      <th>host_response_time</th>\n",
       "      <th>host_response_rate</th>\n",
       "      <th>host_acceptance_rate</th>\n",
       "      <th>host_is_superhost</th>\n",
       "      <th>host_thumbnail_url</th>\n",
       "      <th>host_picture_url</th>\n",
       "      <th>host_neighbourhood</th>\n",
       "      <th>host_listings_count</th>\n",
       "      <th>host_total_listings_count</th>\n",
       "      <th>host_verifications</th>\n",
       "      <th>host_has_profile_pic</th>\n",
       "      <th>host_identity_verified</th>\n",
       "      <th>street</th>\n",
       "      <th>neighbourhood</th>\n",
       "      <th>neighbourhood_cleansed</th>\n",
       "      <th>neighbourhood_group_cleansed</th>\n",
       "      <th>city</th>\n",
       "      <th>state</th>\n",
       "      <th>zipcode</th>\n",
       "      <th>market</th>\n",
       "      <th>smart_location</th>\n",
       "      <th>country_code</th>\n",
       "      <th>country</th>\n",
       "      <th>latitude</th>\n",
       "      <th>longitude</th>\n",
       "      <th>is_location_exact</th>\n",
       "      <th>property_type</th>\n",
       "      <th>room_type</th>\n",
       "      <th>accommodates</th>\n",
       "      <th>bathrooms</th>\n",
       "      <th>bedrooms</th>\n",
       "      <th>beds</th>\n",
       "      <th>bed_type</th>\n",
       "      <th>amenities</th>\n",
       "      <th>square_feet</th>\n",
       "      <th>price</th>\n",
       "      <th>weekly_price</th>\n",
       "      <th>monthly_price</th>\n",
       "      <th>security_deposit</th>\n",
       "      <th>cleaning_fee</th>\n",
       "      <th>guests_included</th>\n",
       "      <th>extra_people</th>\n",
       "      <th>minimum_nights</th>\n",
       "      <th>maximum_nights</th>\n",
       "      <th>calendar_updated</th>\n",
       "      <th>has_availability</th>\n",
       "      <th>availability_30</th>\n",
       "      <th>availability_60</th>\n",
       "      <th>availability_90</th>\n",
       "      <th>availability_365</th>\n",
       "      <th>calendar_last_scraped</th>\n",
       "      <th>number_of_reviews</th>\n",
       "      <th>first_review</th>\n",
       "      <th>last_review</th>\n",
       "      <th>review_scores_rating</th>\n",
       "      <th>review_scores_accuracy</th>\n",
       "      <th>review_scores_cleanliness</th>\n",
       "      <th>review_scores_checkin</th>\n",
       "      <th>review_scores_communication</th>\n",
       "      <th>review_scores_location</th>\n",
       "      <th>review_scores_value</th>\n",
       "      <th>requires_license</th>\n",
       "      <th>license</th>\n",
       "      <th>jurisdiction_names</th>\n",
       "      <th>instant_bookable</th>\n",
       "      <th>is_business_travel_ready</th>\n",
       "      <th>cancellation_policy</th>\n",
       "      <th>require_guest_profile_picture</th>\n",
       "      <th>require_guest_phone_verification</th>\n",
       "      <th>calculated_host_listings_count</th>\n",
       "      <th>reviews_per_month</th>\n",
       "      <th>price_Nov16</th>\n",
       "      <th>availability_30_Nov16</th>\n",
       "      <th>availability_60_Nov16</th>\n",
       "      <th>availability_90_Nov16</th>\n",
       "      <th>availability_365_Nov16</th>\n",
       "      <th>price_Dec16</th>\n",
       "      <th>availability_30_Dec16</th>\n",
       "      <th>availability_60_Dec16</th>\n",
       "      <th>availability_90_Dec16</th>\n",
       "      <th>availability_365_Dec16</th>\n",
       "      <th>price_Jan17</th>\n",
       "      <th>availability_30_Jan17</th>\n",
       "      <th>availability_60_Jan17</th>\n",
       "      <th>availability_90_Jan17</th>\n",
       "      <th>availability_365_Jan17</th>\n",
       "      <th>price_Feb17</th>\n",
       "      <th>availability_30_Feb17</th>\n",
       "      <th>availability_60_Feb17</th>\n",
       "      <th>availability_90_Feb17</th>\n",
       "      <th>availability_365_Feb17</th>\n",
       "      <th>price_Mar17</th>\n",
       "      <th>availability_30_Mar17</th>\n",
       "      <th>availability_60_Mar17</th>\n",
       "      <th>availability_90_Mar17</th>\n",
       "      <th>availability_365_Mar17</th>\n",
       "      <th>price_Apr17</th>\n",
       "      <th>availability_30_Apr17</th>\n",
       "      <th>availability_60_Apr17</th>\n",
       "      <th>availability_90_Apr17</th>\n",
       "      <th>availability_365_Apr17</th>\n",
       "      <th>price_May17</th>\n",
       "      <th>availability_30_May17</th>\n",
       "      <th>availability_60_May17</th>\n",
       "      <th>availability_90_May17</th>\n",
       "      <th>availability_365_May17</th>\n",
       "      <th>price_Jun17</th>\n",
       "      <th>availability_30_Jun17</th>\n",
       "      <th>availability_60_Jun17</th>\n",
       "      <th>availability_90_Jun17</th>\n",
       "      <th>availability_365_Jun17</th>\n",
       "      <th>price_Jul17</th>\n",
       "      <th>availability_30_Jul17</th>\n",
       "      <th>availability_60_Jul17</th>\n",
       "      <th>availability_90_Jul17</th>\n",
       "      <th>availability_365_Jul17</th>\n",
       "      <th>price_Aug17</th>\n",
       "      <th>availability_30_Aug17</th>\n",
       "      <th>availability_60_Aug17</th>\n",
       "      <th>availability_90_Aug17</th>\n",
       "      <th>availability_365_Aug17</th>\n",
       "      <th>price_Sep17</th>\n",
       "      <th>availability_30_Sep17</th>\n",
       "      <th>availability_60_Sep17</th>\n",
       "      <th>availability_90_Sep17</th>\n",
       "      <th>availability_365_Sep17</th>\n",
       "      <th>amenities_list</th>\n",
       "      <th>essentials</th>\n",
       "      <th>pool</th>\n",
       "      <th>kitchen</th>\n",
       "      <th>washer</th>\n",
       "      <th>parking</th>\n",
       "      <th>elevator</th>\n",
       "      <th>hot_tub</th>\n",
       "      <th>gym</th>\n",
       "      <th>wifi</th>\n",
       "      <th>tv</th>\n",
       "      <th>heat</th>\n",
       "      <th>AC</th>\n",
       "      <th>fireplace</th>\n",
       "      <th>pets_allowed</th>\n",
       "      <th>lock</th>\n",
       "      <th>apartment</th>\n",
       "      <th>house</th>\n",
       "      <th>loft</th>\n",
       "      <th>townhouse</th>\n",
       "      <th>condo</th>\n",
       "      <th>entire_home</th>\n",
       "      <th>private_room</th>\n",
       "      <th>shared_room</th>\n",
       "      <th>real_bed</th>\n",
       "      <th>distance_from_NYC</th>\n",
       "      <th>zipcode_median_income</th>\n",
       "      <th>zipcode_income_class</th>\n",
       "      <th>zipcode_median_rent</th>\n",
       "      <th>zipcode_rent_class</th>\n",
       "    </tr>\n",
       "  </thead>\n",
       "  <tbody>\n",
       "    <tr>\n",
       "      <th>0</th>\n",
       "      <td>18461891.0</td>\n",
       "      <td>https://www.airbnb.com/rooms/18461891</td>\n",
       "      <td>2.017100e+13</td>\n",
       "      <td>2017-10-03</td>\n",
       "      <td>Bright, comfortable 1B studio near everything!</td>\n",
       "      <td>*Looking to fill these specific dates: June 24...</td>\n",
       "      <td>Very well illuminated space includes comfortab...</td>\n",
       "      <td>*Looking to fill these specific dates: June 24...</td>\n",
       "      <td>none</td>\n",
       "      <td>There are Michelin-rated restaurants in the ar...</td>\n",
       "      <td>NaN</td>\n",
       "      <td>Astoria is a safe and quaint neighborhood, and...</td>\n",
       "      <td>IMPORTANT: This space is not suitable for chil...</td>\n",
       "      <td>Arrangements will be made in advance regarding...</td>\n",
       "      <td>NaN</td>\n",
       "      <td>https://a0.muscache.com/im/pictures/8ac331a9-3...</td>\n",
       "      <td>https://a0.muscache.com/im/pictures/8ac331a9-3...</td>\n",
       "      <td>https://a0.muscache.com/im/pictures/8ac331a9-3...</td>\n",
       "      <td>https://a0.muscache.com/im/pictures/8ac331a9-3...</td>\n",
       "      <td>916092.0</td>\n",
       "      <td>https://www.airbnb.com/users/show/916092</td>\n",
       "      <td>Connie Mae</td>\n",
       "      <td>2011-08-03</td>\n",
       "      <td>New York, New York, United States</td>\n",
       "      <td>sensation(URL HIDDEN)</td>\n",
       "      <td>NaN</td>\n",
       "      <td>NaN</td>\n",
       "      <td>NaN</td>\n",
       "      <td>0.0</td>\n",
       "      <td>https://a0.muscache.com/im/pictures/2bdfa9ca-a...</td>\n",
       "      <td>https://a0.muscache.com/im/pictures/2bdfa9ca-a...</td>\n",
       "      <td>Astoria</td>\n",
       "      <td>1.0</td>\n",
       "      <td>1.0</td>\n",
       "      <td>['email', 'phone', 'facebook', 'reviews', 'kba']</td>\n",
       "      <td>1.0</td>\n",
       "      <td>1.0</td>\n",
       "      <td>Queens, NY, United States</td>\n",
       "      <td>Astoria</td>\n",
       "      <td>Ditmars Steinway</td>\n",
       "      <td>Queens</td>\n",
       "      <td>Queens</td>\n",
       "      <td>NY</td>\n",
       "      <td>11105</td>\n",
       "      <td>New York</td>\n",
       "      <td>Queens, NY</td>\n",
       "      <td>US</td>\n",
       "      <td>United States</td>\n",
       "      <td>40.774142</td>\n",
       "      <td>-73.916246</td>\n",
       "      <td>1</td>\n",
       "      <td>Apartment</td>\n",
       "      <td>Entire home/apt</td>\n",
       "      <td>2</td>\n",
       "      <td>1.0</td>\n",
       "      <td>0.0</td>\n",
       "      <td>1.0</td>\n",
       "      <td>Real Bed</td>\n",
       "      <td>{TV,\"Wireless Internet\",\"Air conditioning\",Kit...</td>\n",
       "      <td>NaN</td>\n",
       "      <td>110.0</td>\n",
       "      <td>NaN</td>\n",
       "      <td>NaN</td>\n",
       "      <td>250.0</td>\n",
       "      <td>85.0</td>\n",
       "      <td>1</td>\n",
       "      <td>0.0</td>\n",
       "      <td>6</td>\n",
       "      <td>6</td>\n",
       "      <td>5 months ago</td>\n",
       "      <td>1</td>\n",
       "      <td>0</td>\n",
       "      <td>0</td>\n",
       "      <td>0</td>\n",
       "      <td>0</td>\n",
       "      <td>2017-10-03</td>\n",
       "      <td>0</td>\n",
       "      <td>NaT</td>\n",
       "      <td>NaT</td>\n",
       "      <td>NaN</td>\n",
       "      <td>NaN</td>\n",
       "      <td>NaN</td>\n",
       "      <td>NaN</td>\n",
       "      <td>NaN</td>\n",
       "      <td>NaN</td>\n",
       "      <td>NaN</td>\n",
       "      <td>0</td>\n",
       "      <td>NaN</td>\n",
       "      <td>NaN</td>\n",
       "      <td>0</td>\n",
       "      <td>0</td>\n",
       "      <td>strict</td>\n",
       "      <td>0</td>\n",
       "      <td>0</td>\n",
       "      <td>1</td>\n",
       "      <td>NaN</td>\n",
       "      <td>NaN</td>\n",
       "      <td>NaN</td>\n",
       "      <td>NaN</td>\n",
       "      <td>NaN</td>\n",
       "      <td>NaN</td>\n",
       "      <td>NaN</td>\n",
       "      <td>NaN</td>\n",
       "      <td>NaN</td>\n",
       "      <td>NaN</td>\n",
       "      <td>NaN</td>\n",
       "      <td>NaN</td>\n",
       "      <td>NaN</td>\n",
       "      <td>NaN</td>\n",
       "      <td>NaN</td>\n",
       "      <td>NaN</td>\n",
       "      <td>NaN</td>\n",
       "      <td>NaN</td>\n",
       "      <td>NaN</td>\n",
       "      <td>NaN</td>\n",
       "      <td>NaN</td>\n",
       "      <td>NaN</td>\n",
       "      <td>NaN</td>\n",
       "      <td>NaN</td>\n",
       "      <td>NaN</td>\n",
       "      <td>NaN</td>\n",
       "      <td>NaN</td>\n",
       "      <td>NaN</td>\n",
       "      <td>NaN</td>\n",
       "      <td>NaN</td>\n",
       "      <td>NaN</td>\n",
       "      <td>110.0</td>\n",
       "      <td>0.0</td>\n",
       "      <td>3.0</td>\n",
       "      <td>3.0</td>\n",
       "      <td>3.0</td>\n",
       "      <td>110.0</td>\n",
       "      <td>5.0</td>\n",
       "      <td>5.0</td>\n",
       "      <td>5.0</td>\n",
       "      <td>5.0</td>\n",
       "      <td>110.0</td>\n",
       "      <td>0.0</td>\n",
       "      <td>0.0</td>\n",
       "      <td>0.0</td>\n",
       "      <td>0.0</td>\n",
       "      <td>110.0</td>\n",
       "      <td>0.0</td>\n",
       "      <td>0.0</td>\n",
       "      <td>0.0</td>\n",
       "      <td>0.0</td>\n",
       "      <td>110.0</td>\n",
       "      <td>0.0</td>\n",
       "      <td>0.0</td>\n",
       "      <td>0.0</td>\n",
       "      <td>0.0</td>\n",
       "      <td>[1, 0, 1, 0, 0, 0, 0, 0, 1, 1, 0, 1, 0, 0, 0]</td>\n",
       "      <td>1</td>\n",
       "      <td>0</td>\n",
       "      <td>1</td>\n",
       "      <td>0</td>\n",
       "      <td>0</td>\n",
       "      <td>0</td>\n",
       "      <td>0</td>\n",
       "      <td>0</td>\n",
       "      <td>1</td>\n",
       "      <td>1</td>\n",
       "      <td>0</td>\n",
       "      <td>1</td>\n",
       "      <td>0</td>\n",
       "      <td>0</td>\n",
       "      <td>0</td>\n",
       "      <td>1</td>\n",
       "      <td>0</td>\n",
       "      <td>0</td>\n",
       "      <td>0</td>\n",
       "      <td>0</td>\n",
       "      <td>1</td>\n",
       "      <td>0</td>\n",
       "      <td>0</td>\n",
       "      <td>1</td>\n",
       "      <td>10.186191</td>\n",
       "      <td>3074.0</td>\n",
       "      <td>3.0</td>\n",
       "      <td>1417.0</td>\n",
       "      <td>6.0</td>\n",
       "    </tr>\n",
       "    <tr>\n",
       "      <th>1</th>\n",
       "      <td>20702398.0</td>\n",
       "      <td>https://www.airbnb.com/rooms/20702398</td>\n",
       "      <td>2.017100e+13</td>\n",
       "      <td>2017-10-03</td>\n",
       "      <td>Quiet house on City Island</td>\n",
       "      <td>1 private bedroom and bathroom available for o...</td>\n",
       "      <td>NaN</td>\n",
       "      <td>1 private bedroom and bathroom available for o...</td>\n",
       "      <td>none</td>\n",
       "      <td>This neighborhood is dope! Lot's of seafood re...</td>\n",
       "      <td>No loud parties or hard drugs There is wifi bu...</td>\n",
       "      <td>walk! The island is only 1.5 miles long. Publi...</td>\n",
       "      <td>kitchen, laundry, living room, back yard</td>\n",
       "      <td>My schedule varies week-to-week. I usually wor...</td>\n",
       "      <td>No third-party bookings</td>\n",
       "      <td>https://a0.muscache.com/im/pictures/7c0a47b7-5...</td>\n",
       "      <td>https://a0.muscache.com/im/pictures/7c0a47b7-5...</td>\n",
       "      <td>https://a0.muscache.com/im/pictures/7c0a47b7-5...</td>\n",
       "      <td>https://a0.muscache.com/im/pictures/7c0a47b7-5...</td>\n",
       "      <td>1457680.0</td>\n",
       "      <td>https://www.airbnb.com/users/show/1457680</td>\n",
       "      <td>James</td>\n",
       "      <td>2011-11-30</td>\n",
       "      <td>Bronx, New York, United States</td>\n",
       "      <td>Hi! Welcome to my airbnb listing. Things you s...</td>\n",
       "      <td>within an hour</td>\n",
       "      <td>100%</td>\n",
       "      <td>NaN</td>\n",
       "      <td>0.0</td>\n",
       "      <td>https://a0.muscache.com/im/pictures/user/389c4...</td>\n",
       "      <td>https://a0.muscache.com/im/pictures/user/389c4...</td>\n",
       "      <td>NaN</td>\n",
       "      <td>1.0</td>\n",
       "      <td>1.0</td>\n",
       "      <td>['email', 'phone', 'reviews']</td>\n",
       "      <td>1.0</td>\n",
       "      <td>0.0</td>\n",
       "      <td>Bronx, NY, United States</td>\n",
       "      <td>City Island</td>\n",
       "      <td>City Island</td>\n",
       "      <td>Bronx</td>\n",
       "      <td>Bronx</td>\n",
       "      <td>NY</td>\n",
       "      <td>10499</td>\n",
       "      <td>New York</td>\n",
       "      <td>Bronx, NY</td>\n",
       "      <td>US</td>\n",
       "      <td>United States</td>\n",
       "      <td>40.849191</td>\n",
       "      <td>-73.786509</td>\n",
       "      <td>0</td>\n",
       "      <td>House</td>\n",
       "      <td>Private room</td>\n",
       "      <td>2</td>\n",
       "      <td>1.0</td>\n",
       "      <td>1.0</td>\n",
       "      <td>1.0</td>\n",
       "      <td>Real Bed</td>\n",
       "      <td>{\"Wireless Internet\",\"Air conditioning\",Kitche...</td>\n",
       "      <td>NaN</td>\n",
       "      <td>50.0</td>\n",
       "      <td>NaN</td>\n",
       "      <td>NaN</td>\n",
       "      <td>500.0</td>\n",
       "      <td>20.0</td>\n",
       "      <td>1</td>\n",
       "      <td>0.0</td>\n",
       "      <td>1</td>\n",
       "      <td>21</td>\n",
       "      <td>2 weeks ago</td>\n",
       "      <td>1</td>\n",
       "      <td>19</td>\n",
       "      <td>49</td>\n",
       "      <td>79</td>\n",
       "      <td>169</td>\n",
       "      <td>2017-10-03</td>\n",
       "      <td>2</td>\n",
       "      <td>2017-09-17</td>\n",
       "      <td>2017-10-01</td>\n",
       "      <td>100.0</td>\n",
       "      <td>10.0</td>\n",
       "      <td>10.0</td>\n",
       "      <td>10.0</td>\n",
       "      <td>10.0</td>\n",
       "      <td>10.0</td>\n",
       "      <td>10.0</td>\n",
       "      <td>0</td>\n",
       "      <td>NaN</td>\n",
       "      <td>NaN</td>\n",
       "      <td>0</td>\n",
       "      <td>0</td>\n",
       "      <td>moderate</td>\n",
       "      <td>0</td>\n",
       "      <td>0</td>\n",
       "      <td>1</td>\n",
       "      <td>2.0</td>\n",
       "      <td>NaN</td>\n",
       "      <td>NaN</td>\n",
       "      <td>NaN</td>\n",
       "      <td>NaN</td>\n",
       "      <td>NaN</td>\n",
       "      <td>NaN</td>\n",
       "      <td>NaN</td>\n",
       "      <td>NaN</td>\n",
       "      <td>NaN</td>\n",
       "      <td>NaN</td>\n",
       "      <td>NaN</td>\n",
       "      <td>NaN</td>\n",
       "      <td>NaN</td>\n",
       "      <td>NaN</td>\n",
       "      <td>NaN</td>\n",
       "      <td>NaN</td>\n",
       "      <td>NaN</td>\n",
       "      <td>NaN</td>\n",
       "      <td>NaN</td>\n",
       "      <td>NaN</td>\n",
       "      <td>NaN</td>\n",
       "      <td>NaN</td>\n",
       "      <td>NaN</td>\n",
       "      <td>NaN</td>\n",
       "      <td>NaN</td>\n",
       "      <td>NaN</td>\n",
       "      <td>NaN</td>\n",
       "      <td>NaN</td>\n",
       "      <td>NaN</td>\n",
       "      <td>NaN</td>\n",
       "      <td>NaN</td>\n",
       "      <td>NaN</td>\n",
       "      <td>NaN</td>\n",
       "      <td>NaN</td>\n",
       "      <td>NaN</td>\n",
       "      <td>NaN</td>\n",
       "      <td>NaN</td>\n",
       "      <td>NaN</td>\n",
       "      <td>NaN</td>\n",
       "      <td>NaN</td>\n",
       "      <td>NaN</td>\n",
       "      <td>NaN</td>\n",
       "      <td>NaN</td>\n",
       "      <td>NaN</td>\n",
       "      <td>NaN</td>\n",
       "      <td>NaN</td>\n",
       "      <td>NaN</td>\n",
       "      <td>NaN</td>\n",
       "      <td>NaN</td>\n",
       "      <td>NaN</td>\n",
       "      <td>NaN</td>\n",
       "      <td>NaN</td>\n",
       "      <td>NaN</td>\n",
       "      <td>NaN</td>\n",
       "      <td>NaN</td>\n",
       "      <td>[1, 0, 1, 1, 0, 0, 0, 0, 1, 0, 1, 1, 0, 0, 0]</td>\n",
       "      <td>1</td>\n",
       "      <td>0</td>\n",
       "      <td>1</td>\n",
       "      <td>1</td>\n",
       "      <td>0</td>\n",
       "      <td>0</td>\n",
       "      <td>0</td>\n",
       "      <td>0</td>\n",
       "      <td>1</td>\n",
       "      <td>0</td>\n",
       "      <td>1</td>\n",
       "      <td>1</td>\n",
       "      <td>0</td>\n",
       "      <td>0</td>\n",
       "      <td>0</td>\n",
       "      <td>0</td>\n",
       "      <td>1</td>\n",
       "      <td>0</td>\n",
       "      <td>0</td>\n",
       "      <td>0</td>\n",
       "      <td>0</td>\n",
       "      <td>1</td>\n",
       "      <td>0</td>\n",
       "      <td>1</td>\n",
       "      <td>23.913715</td>\n",
       "      <td>NaN</td>\n",
       "      <td>NaN</td>\n",
       "      <td>NaN</td>\n",
       "      <td>NaN</td>\n",
       "    </tr>\n",
       "  </tbody>\n",
       "</table>\n",
       "</div>"
      ],
      "text/plain": [
       "           id                            listing_url     scrape_id  \\\n",
       "0  18461891.0  https://www.airbnb.com/rooms/18461891  2.017100e+13   \n",
       "1  20702398.0  https://www.airbnb.com/rooms/20702398  2.017100e+13   \n",
       "\n",
       "  last_scraped                                            name  \\\n",
       "0   2017-10-03  Bright, comfortable 1B studio near everything!   \n",
       "1   2017-10-03                      Quiet house on City Island   \n",
       "\n",
       "                                             summary  \\\n",
       "0  *Looking to fill these specific dates: June 24...   \n",
       "1  1 private bedroom and bathroom available for o...   \n",
       "\n",
       "                                               space  \\\n",
       "0  Very well illuminated space includes comfortab...   \n",
       "1                                                NaN   \n",
       "\n",
       "                                         description experiences_offered  \\\n",
       "0  *Looking to fill these specific dates: June 24...                none   \n",
       "1  1 private bedroom and bathroom available for o...                none   \n",
       "\n",
       "                               neighborhood_overview  \\\n",
       "0  There are Michelin-rated restaurants in the ar...   \n",
       "1  This neighborhood is dope! Lot's of seafood re...   \n",
       "\n",
       "                                               notes  \\\n",
       "0                                                NaN   \n",
       "1  No loud parties or hard drugs There is wifi bu...   \n",
       "\n",
       "                                             transit  \\\n",
       "0  Astoria is a safe and quaint neighborhood, and...   \n",
       "1  walk! The island is only 1.5 miles long. Publi...   \n",
       "\n",
       "                                              access  \\\n",
       "0  IMPORTANT: This space is not suitable for chil...   \n",
       "1           kitchen, laundry, living room, back yard   \n",
       "\n",
       "                                         interaction              house_rules  \\\n",
       "0  Arrangements will be made in advance regarding...                      NaN   \n",
       "1  My schedule varies week-to-week. I usually wor...  No third-party bookings   \n",
       "\n",
       "                                       thumbnail_url  \\\n",
       "0  https://a0.muscache.com/im/pictures/8ac331a9-3...   \n",
       "1  https://a0.muscache.com/im/pictures/7c0a47b7-5...   \n",
       "\n",
       "                                          medium_url  \\\n",
       "0  https://a0.muscache.com/im/pictures/8ac331a9-3...   \n",
       "1  https://a0.muscache.com/im/pictures/7c0a47b7-5...   \n",
       "\n",
       "                                         picture_url  \\\n",
       "0  https://a0.muscache.com/im/pictures/8ac331a9-3...   \n",
       "1  https://a0.muscache.com/im/pictures/7c0a47b7-5...   \n",
       "\n",
       "                                      xl_picture_url    host_id  \\\n",
       "0  https://a0.muscache.com/im/pictures/8ac331a9-3...   916092.0   \n",
       "1  https://a0.muscache.com/im/pictures/7c0a47b7-5...  1457680.0   \n",
       "\n",
       "                                    host_url   host_name host_since  \\\n",
       "0   https://www.airbnb.com/users/show/916092  Connie Mae 2011-08-03   \n",
       "1  https://www.airbnb.com/users/show/1457680       James 2011-11-30   \n",
       "\n",
       "                       host_location  \\\n",
       "0  New York, New York, United States   \n",
       "1     Bronx, New York, United States   \n",
       "\n",
       "                                          host_about host_response_time  \\\n",
       "0                              sensation(URL HIDDEN)                NaN   \n",
       "1  Hi! Welcome to my airbnb listing. Things you s...     within an hour   \n",
       "\n",
       "  host_response_rate  host_acceptance_rate  host_is_superhost  \\\n",
       "0                NaN                   NaN                0.0   \n",
       "1               100%                   NaN                0.0   \n",
       "\n",
       "                                  host_thumbnail_url  \\\n",
       "0  https://a0.muscache.com/im/pictures/2bdfa9ca-a...   \n",
       "1  https://a0.muscache.com/im/pictures/user/389c4...   \n",
       "\n",
       "                                    host_picture_url host_neighbourhood  \\\n",
       "0  https://a0.muscache.com/im/pictures/2bdfa9ca-a...            Astoria   \n",
       "1  https://a0.muscache.com/im/pictures/user/389c4...                NaN   \n",
       "\n",
       "   host_listings_count  host_total_listings_count  \\\n",
       "0                  1.0                        1.0   \n",
       "1                  1.0                        1.0   \n",
       "\n",
       "                                 host_verifications  host_has_profile_pic  \\\n",
       "0  ['email', 'phone', 'facebook', 'reviews', 'kba']                   1.0   \n",
       "1                     ['email', 'phone', 'reviews']                   1.0   \n",
       "\n",
       "   host_identity_verified                     street neighbourhood  \\\n",
       "0                     1.0  Queens, NY, United States       Astoria   \n",
       "1                     0.0   Bronx, NY, United States   City Island   \n",
       "\n",
       "  neighbourhood_cleansed neighbourhood_group_cleansed    city state zipcode  \\\n",
       "0       Ditmars Steinway                       Queens  Queens    NY   11105   \n",
       "1            City Island                        Bronx   Bronx    NY   10499   \n",
       "\n",
       "     market smart_location country_code        country   latitude  longitude  \\\n",
       "0  New York     Queens, NY           US  United States  40.774142 -73.916246   \n",
       "1  New York      Bronx, NY           US  United States  40.849191 -73.786509   \n",
       "\n",
       "   is_location_exact property_type        room_type  accommodates  bathrooms  \\\n",
       "0                  1     Apartment  Entire home/apt             2        1.0   \n",
       "1                  0         House     Private room             2        1.0   \n",
       "\n",
       "   bedrooms  beds  bed_type  \\\n",
       "0       0.0   1.0  Real Bed   \n",
       "1       1.0   1.0  Real Bed   \n",
       "\n",
       "                                           amenities  square_feet  price  \\\n",
       "0  {TV,\"Wireless Internet\",\"Air conditioning\",Kit...          NaN  110.0   \n",
       "1  {\"Wireless Internet\",\"Air conditioning\",Kitche...          NaN   50.0   \n",
       "\n",
       "   weekly_price  monthly_price  security_deposit  cleaning_fee  \\\n",
       "0           NaN            NaN             250.0          85.0   \n",
       "1           NaN            NaN             500.0          20.0   \n",
       "\n",
       "   guests_included  extra_people  minimum_nights  maximum_nights  \\\n",
       "0                1           0.0               6               6   \n",
       "1                1           0.0               1              21   \n",
       "\n",
       "  calendar_updated  has_availability  availability_30  availability_60  \\\n",
       "0     5 months ago                 1                0                0   \n",
       "1      2 weeks ago                 1               19               49   \n",
       "\n",
       "   availability_90  availability_365 calendar_last_scraped  number_of_reviews  \\\n",
       "0                0                 0            2017-10-03                  0   \n",
       "1               79               169            2017-10-03                  2   \n",
       "\n",
       "  first_review last_review  review_scores_rating  review_scores_accuracy  \\\n",
       "0          NaT         NaT                   NaN                     NaN   \n",
       "1   2017-09-17  2017-10-01                 100.0                    10.0   \n",
       "\n",
       "   review_scores_cleanliness  review_scores_checkin  \\\n",
       "0                        NaN                    NaN   \n",
       "1                       10.0                   10.0   \n",
       "\n",
       "   review_scores_communication  review_scores_location  review_scores_value  \\\n",
       "0                          NaN                     NaN                  NaN   \n",
       "1                         10.0                    10.0                 10.0   \n",
       "\n",
       "   requires_license  license jurisdiction_names  instant_bookable  \\\n",
       "0                 0      NaN                NaN                 0   \n",
       "1                 0      NaN                NaN                 0   \n",
       "\n",
       "   is_business_travel_ready cancellation_policy  \\\n",
       "0                         0              strict   \n",
       "1                         0            moderate   \n",
       "\n",
       "   require_guest_profile_picture  require_guest_phone_verification  \\\n",
       "0                              0                                 0   \n",
       "1                              0                                 0   \n",
       "\n",
       "   calculated_host_listings_count  reviews_per_month  price_Nov16  \\\n",
       "0                               1                NaN          NaN   \n",
       "1                               1                2.0          NaN   \n",
       "\n",
       "   availability_30_Nov16  availability_60_Nov16  availability_90_Nov16  \\\n",
       "0                    NaN                    NaN                    NaN   \n",
       "1                    NaN                    NaN                    NaN   \n",
       "\n",
       "   availability_365_Nov16  price_Dec16  availability_30_Dec16  \\\n",
       "0                     NaN          NaN                    NaN   \n",
       "1                     NaN          NaN                    NaN   \n",
       "\n",
       "   availability_60_Dec16  availability_90_Dec16  availability_365_Dec16  \\\n",
       "0                    NaN                    NaN                     NaN   \n",
       "1                    NaN                    NaN                     NaN   \n",
       "\n",
       "   price_Jan17  availability_30_Jan17  availability_60_Jan17  \\\n",
       "0          NaN                    NaN                    NaN   \n",
       "1          NaN                    NaN                    NaN   \n",
       "\n",
       "   availability_90_Jan17  availability_365_Jan17  price_Feb17  \\\n",
       "0                    NaN                     NaN          NaN   \n",
       "1                    NaN                     NaN          NaN   \n",
       "\n",
       "   availability_30_Feb17  availability_60_Feb17  availability_90_Feb17  \\\n",
       "0                    NaN                    NaN                    NaN   \n",
       "1                    NaN                    NaN                    NaN   \n",
       "\n",
       "   availability_365_Feb17  price_Mar17  availability_30_Mar17  \\\n",
       "0                     NaN          NaN                    NaN   \n",
       "1                     NaN          NaN                    NaN   \n",
       "\n",
       "   availability_60_Mar17  availability_90_Mar17  availability_365_Mar17  \\\n",
       "0                    NaN                    NaN                     NaN   \n",
       "1                    NaN                    NaN                     NaN   \n",
       "\n",
       "   price_Apr17  availability_30_Apr17  availability_60_Apr17  \\\n",
       "0          NaN                    NaN                    NaN   \n",
       "1          NaN                    NaN                    NaN   \n",
       "\n",
       "   availability_90_Apr17  availability_365_Apr17  price_May17  \\\n",
       "0                    NaN                     NaN        110.0   \n",
       "1                    NaN                     NaN          NaN   \n",
       "\n",
       "   availability_30_May17  availability_60_May17  availability_90_May17  \\\n",
       "0                    0.0                    3.0                    3.0   \n",
       "1                    NaN                    NaN                    NaN   \n",
       "\n",
       "   availability_365_May17  price_Jun17  availability_30_Jun17  \\\n",
       "0                     3.0        110.0                    5.0   \n",
       "1                     NaN          NaN                    NaN   \n",
       "\n",
       "   availability_60_Jun17  availability_90_Jun17  availability_365_Jun17  \\\n",
       "0                    5.0                    5.0                     5.0   \n",
       "1                    NaN                    NaN                     NaN   \n",
       "\n",
       "   price_Jul17  availability_30_Jul17  availability_60_Jul17  \\\n",
       "0        110.0                    0.0                    0.0   \n",
       "1          NaN                    NaN                    NaN   \n",
       "\n",
       "   availability_90_Jul17  availability_365_Jul17  price_Aug17  \\\n",
       "0                    0.0                     0.0        110.0   \n",
       "1                    NaN                     NaN          NaN   \n",
       "\n",
       "   availability_30_Aug17  availability_60_Aug17  availability_90_Aug17  \\\n",
       "0                    0.0                    0.0                    0.0   \n",
       "1                    NaN                    NaN                    NaN   \n",
       "\n",
       "   availability_365_Aug17  price_Sep17  availability_30_Sep17  \\\n",
       "0                     0.0        110.0                    0.0   \n",
       "1                     NaN          NaN                    NaN   \n",
       "\n",
       "   availability_60_Sep17  availability_90_Sep17  availability_365_Sep17  \\\n",
       "0                    0.0                    0.0                     0.0   \n",
       "1                    NaN                    NaN                     NaN   \n",
       "\n",
       "                                  amenities_list  essentials  pool  kitchen  \\\n",
       "0  [1, 0, 1, 0, 0, 0, 0, 0, 1, 1, 0, 1, 0, 0, 0]           1     0        1   \n",
       "1  [1, 0, 1, 1, 0, 0, 0, 0, 1, 0, 1, 1, 0, 0, 0]           1     0        1   \n",
       "\n",
       "   washer  parking  elevator  hot_tub  gym  wifi  tv  heat  AC  fireplace  \\\n",
       "0       0        0         0        0    0     1   1     0   1          0   \n",
       "1       1        0         0        0    0     1   0     1   1          0   \n",
       "\n",
       "   pets_allowed  lock  apartment  house  loft  townhouse  condo  entire_home  \\\n",
       "0             0     0          1      0     0          0      0            1   \n",
       "1             0     0          0      1     0          0      0            0   \n",
       "\n",
       "   private_room  shared_room  real_bed  distance_from_NYC  \\\n",
       "0             0            0         1          10.186191   \n",
       "1             1            0         1          23.913715   \n",
       "\n",
       "   zipcode_median_income  zipcode_income_class  zipcode_median_rent  \\\n",
       "0                 3074.0                   3.0               1417.0   \n",
       "1                    NaN                   NaN                  NaN   \n",
       "\n",
       "   zipcode_rent_class  \n",
       "0                 6.0  \n",
       "1                 NaN  "
      ]
     },
     "execution_count": 7,
     "metadata": {},
     "output_type": "execute_result"
    }
   ],
   "source": [
    "dfListings.head(2)"
   ]
  },
  {
   "cell_type": "markdown",
   "metadata": {},
   "source": [
    "## Filter outliers\n",
    "Properties with price per night > $1k"
   ]
  },
  {
   "cell_type": "code",
   "execution_count": 8,
   "metadata": {
    "ExecuteTime": {
     "end_time": "2018-01-09T00:25:21.601158Z",
     "start_time": "2018-01-09T00:25:21.263632Z"
    },
    "scrolled": true
   },
   "outputs": [
    {
     "data": {
      "image/png": "[encoded data removed]",
      "text/plain": [
       "<matplotlib.figure.Figure at 0x117963f28>"
      ]
     },
     "metadata": {},
     "output_type": "display_data"
    }
   ],
   "source": [
    "plt.hist(dfListings.price);"
   ]
  },
  {
   "cell_type": "code",
   "execution_count": 9,
   "metadata": {
    "ExecuteTime": {
     "end_time": "2018-01-09T00:25:22.828750Z",
     "start_time": "2018-01-09T00:25:22.377501Z"
    }
   },
   "outputs": [
    {
     "data": {
      "image/png": "[encoded data removed]",
      "text/plain": [
       "<matplotlib.figure.Figure at 0x10c576978>"
      ]
     },
     "metadata": {},
     "output_type": "display_data"
    }
   ],
   "source": [
    "plt.hist(dfListings[dfListings['price'] < 1000].price);"
   ]
  },
  {
   "cell_type": "code",
   "execution_count": 10,
   "metadata": {
    "ExecuteTime": {
     "end_time": "2018-01-09T00:25:24.092415Z",
     "start_time": "2018-01-09T00:25:24.029301Z"
    },
    "collapsed": true
   },
   "outputs": [],
   "source": [
    "dfListings_cut = dfListings[dfListings['price'] < 1000]"
   ]
  },
  {
   "cell_type": "code",
   "execution_count": 11,
   "metadata": {
    "ExecuteTime": {
     "end_time": "2018-01-09T00:25:25.311500Z",
     "start_time": "2018-01-09T00:25:25.184943Z"
    },
    "collapsed": true
   },
   "outputs": [],
   "source": [
    "dfListings_cut = dfListings_cut.reset_index()"
   ]
  },
  {
   "cell_type": "code",
   "execution_count": 12,
   "metadata": {
    "ExecuteTime": {
     "end_time": "2018-01-09T00:25:26.291358Z",
     "start_time": "2018-01-09T00:25:26.285618Z"
    }
   },
   "outputs": [
    {
     "name": "stdout",
     "output_type": "stream",
     "text": [
      "44317\n",
      "44074\n"
     ]
    }
   ],
   "source": [
    "print(len(dfListings))\n",
    "print(len(dfListings_cut))"
   ]
  },
  {
   "cell_type": "markdown",
   "metadata": {},
   "source": [
    "## Define X and y"
   ]
  },
  {
   "cell_type": "code",
   "execution_count": 13,
   "metadata": {
    "ExecuteTime": {
     "end_time": "2018-01-09T00:25:29.698376Z",
     "start_time": "2018-01-09T00:25:29.650972Z"
    },
    "collapsed": true
   },
   "outputs": [],
   "source": [
    "X_full = dfListings_cut[[\n",
    "#     'host_is_superhost', #binarized 0-1\n",
    "#      'host_has_profile_pic', #binarized 0-1\n",
    "#      'host_identity_verified', #binarized 0-1\n",
    "     'accommodates', #numerical\n",
    "     'bathrooms', #numerical\n",
    "     'bedrooms', #numerical\n",
    "#      'beds', #numerical\n",
    "#      'essentials', #binarized 0-1\n",
    "#      'pool', #binarized 0-1\n",
    "#      'kitchen', #binarized 0-1\n",
    "#      'washer', #binarized 0-1\n",
    "#      'parking', #binarized 0-1\n",
    "#      'elevator', #binarized 0-1\n",
    "#      'hot_tub', #binarized 0-1\n",
    "#      'gym', #binarized 0-1\n",
    "#      'wifi', #binarized 0-1\n",
    "#      'tv', #binarized 0-1\n",
    "#      'heat', #binarized 0-1\n",
    "#      'AC', #binarized 0-1\n",
    "#      'fireplace', #binarized 0-1\n",
    "#      'pets_allowed', #binarized 0-1\n",
    "#      'lock', #binarized 0-1\n",
    "#      'apartment', #binarized 0-1\n",
    "#      'house', #binarized 0-1\n",
    "#      'loft', #binarized 0-1\n",
    "#      'townhouse', #binarized 0-1\n",
    "#      'condo', #binarized 0-1\n",
    "     'entire_home', #binarized 0-1\n",
    "     'private_room', #binarized 0-1\n",
    "     'shared_room', #binarized 0-1\n",
    "#      'real_bed', #binarized 0-1\n",
    "     'distance_from_NYC', #numerical\n",
    "    'zipcode_median_income', #ordinal 1-8\n",
    "#     'zipcode_median_rent' #ordinal 1-8\n",
    "                  ]]"
   ]
  },
  {
   "cell_type": "code",
   "execution_count": 14,
   "metadata": {
    "ExecuteTime": {
     "end_time": "2018-01-09T00:25:30.603376Z",
     "start_time": "2018-01-09T00:25:30.598908Z"
    },
    "collapsed": true
   },
   "outputs": [],
   "source": [
    "y_full = dfListings_cut.price"
   ]
  },
  {
   "cell_type": "code",
   "execution_count": 15,
   "metadata": {
    "ExecuteTime": {
     "end_time": "2018-01-09T00:25:31.329518Z",
     "start_time": "2018-01-09T00:25:31.323158Z"
    }
   },
   "outputs": [
    {
     "name": "stdout",
     "output_type": "stream",
     "text": [
      "(44074, 8)\n",
      "(44074,)\n"
     ]
    }
   ],
   "source": [
    "print(X_full.shape)\n",
    "print(y_full.shape)"
   ]
  },
  {
   "cell_type": "markdown",
   "metadata": {},
   "source": [
    "## Test-train split"
   ]
  },
  {
   "cell_type": "code",
   "execution_count": 16,
   "metadata": {
    "ExecuteTime": {
     "end_time": "2018-01-09T00:25:34.396003Z",
     "start_time": "2018-01-09T00:25:34.376493Z"
    },
    "collapsed": true
   },
   "outputs": [],
   "source": [
    "X_train_raw, X_test_raw, y_train_raw, y_test_raw = train_test_split(X_full, y_full, test_size=0.33, random_state=42)"
   ]
  },
  {
   "cell_type": "code",
   "execution_count": 17,
   "metadata": {
    "ExecuteTime": {
     "end_time": "2018-01-09T00:25:35.065198Z",
     "start_time": "2018-01-09T00:25:35.056561Z"
    }
   },
   "outputs": [
    {
     "name": "stdout",
     "output_type": "stream",
     "text": [
      "(29529, 8)\n",
      "(29529,)\n",
      "(14545, 8)\n",
      "(14545,)\n"
     ]
    }
   ],
   "source": [
    "print(X_train_raw.shape)\n",
    "print(y_train_raw.shape)\n",
    "\n",
    "print(X_test_raw.shape)\n",
    "print(y_test_raw.shape)"
   ]
  },
  {
   "cell_type": "markdown",
   "metadata": {},
   "source": [
    "## Data imputation\n",
    "### Check null values"
   ]
  },
  {
   "cell_type": "code",
   "execution_count": 18,
   "metadata": {
    "ExecuteTime": {
     "end_time": "2018-01-09T00:25:38.104977Z",
     "start_time": "2018-01-09T00:25:38.099288Z"
    },
    "collapsed": true
   },
   "outputs": [],
   "source": [
    "def check_nulls(dataframe, features):\n",
    "    contains_null = []\n",
    "    for f in features:\n",
    "        if dataframe[f].isnull().sum() > 0:\n",
    "            contains_null.append(f)\n",
    "    return contains_null"
   ]
  },
  {
   "cell_type": "code",
   "execution_count": 19,
   "metadata": {
    "ExecuteTime": {
     "end_time": "2018-01-09T00:25:38.986531Z",
     "start_time": "2018-01-09T00:25:38.970799Z"
    }
   },
   "outputs": [
    {
     "data": {
      "text/plain": [
       "['bathrooms', 'bedrooms', 'zipcode_median_income']"
      ]
     },
     "execution_count": 19,
     "metadata": {},
     "output_type": "execute_result"
    }
   ],
   "source": [
    "check_nulls(dfListings, X_train_raw.columns)"
   ]
  },
  {
   "cell_type": "code",
   "execution_count": 20,
   "metadata": {
    "ExecuteTime": {
     "end_time": "2018-01-09T00:25:39.669367Z",
     "start_time": "2018-01-09T00:25:39.653945Z"
    },
    "scrolled": true
   },
   "outputs": [
    {
     "data": {
      "text/plain": [
       "accommodates               0\n",
       "bathrooms                103\n",
       "bedrooms                  51\n",
       "entire_home                0\n",
       "private_room               0\n",
       "shared_room                0\n",
       "distance_from_NYC          0\n",
       "zipcode_median_income    411\n",
       "dtype: int64"
      ]
     },
     "execution_count": 20,
     "metadata": {},
     "output_type": "execute_result"
    }
   ],
   "source": [
    "X_train_raw.isnull().sum()"
   ]
  },
  {
   "cell_type": "code",
   "execution_count": 21,
   "metadata": {
    "ExecuteTime": {
     "end_time": "2018-01-09T00:25:40.405806Z",
     "start_time": "2018-01-09T00:25:40.398380Z"
    }
   },
   "outputs": [
    {
     "data": {
      "text/plain": [
       "0"
      ]
     },
     "execution_count": 21,
     "metadata": {},
     "output_type": "execute_result"
    }
   ],
   "source": [
    "y_train_raw.isnull().sum()"
   ]
  },
  {
   "cell_type": "code",
   "execution_count": null,
   "metadata": {
    "collapsed": true
   },
   "outputs": [],
   "source": [
    "# X_train_raw.describe()"
   ]
  },
  {
   "cell_type": "markdown",
   "metadata": {},
   "source": [
    "### Determine strategy"
   ]
  },
  {
   "cell_type": "markdown",
   "metadata": {},
   "source": [
    "Evaluate which imputation strategy to use:"
   ]
  },
  {
   "cell_type": "code",
   "execution_count": 22,
   "metadata": {
    "ExecuteTime": {
     "end_time": "2018-01-09T00:25:49.116853Z",
     "start_time": "2018-01-09T00:25:49.110699Z"
    },
    "collapsed": true
   },
   "outputs": [],
   "source": [
    "def modeVSmean(df, features):\n",
    "    for f in features:\n",
    "        print(f, \"Mean: \", df[f].mean(), \"Mode: \", df[f].mode()[0])"
   ]
  },
  {
   "cell_type": "code",
   "execution_count": 23,
   "metadata": {
    "ExecuteTime": {
     "end_time": "2018-01-09T00:25:50.024995Z",
     "start_time": "2018-01-09T00:25:49.989627Z"
    },
    "scrolled": true
   },
   "outputs": [
    {
     "name": "stdout",
     "output_type": "stream",
     "text": [
      "bathrooms Mean:  1.1327394562289181 Mode:  1.0\n",
      "bedrooms Mean:  1.158891601121056 Mode:  1.0\n",
      "zipcode_median_income Mean:  6285.914806930807 Mode:  3210.0\n"
     ]
    }
   ],
   "source": [
    "modeVSmean(dfListings, ['bathrooms', 'bedrooms', 'zipcode_median_income'])"
   ]
  },
  {
   "cell_type": "markdown",
   "metadata": {},
   "source": [
    "Features to impute with \"most frequent\" strategy:\n",
    "- none\n",
    "\n",
    "Features to impute with \"mean\" strategy:\n",
    "- bathrooms\n",
    "- bedrooms\n",
    "- zipcode_median_income"
   ]
  },
  {
   "cell_type": "markdown",
   "metadata": {},
   "source": [
    "### Build imputation pipeline"
   ]
  },
  {
   "cell_type": "markdown",
   "metadata": {},
   "source": [
    "Define some custom transformers.\n",
    "\n",
    "Reference: https://github.com/jem1031/pandas-pipelines-custom-transformers"
   ]
  },
  {
   "cell_type": "code",
   "execution_count": 24,
   "metadata": {
    "ExecuteTime": {
     "end_time": "2018-01-09T00:25:57.485590Z",
     "start_time": "2018-01-09T00:25:57.472071Z"
    },
    "collapsed": true
   },
   "outputs": [],
   "source": [
    "class DFFeatureUnion(TransformerMixin):\n",
    "    # FeatureUnion but for pandas DataFrames\n",
    "\n",
    "    def __init__(self, transformer_list):\n",
    "        self.transformer_list = transformer_list\n",
    "\n",
    "    def fit(self, X, y=None):\n",
    "        for (name, t) in self.transformer_list:\n",
    "            t.fit(X, y)\n",
    "        return self\n",
    "\n",
    "    def transform(self, X):\n",
    "        # assumes X is a DataFrame\n",
    "        Xts = [t.transform(X) for _, t in self.transformer_list]\n",
    "        Xunion = reduce(lambda X1, X2: pd.merge(X1, X2, left_index=True, right_index=True), Xts)\n",
    "        return Xunion"
   ]
  },
  {
   "cell_type": "code",
   "execution_count": 25,
   "metadata": {
    "ExecuteTime": {
     "end_time": "2018-01-09T00:25:58.484629Z",
     "start_time": "2018-01-09T00:25:58.475790Z"
    },
    "collapsed": true
   },
   "outputs": [],
   "source": [
    "class ColumnExtractor(TransformerMixin):\n",
    "\n",
    "    def __init__(self, cols):\n",
    "        self.cols = cols\n",
    "\n",
    "    def fit(self, X, y=None):\n",
    "        # stateless transformer\n",
    "        return self\n",
    "\n",
    "    def transform(self, X):\n",
    "        # assumes X is a DataFrame\n",
    "        Xcols = X[self.cols]\n",
    "        return Xcols"
   ]
  },
  {
   "cell_type": "code",
   "execution_count": 26,
   "metadata": {
    "ExecuteTime": {
     "end_time": "2018-01-09T00:25:59.482659Z",
     "start_time": "2018-01-09T00:25:59.466963Z"
    },
    "collapsed": true
   },
   "outputs": [],
   "source": [
    "class DFImputer(TransformerMixin):\n",
    "    # Imputer but for pandas DataFrames\n",
    "\n",
    "    def __init__(self, strategy='mean'):\n",
    "        self.strategy = strategy\n",
    "        self.imp = None\n",
    "        self.statistics_ = None\n",
    "\n",
    "    def fit(self, X, y=None):\n",
    "        self.imp = Imputer(strategy=self.strategy)\n",
    "        self.imp.fit(X)\n",
    "        self.statistics_ = pd.Series(self.imp.statistics_, index=X.columns)\n",
    "        return self\n",
    "\n",
    "    def transform(self, X):\n",
    "        # assumes X is a DataFrame\n",
    "        Ximp = self.imp.transform(X)\n",
    "        Xfilled = pd.DataFrame(Ximp, index=X.index, columns=X.columns)\n",
    "        return Xfilled"
   ]
  },
  {
   "cell_type": "code",
   "execution_count": 27,
   "metadata": {
    "ExecuteTime": {
     "end_time": "2018-01-09T00:26:00.416760Z",
     "start_time": "2018-01-09T00:26:00.409220Z"
    }
   },
   "outputs": [
    {
     "data": {
      "text/plain": [
       "Index(['accommodates', 'bathrooms', 'bedrooms', 'entire_home', 'private_room',\n",
       "       'shared_room', 'distance_from_NYC', 'zipcode_median_income'],\n",
       "      dtype='object')"
      ]
     },
     "execution_count": 27,
     "metadata": {},
     "output_type": "execute_result"
    }
   ],
   "source": [
    "X_train_raw.columns"
   ]
  },
  {
   "cell_type": "code",
   "execution_count": 28,
   "metadata": {
    "ExecuteTime": {
     "end_time": "2018-01-09T00:26:04.122837Z",
     "start_time": "2018-01-09T00:26:04.118281Z"
    },
    "collapsed": true
   },
   "outputs": [],
   "source": [
    "ready_features = ['accommodates', 'entire_home', 'private_room', 'shared_room', 'distance_from_NYC']\n",
    "\n",
    "set1 = ['bathrooms', 'bedrooms', 'zipcode_median_income']"
   ]
  },
  {
   "cell_type": "code",
   "execution_count": 29,
   "metadata": {
    "ExecuteTime": {
     "end_time": "2018-01-09T00:26:05.433285Z",
     "start_time": "2018-01-09T00:26:05.422104Z"
    },
    "collapsed": true
   },
   "outputs": [],
   "source": [
    "imp_pipeline = Pipeline([\n",
    "    ('features_to_be_imputed', DFFeatureUnion([\n",
    "        ('features_ready', Pipeline([\n",
    "            ('extract', ColumnExtractor(ready_features))\n",
    "        ])),\n",
    "        ('features_set1', Pipeline([\n",
    "            ('extract', ColumnExtractor(set1)),\n",
    "            ('mode_fill', DFImputer(strategy = 'mean'))\n",
    "        ])),\n",
    "    ])),\n",
    "])"
   ]
  },
  {
   "cell_type": "code",
   "execution_count": 30,
   "metadata": {
    "ExecuteTime": {
     "end_time": "2018-01-09T00:26:06.388625Z",
     "start_time": "2018-01-09T00:26:06.346961Z"
    },
    "collapsed": true
   },
   "outputs": [],
   "source": [
    "imp_pipeline.fit(X_train_raw)\n",
    "\n",
    "X_train = imp_pipeline.transform(X_train_raw)\n",
    "X_test = imp_pipeline.transform(X_test_raw)"
   ]
  },
  {
   "cell_type": "code",
   "execution_count": 31,
   "metadata": {
    "ExecuteTime": {
     "end_time": "2018-01-09T00:26:07.431964Z",
     "start_time": "2018-01-09T00:26:07.421991Z"
    },
    "scrolled": false
   },
   "outputs": [
    {
     "name": "stdout",
     "output_type": "stream",
     "text": [
      "Train X,y:\n",
      "(29529, 8)\n",
      "(29529, 8)\n",
      "(29529,)\n",
      " \n",
      "Test X,y:\n",
      "(14545, 8)\n",
      "(14545, 8)\n",
      "(14545,)\n"
     ]
    }
   ],
   "source": [
    "print('Train X,y:')\n",
    "print(X_train_raw.shape)\n",
    "print(X_train.shape)\n",
    "print(y_train_raw.shape)\n",
    "print(' \\nTest X,y:')\n",
    "print(X_test_raw.shape)\n",
    "print(X_test.shape)\n",
    "print(y_test_raw.shape)"
   ]
  },
  {
   "cell_type": "markdown",
   "metadata": {},
   "source": [
    "## Random Forest Regressor Model"
   ]
  },
  {
   "cell_type": "code",
   "execution_count": 32,
   "metadata": {
    "ExecuteTime": {
     "end_time": "2018-01-09T00:26:11.995518Z",
     "start_time": "2018-01-09T00:26:11.991843Z"
    },
    "collapsed": true
   },
   "outputs": [],
   "source": [
    "model = RandomForestRegressor(n_estimators=150, min_impurity_split=150, min_impurity_decrease=0.01, max_depth=4)"
   ]
  },
  {
   "cell_type": "code",
   "execution_count": 33,
   "metadata": {
    "ExecuteTime": {
     "end_time": "2018-01-09T00:26:15.819789Z",
     "start_time": "2018-01-09T00:26:12.769538Z"
    }
   },
   "outputs": [
    {
     "data": {
      "text/plain": [
       "RandomForestRegressor(bootstrap=True, criterion='mse', max_depth=4,\n",
       "           max_features='auto', max_leaf_nodes=None,\n",
       "           min_impurity_decrease=0.01, min_impurity_split=150,\n",
       "           min_samples_leaf=1, min_samples_split=2,\n",
       "           min_weight_fraction_leaf=0.0, n_estimators=150, n_jobs=1,\n",
       "           oob_score=False, random_state=None, verbose=0, warm_start=False)"
      ]
     },
     "execution_count": 33,
     "metadata": {},
     "output_type": "execute_result"
    }
   ],
   "source": [
    "model.fit(X_train, y_train_raw)"
   ]
  },
  {
   "cell_type": "code",
   "execution_count": 34,
   "metadata": {
    "ExecuteTime": {
     "end_time": "2018-01-09T00:26:32.876701Z",
     "start_time": "2018-01-09T00:26:32.789339Z"
    },
    "collapsed": true
   },
   "outputs": [],
   "source": [
    "y_test_pred = model.predict(X_test)"
   ]
  },
  {
   "cell_type": "code",
   "execution_count": 35,
   "metadata": {
    "ExecuteTime": {
     "end_time": "2018-01-09T00:26:33.671880Z",
     "start_time": "2018-01-09T00:26:33.664387Z"
    }
   },
   "outputs": [
    {
     "data": {
      "text/plain": [
       "69.466304588106922"
      ]
     },
     "execution_count": 35,
     "metadata": {},
     "output_type": "execute_result"
    }
   ],
   "source": [
    "y_test_pred[0]"
   ]
  },
  {
   "cell_type": "markdown",
   "metadata": {},
   "source": [
    "### Score"
   ]
  },
  {
   "cell_type": "code",
   "execution_count": 36,
   "metadata": {
    "ExecuteTime": {
     "end_time": "2018-01-09T00:26:36.847706Z",
     "start_time": "2018-01-09T00:26:36.759952Z"
    }
   },
   "outputs": [
    {
     "data": {
      "text/plain": [
       "0.53037615635024649"
      ]
     },
     "execution_count": 36,
     "metadata": {},
     "output_type": "execute_result"
    }
   ],
   "source": [
    "model.score(X_test, y_test_raw)"
   ]
  },
  {
   "cell_type": "code",
   "execution_count": 37,
   "metadata": {
    "ExecuteTime": {
     "end_time": "2018-01-09T00:26:37.699333Z",
     "start_time": "2018-01-09T00:26:37.505454Z"
    }
   },
   "outputs": [
    {
     "data": {
      "text/plain": [
       "0.54753165810943683"
      ]
     },
     "execution_count": 37,
     "metadata": {},
     "output_type": "execute_result"
    }
   ],
   "source": [
    "model.score(X_train, y_train_raw)"
   ]
  },
  {
   "cell_type": "markdown",
   "metadata": {},
   "source": [
    "### Feature Importances"
   ]
  },
  {
   "cell_type": "code",
   "execution_count": 38,
   "metadata": {
    "ExecuteTime": {
     "end_time": "2018-01-09T00:26:40.604025Z",
     "start_time": "2018-01-09T00:26:40.587105Z"
    },
    "collapsed": true
   },
   "outputs": [],
   "source": [
    "fi = model.feature_importances_"
   ]
  },
  {
   "cell_type": "code",
   "execution_count": 39,
   "metadata": {
    "ExecuteTime": {
     "end_time": "2018-01-09T00:26:41.455948Z",
     "start_time": "2018-01-09T00:26:41.446997Z"
    },
    "scrolled": true
   },
   "outputs": [
    {
     "data": {
      "text/plain": [
       "[('entire_home', 0.49324830493870392),\n",
       " ('bathrooms', 0.24310915970164027),\n",
       " ('zipcode_median_income', 0.14374653794749492),\n",
       " ('accommodates', 0.06283122573604942),\n",
       " ('bedrooms', 0.038892621832338554),\n",
       " ('distance_from_NYC', 0.018170245280895857),\n",
       " ('shared_room', 1.9045628770840808e-06),\n",
       " ('private_room', 0.0)]"
      ]
     },
     "execution_count": 39,
     "metadata": {},
     "output_type": "execute_result"
    }
   ],
   "source": [
    "sorted(list(zip(X_train.columns, fi)), key=lambda x: x[1], reverse=True)"
   ]
  },
  {
   "cell_type": "markdown",
   "metadata": {},
   "source": [
    "###  Predictions"
   ]
  },
  {
   "cell_type": "code",
   "execution_count": 40,
   "metadata": {
    "ExecuteTime": {
     "end_time": "2018-01-09T00:26:45.372337Z",
     "start_time": "2018-01-09T00:26:44.960242Z"
    },
    "collapsed": true
   },
   "outputs": [],
   "source": [
    "X_full_transformed = imp_pipeline.transform(X_full)\n",
    "\n",
    "X_full['pred'] = model.predict(X_full_transformed)\n",
    "\n",
    "X_full['price'] = y_full\n",
    "\n",
    "X_full['residual'] = X_full['pred'] - X_full['price']"
   ]
  },
  {
   "cell_type": "code",
   "execution_count": 41,
   "metadata": {
    "ExecuteTime": {
     "end_time": "2018-01-09T00:26:45.983115Z",
     "start_time": "2018-01-09T00:26:45.943967Z"
    }
   },
   "outputs": [
    {
     "data": {
      "text/html": [
       "<div>\n",
       "<style>\n",
       "    .dataframe thead tr:only-child th {\n",
       "        text-align: right;\n",
       "    }\n",
       "\n",
       "    .dataframe thead th {\n",
       "        text-align: left;\n",
       "    }\n",
       "\n",
       "    .dataframe tbody tr th {\n",
       "        vertical-align: top;\n",
       "    }\n",
       "</style>\n",
       "<table border=\"1\" class=\"dataframe\">\n",
       "  <thead>\n",
       "    <tr style=\"text-align: right;\">\n",
       "      <th></th>\n",
       "      <th>accommodates</th>\n",
       "      <th>bathrooms</th>\n",
       "      <th>bedrooms</th>\n",
       "      <th>entire_home</th>\n",
       "      <th>private_room</th>\n",
       "      <th>shared_room</th>\n",
       "      <th>distance_from_NYC</th>\n",
       "      <th>zipcode_median_income</th>\n",
       "      <th>pred</th>\n",
       "      <th>price</th>\n",
       "      <th>residual</th>\n",
       "    </tr>\n",
       "  </thead>\n",
       "  <tbody>\n",
       "    <tr>\n",
       "      <th>0</th>\n",
       "      <td>2</td>\n",
       "      <td>1.0</td>\n",
       "      <td>0.0</td>\n",
       "      <td>1</td>\n",
       "      <td>0</td>\n",
       "      <td>0</td>\n",
       "      <td>10.186191</td>\n",
       "      <td>3074.0</td>\n",
       "      <td>134.931464</td>\n",
       "      <td>110.0</td>\n",
       "      <td>24.931464</td>\n",
       "    </tr>\n",
       "    <tr>\n",
       "      <th>1</th>\n",
       "      <td>2</td>\n",
       "      <td>1.0</td>\n",
       "      <td>1.0</td>\n",
       "      <td>0</td>\n",
       "      <td>1</td>\n",
       "      <td>0</td>\n",
       "      <td>23.913715</td>\n",
       "      <td>NaN</td>\n",
       "      <td>72.246923</td>\n",
       "      <td>50.0</td>\n",
       "      <td>22.246923</td>\n",
       "    </tr>\n",
       "    <tr>\n",
       "      <th>2</th>\n",
       "      <td>3</td>\n",
       "      <td>1.0</td>\n",
       "      <td>1.0</td>\n",
       "      <td>1</td>\n",
       "      <td>0</td>\n",
       "      <td>0</td>\n",
       "      <td>23.948377</td>\n",
       "      <td>10854.0</td>\n",
       "      <td>204.318340</td>\n",
       "      <td>125.0</td>\n",
       "      <td>79.318340</td>\n",
       "    </tr>\n",
       "    <tr>\n",
       "      <th>3</th>\n",
       "      <td>4</td>\n",
       "      <td>1.0</td>\n",
       "      <td>1.0</td>\n",
       "      <td>1</td>\n",
       "      <td>0</td>\n",
       "      <td>0</td>\n",
       "      <td>24.165824</td>\n",
       "      <td>10854.0</td>\n",
       "      <td>204.318340</td>\n",
       "      <td>100.0</td>\n",
       "      <td>104.318340</td>\n",
       "    </tr>\n",
       "    <tr>\n",
       "      <th>4</th>\n",
       "      <td>4</td>\n",
       "      <td>3.0</td>\n",
       "      <td>3.0</td>\n",
       "      <td>1</td>\n",
       "      <td>0</td>\n",
       "      <td>0</td>\n",
       "      <td>23.588207</td>\n",
       "      <td>10854.0</td>\n",
       "      <td>469.022977</td>\n",
       "      <td>300.0</td>\n",
       "      <td>169.022977</td>\n",
       "    </tr>\n",
       "  </tbody>\n",
       "</table>\n",
       "</div>"
      ],
      "text/plain": [
       "   accommodates  bathrooms  bedrooms  entire_home  private_room  shared_room  \\\n",
       "0             2        1.0       0.0            1             0            0   \n",
       "1             2        1.0       1.0            0             1            0   \n",
       "2             3        1.0       1.0            1             0            0   \n",
       "3             4        1.0       1.0            1             0            0   \n",
       "4             4        3.0       3.0            1             0            0   \n",
       "\n",
       "   distance_from_NYC  zipcode_median_income        pred  price    residual  \n",
       "0          10.186191                 3074.0  134.931464  110.0   24.931464  \n",
       "1          23.913715                    NaN   72.246923   50.0   22.246923  \n",
       "2          23.948377                10854.0  204.318340  125.0   79.318340  \n",
       "3          24.165824                10854.0  204.318340  100.0  104.318340  \n",
       "4          23.588207                10854.0  469.022977  300.0  169.022977  "
      ]
     },
     "execution_count": 41,
     "metadata": {},
     "output_type": "execute_result"
    }
   ],
   "source": [
    "X_full.head()"
   ]
  },
  {
   "cell_type": "code",
   "execution_count": 42,
   "metadata": {
    "ExecuteTime": {
     "end_time": "2018-01-09T00:26:49.224862Z",
     "start_time": "2018-01-09T00:26:48.641768Z"
    }
   },
   "outputs": [
    {
     "data": {
      "image/png": "[encoded data removed]",
      "text/plain": [
       "<matplotlib.figure.Figure at 0x1179d0588>"
      ]
     },
     "metadata": {},
     "output_type": "display_data"
    }
   ],
   "source": [
    "plt.scatter(X_full.price, X_full.pred, marker='.')\n",
    "plt.xlabel('actual price')\n",
    "plt.ylabel('predicted price');"
   ]
  },
  {
   "cell_type": "markdown",
   "metadata": {},
   "source": [
    "### Mean absolute error"
   ]
  },
  {
   "cell_type": "code",
   "execution_count": 43,
   "metadata": {
    "ExecuteTime": {
     "end_time": "2018-01-09T00:26:58.213836Z",
     "start_time": "2018-01-09T00:26:58.205724Z"
    },
    "collapsed": true
   },
   "outputs": [],
   "source": [
    "errors = X_full.residual.tolist()"
   ]
  },
  {
   "cell_type": "code",
   "execution_count": 44,
   "metadata": {
    "ExecuteTime": {
     "end_time": "2018-01-09T00:26:59.055194Z",
     "start_time": "2018-01-09T00:26:59.042578Z"
    },
    "collapsed": true
   },
   "outputs": [],
   "source": [
    "errors_abs = [abs(e) for e in errors]"
   ]
  },
  {
   "cell_type": "code",
   "execution_count": 45,
   "metadata": {
    "ExecuteTime": {
     "end_time": "2018-01-09T00:26:59.702440Z",
     "start_time": "2018-01-09T00:26:59.695443Z"
    },
    "collapsed": true
   },
   "outputs": [],
   "source": [
    "mean_absolute_error = np.mean(errors_abs)"
   ]
  },
  {
   "cell_type": "code",
   "execution_count": 46,
   "metadata": {
    "ExecuteTime": {
     "end_time": "2018-01-09T00:27:00.568969Z",
     "start_time": "2018-01-09T00:27:00.562321Z"
    }
   },
   "outputs": [
    {
     "data": {
      "text/plain": [
       "43.681351038080699"
      ]
     },
     "execution_count": 46,
     "metadata": {},
     "output_type": "execute_result"
    }
   ],
   "source": [
    "mean_absolute_error"
   ]
  },
  {
   "cell_type": "markdown",
   "metadata": {},
   "source": [
    "### Residual plot"
   ]
  },
  {
   "cell_type": "code",
   "execution_count": 47,
   "metadata": {
    "ExecuteTime": {
     "end_time": "2018-01-09T00:27:05.351188Z",
     "start_time": "2018-01-09T00:27:04.719064Z"
    }
   },
   "outputs": [
    {
     "data": {
      "image/png": "[encoded data removed]",
      "text/plain": [
       "<matplotlib.figure.Figure at 0x11798d470>"
      ]
     },
     "metadata": {},
     "output_type": "display_data"
    }
   ],
   "source": [
    "plt.scatter(X_full.pred, X_full.residual, marker='.')\n",
    "plt.xlabel('predicted price')\n",
    "plt.ylabel('residual');"
   ]
  },
  {
   "cell_type": "code",
   "execution_count": 48,
   "metadata": {
    "ExecuteTime": {
     "end_time": "2018-01-09T00:27:06.507339Z",
     "start_time": "2018-01-09T00:27:06.085249Z"
    }
   },
   "outputs": [
    {
     "data": {
      "image/png": "[encoded data removed]",
      "text/plain": [
       "<matplotlib.figure.Figure at 0x1181aad68>"
      ]
     },
     "metadata": {},
     "output_type": "display_data"
    }
   ],
   "source": [
    "sns.distplot(X_full.residual);"
   ]
  },
  {
   "cell_type": "markdown",
   "metadata": {},
   "source": [
    "## Tune Model\n",
    "### Randomized Search CV"
   ]
  },
  {
   "cell_type": "code",
   "execution_count": 49,
   "metadata": {
    "ExecuteTime": {
     "end_time": "2018-01-09T00:27:19.551758Z",
     "start_time": "2018-01-09T00:27:19.543538Z"
    }
   },
   "outputs": [
    {
     "data": {
      "text/plain": [
       "dict_keys(['bootstrap', 'criterion', 'max_depth', 'max_features', 'max_leaf_nodes', 'min_impurity_decrease', 'min_impurity_split', 'min_samples_leaf', 'min_samples_split', 'min_weight_fraction_leaf', 'n_estimators', 'n_jobs', 'oob_score', 'random_state', 'verbose', 'warm_start'])"
      ]
     },
     "execution_count": 49,
     "metadata": {},
     "output_type": "execute_result"
    }
   ],
   "source": [
    "model.get_params().keys()"
   ]
  },
  {
   "cell_type": "code",
   "execution_count": 50,
   "metadata": {
    "ExecuteTime": {
     "end_time": "2018-01-09T00:27:20.553287Z",
     "start_time": "2018-01-09T00:27:20.543567Z"
    },
    "collapsed": true
   },
   "outputs": [],
   "source": [
    "# Utility function to report best scores\n",
    "def report(results, n_top=3):\n",
    "    for i in range(1, n_top + 1):\n",
    "        candidates = np.flatnonzero(results['rank_test_score'] == i)\n",
    "        for candidate in candidates:\n",
    "            print(\"Model with rank: {0}\".format(i))\n",
    "            print(\"Mean validation score: {0:.3f} (std: {1:.3f})\".format(\n",
    "                  results['mean_test_score'][candidate],\n",
    "                  results['std_test_score'][candidate]))\n",
    "            print(\"Parameters: {0}\".format(results['params'][candidate]))\n",
    "            print(\"\")"
   ]
  },
  {
   "cell_type": "code",
   "execution_count": 51,
   "metadata": {
    "ExecuteTime": {
     "end_time": "2018-01-09T00:27:21.982509Z",
     "start_time": "2018-01-09T00:27:21.974270Z"
    },
    "collapsed": true
   },
   "outputs": [],
   "source": [
    "from scipy.stats import randint as sp_randint"
   ]
  },
  {
   "cell_type": "code",
   "execution_count": 52,
   "metadata": {
    "ExecuteTime": {
     "end_time": "2018-01-09T00:27:22.915021Z",
     "start_time": "2018-01-09T00:27:22.906205Z"
    },
    "collapsed": true
   },
   "outputs": [],
   "source": [
    "parameters = {\n",
    "              'n_estimators': sp_randint(10, 200),\n",
    "              'max_depth': [3, None],\n",
    "              'min_impurity_split': sp_randint(2, 200)\n",
    "              }"
   ]
  },
  {
   "cell_type": "code",
   "execution_count": 53,
   "metadata": {
    "ExecuteTime": {
     "end_time": "2018-01-09T00:27:25.317045Z",
     "start_time": "2018-01-09T00:27:25.312285Z"
    },
    "collapsed": true
   },
   "outputs": [],
   "source": [
    "grid_rand = RandomizedSearchCV(model,\n",
    "                               param_distributions = parameters, \n",
    "                               n_iter=10)"
   ]
  },
  {
   "cell_type": "code",
   "execution_count": 54,
   "metadata": {
    "ExecuteTime": {
     "end_time": "2018-01-09T00:29:13.973942Z",
     "start_time": "2018-01-09T00:27:34.496183Z"
    }
   },
   "outputs": [
    {
     "data": {
      "text/plain": [
       "RandomizedSearchCV(cv=None, error_score='raise',\n",
       "          estimator=RandomForestRegressor(bootstrap=True, criterion='mse', max_depth=4,\n",
       "           max_features='auto', max_leaf_nodes=None,\n",
       "           min_impurity_decrease=0.01, min_impurity_split=150,\n",
       "           min_samples_leaf=1, min_samples_split=2,\n",
       "           min_weight_fraction_leaf=0.0, n_estimators=150, n_jobs=1,\n",
       "           oob_score=False, random_state=None, verbose=0, warm_start=False),\n",
       "          fit_params=None, iid=True, n_iter=10, n_jobs=1,\n",
       "          param_distributions={'n_estimators': <scipy.stats._distn_infrastructure.rv_frozen object at 0x118244da0>, 'max_depth': [3, None], 'min_impurity_split': <scipy.stats._distn_infrastructure.rv_frozen object at 0x118256860>},\n",
       "          pre_dispatch='2*n_jobs', random_state=None, refit=True,\n",
       "          return_train_score=True, scoring=None, verbose=0)"
      ]
     },
     "execution_count": 54,
     "metadata": {},
     "output_type": "execute_result"
    }
   ],
   "source": [
    "grid_rand.fit(X_train, y_train_raw)"
   ]
  },
  {
   "cell_type": "code",
   "execution_count": 55,
   "metadata": {
    "ExecuteTime": {
     "end_time": "2018-01-09T00:30:29.304028Z",
     "start_time": "2018-01-09T00:30:29.294815Z"
    }
   },
   "outputs": [
    {
     "name": "stdout",
     "output_type": "stream",
     "text": [
      "Model with rank: 1\n",
      "Mean validation score: 0.533 (std: 0.012)\n",
      "Parameters: {'max_depth': None, 'min_impurity_split': 187, 'n_estimators': 142}\n",
      "\n",
      "Model with rank: 2\n",
      "Mean validation score: 0.530 (std: 0.013)\n",
      "Parameters: {'max_depth': None, 'min_impurity_split': 161, 'n_estimators': 118}\n",
      "\n",
      "Model with rank: 3\n",
      "Mean validation score: 0.528 (std: 0.014)\n",
      "Parameters: {'max_depth': None, 'min_impurity_split': 78, 'n_estimators': 96}\n",
      "\n"
     ]
    }
   ],
   "source": [
    "report(grid_rand.cv_results_)"
   ]
  },
  {
   "cell_type": "markdown",
   "metadata": {},
   "source": [
    "## XG Boost Regressor"
   ]
  },
  {
   "cell_type": "code",
   "execution_count": 56,
   "metadata": {
    "ExecuteTime": {
     "end_time": "2018-01-09T00:30:37.527185Z",
     "start_time": "2018-01-09T00:30:37.521875Z"
    },
    "collapsed": true
   },
   "outputs": [],
   "source": [
    "model_xgb = GradientBoostingRegressor(learning_rate=0.01, n_estimators = 400, max_depth=4)"
   ]
  },
  {
   "cell_type": "code",
   "execution_count": 57,
   "metadata": {
    "ExecuteTime": {
     "end_time": "2018-01-09T00:30:47.691241Z",
     "start_time": "2018-01-09T00:30:38.552537Z"
    }
   },
   "outputs": [
    {
     "data": {
      "text/plain": [
       "GradientBoostingRegressor(alpha=0.9, criterion='friedman_mse', init=None,\n",
       "             learning_rate=0.01, loss='ls', max_depth=4, max_features=None,\n",
       "             max_leaf_nodes=None, min_impurity_decrease=0.0,\n",
       "             min_impurity_split=None, min_samples_leaf=1,\n",
       "             min_samples_split=2, min_weight_fraction_leaf=0.0,\n",
       "             n_estimators=400, presort='auto', random_state=None,\n",
       "             subsample=1.0, verbose=0, warm_start=False)"
      ]
     },
     "execution_count": 57,
     "metadata": {},
     "output_type": "execute_result"
    }
   ],
   "source": [
    "model_xgb.fit(X_train, y_train_raw)"
   ]
  },
  {
   "cell_type": "code",
   "execution_count": 58,
   "metadata": {
    "ExecuteTime": {
     "end_time": "2018-01-09T00:30:50.431618Z",
     "start_time": "2018-01-09T00:30:50.259910Z"
    },
    "collapsed": true
   },
   "outputs": [],
   "source": [
    "y_test_pred_xgb = model_xgb.predict(X_test)"
   ]
  },
  {
   "cell_type": "markdown",
   "metadata": {},
   "source": [
    "### Score"
   ]
  },
  {
   "cell_type": "code",
   "execution_count": 59,
   "metadata": {
    "ExecuteTime": {
     "end_time": "2018-01-09T00:30:53.382478Z",
     "start_time": "2018-01-09T00:30:52.860671Z"
    }
   },
   "outputs": [
    {
     "name": "stdout",
     "output_type": "stream",
     "text": [
      "train score:  0.620497576215\n",
      "test score:  0.584198743176\n"
     ]
    }
   ],
   "source": [
    "print(\"train score: \", model_xgb.score(X_train, y_train_raw))\n",
    "print(\"test score: \", model_xgb.score(X_test, y_test_raw))"
   ]
  },
  {
   "cell_type": "markdown",
   "metadata": {},
   "source": [
    "### MAE"
   ]
  },
  {
   "cell_type": "code",
   "execution_count": 60,
   "metadata": {
    "ExecuteTime": {
     "end_time": "2018-01-09T00:30:59.872166Z",
     "start_time": "2018-01-09T00:30:59.327175Z"
    },
    "collapsed": true
   },
   "outputs": [],
   "source": [
    "X_full['pred_xgb'] = model_xgb.predict(X_full_transformed)\n",
    "X_full['residual_xgb'] = X_full['pred_xgb'] - X_full['price']"
   ]
  },
  {
   "cell_type": "code",
   "execution_count": 61,
   "metadata": {
    "ExecuteTime": {
     "end_time": "2018-01-09T00:31:00.609385Z",
     "start_time": "2018-01-09T00:31:00.581687Z"
    }
   },
   "outputs": [
    {
     "data": {
      "text/html": [
       "<div>\n",
       "<style>\n",
       "    .dataframe thead tr:only-child th {\n",
       "        text-align: right;\n",
       "    }\n",
       "\n",
       "    .dataframe thead th {\n",
       "        text-align: left;\n",
       "    }\n",
       "\n",
       "    .dataframe tbody tr th {\n",
       "        vertical-align: top;\n",
       "    }\n",
       "</style>\n",
       "<table border=\"1\" class=\"dataframe\">\n",
       "  <thead>\n",
       "    <tr style=\"text-align: right;\">\n",
       "      <th></th>\n",
       "      <th>accommodates</th>\n",
       "      <th>bathrooms</th>\n",
       "      <th>bedrooms</th>\n",
       "      <th>entire_home</th>\n",
       "      <th>private_room</th>\n",
       "      <th>shared_room</th>\n",
       "      <th>distance_from_NYC</th>\n",
       "      <th>zipcode_median_income</th>\n",
       "      <th>pred</th>\n",
       "      <th>price</th>\n",
       "      <th>residual</th>\n",
       "      <th>pred_xgb</th>\n",
       "      <th>residual_xgb</th>\n",
       "    </tr>\n",
       "  </thead>\n",
       "  <tbody>\n",
       "    <tr>\n",
       "      <th>0</th>\n",
       "      <td>2</td>\n",
       "      <td>1.0</td>\n",
       "      <td>0.0</td>\n",
       "      <td>1</td>\n",
       "      <td>0</td>\n",
       "      <td>0</td>\n",
       "      <td>10.186191</td>\n",
       "      <td>3074.0</td>\n",
       "      <td>134.931464</td>\n",
       "      <td>110.0</td>\n",
       "      <td>24.931464</td>\n",
       "      <td>107.212294</td>\n",
       "      <td>-2.787706</td>\n",
       "    </tr>\n",
       "    <tr>\n",
       "      <th>1</th>\n",
       "      <td>2</td>\n",
       "      <td>1.0</td>\n",
       "      <td>1.0</td>\n",
       "      <td>0</td>\n",
       "      <td>1</td>\n",
       "      <td>0</td>\n",
       "      <td>23.913715</td>\n",
       "      <td>NaN</td>\n",
       "      <td>72.246923</td>\n",
       "      <td>50.0</td>\n",
       "      <td>22.246923</td>\n",
       "      <td>82.395326</td>\n",
       "      <td>32.395326</td>\n",
       "    </tr>\n",
       "    <tr>\n",
       "      <th>2</th>\n",
       "      <td>3</td>\n",
       "      <td>1.0</td>\n",
       "      <td>1.0</td>\n",
       "      <td>1</td>\n",
       "      <td>0</td>\n",
       "      <td>0</td>\n",
       "      <td>23.948377</td>\n",
       "      <td>10854.0</td>\n",
       "      <td>204.318340</td>\n",
       "      <td>125.0</td>\n",
       "      <td>79.318340</td>\n",
       "      <td>161.743857</td>\n",
       "      <td>36.743857</td>\n",
       "    </tr>\n",
       "    <tr>\n",
       "      <th>3</th>\n",
       "      <td>4</td>\n",
       "      <td>1.0</td>\n",
       "      <td>1.0</td>\n",
       "      <td>1</td>\n",
       "      <td>0</td>\n",
       "      <td>0</td>\n",
       "      <td>24.165824</td>\n",
       "      <td>10854.0</td>\n",
       "      <td>204.318340</td>\n",
       "      <td>100.0</td>\n",
       "      <td>104.318340</td>\n",
       "      <td>180.092545</td>\n",
       "      <td>80.092545</td>\n",
       "    </tr>\n",
       "    <tr>\n",
       "      <th>4</th>\n",
       "      <td>4</td>\n",
       "      <td>3.0</td>\n",
       "      <td>3.0</td>\n",
       "      <td>1</td>\n",
       "      <td>0</td>\n",
       "      <td>0</td>\n",
       "      <td>23.588207</td>\n",
       "      <td>10854.0</td>\n",
       "      <td>469.022977</td>\n",
       "      <td>300.0</td>\n",
       "      <td>169.022977</td>\n",
       "      <td>406.153757</td>\n",
       "      <td>106.153757</td>\n",
       "    </tr>\n",
       "  </tbody>\n",
       "</table>\n",
       "</div>"
      ],
      "text/plain": [
       "   accommodates  bathrooms  bedrooms  entire_home  private_room  shared_room  \\\n",
       "0             2        1.0       0.0            1             0            0   \n",
       "1             2        1.0       1.0            0             1            0   \n",
       "2             3        1.0       1.0            1             0            0   \n",
       "3             4        1.0       1.0            1             0            0   \n",
       "4             4        3.0       3.0            1             0            0   \n",
       "\n",
       "   distance_from_NYC  zipcode_median_income        pred  price    residual  \\\n",
       "0          10.186191                 3074.0  134.931464  110.0   24.931464   \n",
       "1          23.913715                    NaN   72.246923   50.0   22.246923   \n",
       "2          23.948377                10854.0  204.318340  125.0   79.318340   \n",
       "3          24.165824                10854.0  204.318340  100.0  104.318340   \n",
       "4          23.588207                10854.0  469.022977  300.0  169.022977   \n",
       "\n",
       "     pred_xgb  residual_xgb  \n",
       "0  107.212294     -2.787706  \n",
       "1   82.395326     32.395326  \n",
       "2  161.743857     36.743857  \n",
       "3  180.092545     80.092545  \n",
       "4  406.153757    106.153757  "
      ]
     },
     "execution_count": 61,
     "metadata": {},
     "output_type": "execute_result"
    }
   ],
   "source": [
    "X_full.head()"
   ]
  },
  {
   "cell_type": "code",
   "execution_count": 62,
   "metadata": {
    "ExecuteTime": {
     "end_time": "2018-01-09T00:31:03.489642Z",
     "start_time": "2018-01-09T00:31:03.483518Z"
    },
    "collapsed": true
   },
   "outputs": [],
   "source": [
    "errors_xgb = X_full.residual_xgb.tolist()"
   ]
  },
  {
   "cell_type": "code",
   "execution_count": 63,
   "metadata": {
    "ExecuteTime": {
     "end_time": "2018-01-09T00:31:04.281863Z",
     "start_time": "2018-01-09T00:31:04.271007Z"
    },
    "collapsed": true
   },
   "outputs": [],
   "source": [
    "errors_abs_xgb = [abs(e) for e in errors_xgb]"
   ]
  },
  {
   "cell_type": "code",
   "execution_count": 64,
   "metadata": {
    "ExecuteTime": {
     "end_time": "2018-01-09T00:31:04.963678Z",
     "start_time": "2018-01-09T00:31:04.956705Z"
    },
    "collapsed": true
   },
   "outputs": [],
   "source": [
    "mean_absolute_error_xgb = np.mean(errors_abs_xgb)"
   ]
  },
  {
   "cell_type": "code",
   "execution_count": 65,
   "metadata": {
    "ExecuteTime": {
     "end_time": "2018-01-09T00:31:05.586944Z",
     "start_time": "2018-01-09T00:31:05.579590Z"
    }
   },
   "outputs": [
    {
     "data": {
      "text/plain": [
       "39.92492549274629"
      ]
     },
     "execution_count": 65,
     "metadata": {},
     "output_type": "execute_result"
    }
   ],
   "source": [
    "mean_absolute_error_xgb"
   ]
  },
  {
   "cell_type": "markdown",
   "metadata": {
    "collapsed": true
   },
   "source": [
    "### Tune XGB Model"
   ]
  },
  {
   "cell_type": "code",
   "execution_count": 66,
   "metadata": {
    "ExecuteTime": {
     "end_time": "2018-01-09T00:31:17.620767Z",
     "start_time": "2018-01-09T00:31:17.610837Z"
    },
    "collapsed": true
   },
   "outputs": [],
   "source": [
    "# Utility function to report best scores\n",
    "def report(results, n_top=3):\n",
    "    for i in range(1, n_top + 1):\n",
    "        candidates = np.flatnonzero(results['rank_test_score'] == i)\n",
    "        for candidate in candidates:\n",
    "            print(\"Model with rank: {0}\".format(i))\n",
    "            print(\"Mean validation score: {0:.3f} (std: {1:.3f})\".format(\n",
    "                  results['mean_test_score'][candidate],\n",
    "                  results['std_test_score'][candidate]))\n",
    "            print(\"Parameters: {0}\".format(results['params'][candidate]))\n",
    "            print(\"\")"
   ]
  },
  {
   "cell_type": "code",
   "execution_count": 67,
   "metadata": {
    "ExecuteTime": {
     "end_time": "2018-01-09T00:31:19.741781Z",
     "start_time": "2018-01-09T00:31:19.737406Z"
    },
    "collapsed": true
   },
   "outputs": [],
   "source": [
    "from scipy.stats import randint as sp_randint"
   ]
  },
  {
   "cell_type": "code",
   "execution_count": 68,
   "metadata": {
    "ExecuteTime": {
     "end_time": "2018-01-09T00:31:20.465090Z",
     "start_time": "2018-01-09T00:31:20.458783Z"
    }
   },
   "outputs": [
    {
     "data": {
      "text/plain": [
       "dict_keys(['alpha', 'criterion', 'init', 'learning_rate', 'loss', 'max_depth', 'max_features', 'max_leaf_nodes', 'min_impurity_decrease', 'min_impurity_split', 'min_samples_leaf', 'min_samples_split', 'min_weight_fraction_leaf', 'n_estimators', 'presort', 'random_state', 'subsample', 'verbose', 'warm_start'])"
      ]
     },
     "execution_count": 68,
     "metadata": {},
     "output_type": "execute_result"
    }
   ],
   "source": [
    "model_xgb.get_params().keys()"
   ]
  },
  {
   "cell_type": "code",
   "execution_count": 69,
   "metadata": {
    "ExecuteTime": {
     "end_time": "2018-01-09T00:31:23.176220Z",
     "start_time": "2018-01-09T00:31:23.171558Z"
    },
    "collapsed": true
   },
   "outputs": [],
   "source": [
    "parameters = {\n",
    "    'learning_rate': [0.0001, 0.001, 0.01, 0.1, 0.2, 0.3],\n",
    "    'n_estimators': [100, 200, 300, 400, 500],\n",
    "    'max_depth': [4, None]\n",
    "}"
   ]
  },
  {
   "cell_type": "code",
   "execution_count": 70,
   "metadata": {
    "ExecuteTime": {
     "end_time": "2018-01-09T00:31:25.299938Z",
     "start_time": "2018-01-09T00:31:25.296102Z"
    },
    "collapsed": true
   },
   "outputs": [],
   "source": [
    "grid_rand_xgb = RandomizedSearchCV(model_xgb,\n",
    "                               param_distributions = parameters, \n",
    "                               n_iter=5)"
   ]
  },
  {
   "cell_type": "code",
   "execution_count": 71,
   "metadata": {
    "ExecuteTime": {
     "end_time": "2018-01-09T00:39:23.842214Z",
     "start_time": "2018-01-09T00:31:27.516009Z"
    }
   },
   "outputs": [
    {
     "data": {
      "text/plain": [
       "RandomizedSearchCV(cv=None, error_score='raise',\n",
       "          estimator=GradientBoostingRegressor(alpha=0.9, criterion='friedman_mse', init=None,\n",
       "             learning_rate=0.01, loss='ls', max_depth=4, max_features=None,\n",
       "             max_leaf_nodes=None, min_impurity_decrease=0.0,\n",
       "             min_impurity_split=None, min_samples_leaf=1,\n",
       "             min_samples_split=2, min_weight_fraction_leaf=0.0,\n",
       "             n_estimators=400, presort='auto', random_state=None,\n",
       "             subsample=1.0, verbose=0, warm_start=False),\n",
       "          fit_params=None, iid=True, n_iter=5, n_jobs=1,\n",
       "          param_distributions={'learning_rate': [0.0001, 0.001, 0.01, 0.1, 0.2, 0.3], 'n_estimators': [100, 200, 300, 400, 500], 'max_depth': [4, None]},\n",
       "          pre_dispatch='2*n_jobs', random_state=None, refit=True,\n",
       "          return_train_score=True, scoring=None, verbose=0)"
      ]
     },
     "execution_count": 71,
     "metadata": {},
     "output_type": "execute_result"
    }
   ],
   "source": [
    "grid_rand_xgb.fit(X_train, y_train_raw)"
   ]
  },
  {
   "cell_type": "code",
   "execution_count": 72,
   "metadata": {
    "ExecuteTime": {
     "end_time": "2018-01-09T00:43:21.603532Z",
     "start_time": "2018-01-09T00:43:21.587545Z"
    }
   },
   "outputs": [
    {
     "name": "stdout",
     "output_type": "stream",
     "text": [
      "Model with rank: 1\n",
      "Mean validation score: 0.602 (std: 0.004)\n",
      "Parameters: {'n_estimators': 500, 'max_depth': 4, 'learning_rate': 0.01}\n",
      "\n",
      "Model with rank: 2\n",
      "Mean validation score: 0.600 (std: 0.003)\n",
      "Parameters: {'n_estimators': 400, 'max_depth': 4, 'learning_rate': 0.01}\n",
      "\n",
      "Model with rank: 3\n",
      "Mean validation score: 0.573 (std: 0.003)\n",
      "Parameters: {'n_estimators': 200, 'max_depth': 4, 'learning_rate': 0.01}\n",
      "\n"
     ]
    }
   ],
   "source": [
    "report(grid_rand_xgb.cv_results_)"
   ]
  },
  {
   "cell_type": "markdown",
   "metadata": {},
   "source": [
    "## Pickle the model\n",
    "Save the model as input in 'web_application' directory."
   ]
  }
 ],
 "metadata": {
  "kernelspec": {
   "display_name": "Python 3",
   "language": "python",
   "name": "python3"
  },
  "language_info": {
   "codemirror_mode": {
    "name": "ipython",
    "version": 3
   },
   "file_extension": ".py",
   "mimetype": "text/x-python",
   "name": "python",
   "nbconvert_exporter": "python",
   "pygments_lexer": "ipython3",
   "version": "3.6.1"
  },
  "toc": {
   "nav_menu": {},
   "number_sections": true,
   "sideBar": true,
   "skip_h1_title": false,
   "toc_cell": false,
   "toc_position": {},
   "toc_section_display": "block",
   "toc_window_display": true
  }
 },
 "nbformat": 4,
 "nbformat_minor": 2
}
