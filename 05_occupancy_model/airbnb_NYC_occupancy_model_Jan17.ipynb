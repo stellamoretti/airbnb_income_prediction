{
 "cells": [
  {
   "cell_type": "markdown",
   "metadata": {},
   "source": [
    "# Airbnb NYC Occupancy - GLM (Jan2017)\n"
   ]
  },
  {
   "cell_type": "markdown",
   "metadata": {},
   "source": [
    "## Imports"
   ]
  },
  {
   "cell_type": "code",
   "execution_count": 1,
   "metadata": {
    "ExecuteTime": {
     "end_time": "2018-01-09T23:41:38.538169Z",
     "start_time": "2018-01-09T23:41:36.225038Z"
    }
   },
   "outputs": [
    {
     "name": "stdout",
     "output_type": "stream",
     "text": [
      "Populating the interactive namespace from numpy and matplotlib\n"
     ]
    },
    {
     "name": "stderr",
     "output_type": "stream",
     "text": [
      "/anaconda/envs/py36/lib/python3.6/site-packages/IPython/core/magics/pylab.py:161: UserWarning: pylab import has clobbered these variables: ['randint']\n",
      "`%matplotlib` prevents importing * from pylab and numpy\n",
      "  \"\\n`%matplotlib` prevents importing * from pylab and numpy\"\n"
     ]
    }
   ],
   "source": [
    "import pandas as pd\n",
    "import numpy as np\n",
    "from scipy.stats import randint\n",
    "import pickle\n",
    "import matplotlib.pyplot as plt\n",
    "import seaborn as sns\n",
    "from functools import reduce\n",
    "%pylab inline"
   ]
  },
  {
   "cell_type": "code",
   "execution_count": 2,
   "metadata": {
    "ExecuteTime": {
     "end_time": "2018-01-09T23:41:39.320758Z",
     "start_time": "2018-01-09T23:41:39.316536Z"
    },
    "collapsed": true
   },
   "outputs": [],
   "source": [
    "pd.set_option('display.max_columns', None)"
   ]
  },
  {
   "cell_type": "code",
   "execution_count": 3,
   "metadata": {
    "ExecuteTime": {
     "end_time": "2018-01-09T23:41:41.364926Z",
     "start_time": "2018-01-09T23:41:41.360886Z"
    },
    "collapsed": true
   },
   "outputs": [],
   "source": [
    "import warnings\n",
    "warnings.filterwarnings('ignore')"
   ]
  },
  {
   "cell_type": "code",
   "execution_count": 4,
   "metadata": {
    "ExecuteTime": {
     "end_time": "2018-01-09T23:41:42.949445Z",
     "start_time": "2018-01-09T23:41:42.823567Z"
    },
    "collapsed": true
   },
   "outputs": [],
   "source": [
    "from sklearn.model_selection import train_test_split\n",
    "from sklearn.model_selection import cross_val_score\n",
    "from sklearn.model_selection import RandomizedSearchCV\n",
    "from sklearn.pipeline import Pipeline, FeatureUnion\n",
    "from sklearn.base import TransformerMixin\n",
    "from sklearn.preprocessing import Imputer"
   ]
  },
  {
   "cell_type": "code",
   "execution_count": 5,
   "metadata": {
    "ExecuteTime": {
     "end_time": "2018-01-09T23:41:44.480933Z",
     "start_time": "2018-01-09T23:41:44.072768Z"
    },
    "collapsed": true
   },
   "outputs": [],
   "source": [
    "from patsy import dmatrices\n",
    "import statsmodels.api as sm\n",
    "from statsmodels.iolib.smpickle import load_pickle"
   ]
  },
  {
   "cell_type": "code",
   "execution_count": 6,
   "metadata": {
    "ExecuteTime": {
     "end_time": "2018-01-09T23:42:04.430002Z",
     "start_time": "2018-01-09T23:42:03.180634Z"
    },
    "collapsed": true
   },
   "outputs": [],
   "source": [
    "with open(\"../pickled_files/dfJan2017.pkl\", 'rb') as picklefile: \n",
    "    df = pickle.load(picklefile)"
   ]
  },
  {
   "cell_type": "code",
   "execution_count": 7,
   "metadata": {
    "ExecuteTime": {
     "end_time": "2018-01-09T23:42:05.145587Z",
     "start_time": "2018-01-09T23:42:05.140018Z"
    },
    "scrolled": true
   },
   "outputs": [
    {
     "name": "stdout",
     "output_type": "stream",
     "text": [
      "(40883, 125)\n"
     ]
    }
   ],
   "source": [
    "print(df.shape)"
   ]
  },
  {
   "cell_type": "code",
   "execution_count": 8,
   "metadata": {
    "ExecuteTime": {
     "end_time": "2018-01-09T23:42:06.654802Z",
     "start_time": "2018-01-09T23:42:06.635444Z"
    },
    "collapsed": true
   },
   "outputs": [],
   "source": [
    "df['booked_30'] = 30 - df['availability_30'] # availability = 0 indicates fully booked, availability = 30 indicates not booked at all\n",
    "df['booked_60'] = 60 - df['availability_60']\n",
    "df['booked_90'] = 90 - df['availability_90']\n",
    "df['booked_365'] = 365 - df['availability_365']"
   ]
  },
  {
   "cell_type": "code",
   "execution_count": null,
   "metadata": {
    "collapsed": true,
    "scrolled": true
   },
   "outputs": [],
   "source": [
    "# df.head(3)"
   ]
  },
  {
   "cell_type": "code",
   "execution_count": null,
   "metadata": {
    "collapsed": true,
    "scrolled": true
   },
   "outputs": [],
   "source": [
    "# plt.hist(df.booked_30);"
   ]
  },
  {
   "cell_type": "markdown",
   "metadata": {},
   "source": [
    "30 indicates the listing is fully booked for the next 30 days\n",
    "- Perhaps a representation of listings which are run like a hotel / business\n",
    "- or, properties which are blocked off by host, only released on certain days\n",
    "\n",
    "0 indicates the listing has full availability for the next 30 days\n",
    "\n",
    "\n",
    "This suggests that either:\n",
    "1. this listing is not a good one (in terms of price, quality, reviews), OR\n",
    "2. this listing has not been updated for a while"
   ]
  },
  {
   "cell_type": "code",
   "execution_count": null,
   "metadata": {
    "collapsed": true
   },
   "outputs": [],
   "source": [
    "# plt.hist(df.booked_60);"
   ]
  },
  {
   "cell_type": "code",
   "execution_count": null,
   "metadata": {
    "collapsed": true
   },
   "outputs": [],
   "source": [
    "# plt.hist(df.booked_90);"
   ]
  },
  {
   "cell_type": "code",
   "execution_count": null,
   "metadata": {
    "collapsed": true
   },
   "outputs": [],
   "source": [
    "# plt.hist(df.booked_365);"
   ]
  },
  {
   "cell_type": "markdown",
   "metadata": {},
   "source": [
    "## Filter outliers"
   ]
  },
  {
   "cell_type": "markdown",
   "metadata": {},
   "source": [
    "### Inactive calendars\n",
    "e.g. Listings which are booked out for 0 nights in the next 365 days\n",
    "OR, booked out for all of the next 365 days.\n",
    "--> Suspect these are inactive listings"
   ]
  },
  {
   "cell_type": "code",
   "execution_count": 9,
   "metadata": {
    "ExecuteTime": {
     "end_time": "2018-01-09T23:42:15.938543Z",
     "start_time": "2018-01-09T23:42:15.741577Z"
    },
    "collapsed": true
   },
   "outputs": [],
   "source": [
    "df_cut1 = df[(df['booked_30'] != 0) & (df['booked_30'] != 30)]"
   ]
  },
  {
   "cell_type": "code",
   "execution_count": 10,
   "metadata": {
    "ExecuteTime": {
     "end_time": "2018-01-09T23:42:16.688344Z",
     "start_time": "2018-01-09T23:42:16.635668Z"
    },
    "collapsed": true
   },
   "outputs": [],
   "source": [
    "df_cut1 = df_cut1.reset_index(drop=True)"
   ]
  },
  {
   "cell_type": "code",
   "execution_count": 11,
   "metadata": {
    "ExecuteTime": {
     "end_time": "2018-01-09T23:42:18.069600Z",
     "start_time": "2018-01-09T23:42:18.063838Z"
    }
   },
   "outputs": [
    {
     "name": "stdout",
     "output_type": "stream",
     "text": [
      "40883\n",
      "22306\n"
     ]
    }
   ],
   "source": [
    "print(len(df))\n",
    "print(len(df_cut1))"
   ]
  },
  {
   "cell_type": "markdown",
   "metadata": {},
   "source": [
    "### Outdated calendars"
   ]
  },
  {
   "cell_type": "markdown",
   "metadata": {},
   "source": [
    "Calendars that haven't been updated for more than 7 weeks"
   ]
  },
  {
   "cell_type": "code",
   "execution_count": 12,
   "metadata": {
    "ExecuteTime": {
     "end_time": "2018-01-09T23:42:21.048343Z",
     "start_time": "2018-01-09T23:42:21.040022Z"
    },
    "collapsed": true
   },
   "outputs": [],
   "source": [
    "updates = df.calendar_updated.unique().tolist()"
   ]
  },
  {
   "cell_type": "code",
   "execution_count": 13,
   "metadata": {
    "ExecuteTime": {
     "end_time": "2018-01-09T23:42:21.910917Z",
     "start_time": "2018-01-09T23:42:21.903712Z"
    },
    "collapsed": true
   },
   "outputs": [],
   "source": [
    "frequent_updates = [x for x in updates if 'months' not in x]\n",
    "acceptable_updates = [x for x in frequent_updates if x != 'never']"
   ]
  },
  {
   "cell_type": "code",
   "execution_count": 14,
   "metadata": {
    "ExecuteTime": {
     "end_time": "2018-01-09T23:42:23.110785Z",
     "start_time": "2018-01-09T23:42:23.099445Z"
    }
   },
   "outputs": [
    {
     "data": {
      "text/plain": [
       "['5 weeks ago',\n",
       " '7 weeks ago',\n",
       " '3 days ago',\n",
       " 'today',\n",
       " '2 weeks ago',\n",
       " 'a week ago',\n",
       " '4 weeks ago',\n",
       " '4 days ago',\n",
       " '2 days ago',\n",
       " '6 days ago',\n",
       " '1 week ago',\n",
       " '3 weeks ago',\n",
       " '6 weeks ago',\n",
       " 'yesterday',\n",
       " '5 days ago']"
      ]
     },
     "execution_count": 14,
     "metadata": {},
     "output_type": "execute_result"
    }
   ],
   "source": [
    "acceptable_updates"
   ]
  },
  {
   "cell_type": "code",
   "execution_count": 15,
   "metadata": {
    "ExecuteTime": {
     "end_time": "2018-01-09T23:42:23.967710Z",
     "start_time": "2018-01-09T23:42:23.891876Z"
    },
    "collapsed": true
   },
   "outputs": [],
   "source": [
    "df_cut2 = df_cut1[df_cut1['calendar_updated'].isin(acceptable_updates)].reset_index()"
   ]
  },
  {
   "cell_type": "code",
   "execution_count": 16,
   "metadata": {
    "ExecuteTime": {
     "end_time": "2018-01-09T23:42:26.018886Z",
     "start_time": "2018-01-09T23:42:26.012768Z"
    }
   },
   "outputs": [
    {
     "name": "stdout",
     "output_type": "stream",
     "text": [
      "40883\n",
      "22306\n",
      "19400\n"
     ]
    }
   ],
   "source": [
    "print(len(df))\n",
    "print(len(df_cut1))\n",
    "print(len(df_cut2))"
   ]
  },
  {
   "cell_type": "markdown",
   "metadata": {},
   "source": [
    "### Luxury properties\n",
    "Properties with price per night > $1k"
   ]
  },
  {
   "cell_type": "code",
   "execution_count": null,
   "metadata": {
    "collapsed": true,
    "scrolled": true
   },
   "outputs": [],
   "source": [
    "# plt.hist(df.price);"
   ]
  },
  {
   "cell_type": "code",
   "execution_count": null,
   "metadata": {
    "collapsed": true
   },
   "outputs": [],
   "source": [
    "# plt.hist(df[df['price'] < 1000].price);"
   ]
  },
  {
   "cell_type": "code",
   "execution_count": 17,
   "metadata": {
    "ExecuteTime": {
     "end_time": "2018-01-09T23:42:29.211000Z",
     "start_time": "2018-01-09T23:42:29.174460Z"
    },
    "collapsed": true
   },
   "outputs": [],
   "source": [
    "df_cut3 = df_cut2[df_cut2['price'] < 1000]"
   ]
  },
  {
   "cell_type": "code",
   "execution_count": 18,
   "metadata": {
    "ExecuteTime": {
     "end_time": "2018-01-09T23:42:29.892026Z",
     "start_time": "2018-01-09T23:42:29.838168Z"
    },
    "collapsed": true
   },
   "outputs": [],
   "source": [
    "df_cut3 = df_cut3.reset_index()"
   ]
  },
  {
   "cell_type": "code",
   "execution_count": 19,
   "metadata": {
    "ExecuteTime": {
     "end_time": "2018-01-09T23:48:39.649431Z",
     "start_time": "2018-01-09T23:48:39.640807Z"
    }
   },
   "outputs": [
    {
     "name": "stdout",
     "output_type": "stream",
     "text": [
      "40883\n",
      "22306\n",
      "19400\n",
      "19337\n"
     ]
    }
   ],
   "source": [
    "print(len(df))\n",
    "print(len(df_cut1))\n",
    "print(len(df_cut2))\n",
    "print(len(df_cut3))"
   ]
  },
  {
   "cell_type": "markdown",
   "metadata": {},
   "source": [
    "## Define X and y"
   ]
  },
  {
   "cell_type": "code",
   "execution_count": 20,
   "metadata": {
    "ExecuteTime": {
     "end_time": "2018-01-09T23:48:42.482086Z",
     "start_time": "2018-01-09T23:48:42.470408Z"
    }
   },
   "outputs": [
    {
     "data": {
      "text/plain": [
       "['id',\n",
       " 'listing_url',\n",
       " 'scrape_id',\n",
       " 'last_scraped',\n",
       " 'name',\n",
       " 'summary',\n",
       " 'space',\n",
       " 'description',\n",
       " 'experiences_offered',\n",
       " 'neighborhood_overview',\n",
       " 'notes',\n",
       " 'transit',\n",
       " 'access',\n",
       " 'interaction',\n",
       " 'house_rules',\n",
       " 'thumbnail_url',\n",
       " 'medium_url',\n",
       " 'picture_url',\n",
       " 'xl_picture_url',\n",
       " 'host_id',\n",
       " 'host_url',\n",
       " 'host_name',\n",
       " 'host_since',\n",
       " 'host_location',\n",
       " 'host_about',\n",
       " 'host_response_time',\n",
       " 'host_response_rate',\n",
       " 'host_acceptance_rate',\n",
       " 'host_is_superhost',\n",
       " 'host_thumbnail_url',\n",
       " 'host_picture_url',\n",
       " 'host_neighbourhood',\n",
       " 'host_listings_count',\n",
       " 'host_total_listings_count',\n",
       " 'host_verifications',\n",
       " 'host_has_profile_pic',\n",
       " 'host_identity_verified',\n",
       " 'street',\n",
       " 'neighbourhood',\n",
       " 'neighbourhood_cleansed',\n",
       " 'neighbourhood_group_cleansed',\n",
       " 'city',\n",
       " 'state',\n",
       " 'zipcode',\n",
       " 'market',\n",
       " 'smart_location',\n",
       " 'country_code',\n",
       " 'country',\n",
       " 'latitude',\n",
       " 'longitude',\n",
       " 'is_location_exact',\n",
       " 'property_type',\n",
       " 'room_type',\n",
       " 'accommodates',\n",
       " 'bathrooms',\n",
       " 'bedrooms',\n",
       " 'beds',\n",
       " 'bed_type',\n",
       " 'amenities',\n",
       " 'square_feet',\n",
       " 'price',\n",
       " 'weekly_price',\n",
       " 'monthly_price',\n",
       " 'security_deposit',\n",
       " 'cleaning_fee',\n",
       " 'guests_included',\n",
       " 'extra_people',\n",
       " 'minimum_nights',\n",
       " 'maximum_nights',\n",
       " 'calendar_updated',\n",
       " 'has_availability',\n",
       " 'availability_30',\n",
       " 'availability_60',\n",
       " 'availability_90',\n",
       " 'availability_365',\n",
       " 'calendar_last_scraped',\n",
       " 'number_of_reviews',\n",
       " 'first_review',\n",
       " 'last_review',\n",
       " 'review_scores_rating',\n",
       " 'review_scores_accuracy',\n",
       " 'review_scores_cleanliness',\n",
       " 'review_scores_checkin',\n",
       " 'review_scores_communication',\n",
       " 'review_scores_location',\n",
       " 'review_scores_value',\n",
       " 'requires_license',\n",
       " 'license',\n",
       " 'jurisdiction_names',\n",
       " 'instant_bookable',\n",
       " 'cancellation_policy',\n",
       " 'require_guest_profile_picture',\n",
       " 'require_guest_phone_verification',\n",
       " 'calculated_host_listings_count',\n",
       " 'reviews_per_month',\n",
       " 'amenities_list',\n",
       " 'essentials',\n",
       " 'pool',\n",
       " 'kitchen',\n",
       " 'washer',\n",
       " 'parking',\n",
       " 'elevator',\n",
       " 'hot_tub',\n",
       " 'gym',\n",
       " 'wifi',\n",
       " 'tv',\n",
       " 'heat',\n",
       " 'AC',\n",
       " 'fireplace',\n",
       " 'pets_allowed',\n",
       " 'lock',\n",
       " 'apartment',\n",
       " 'house',\n",
       " 'loft',\n",
       " 'townhouse',\n",
       " 'condo',\n",
       " 'entire_home',\n",
       " 'private_room',\n",
       " 'shared_room',\n",
       " 'real_bed',\n",
       " 'distance_from_NYC',\n",
       " 'zipcode_median_income',\n",
       " 'zipcode_income_class',\n",
       " 'zipcode_median_rent',\n",
       " 'zipcode_rent_class',\n",
       " 'booked_30',\n",
       " 'booked_60',\n",
       " 'booked_90',\n",
       " 'booked_365']"
      ]
     },
     "execution_count": 20,
     "metadata": {},
     "output_type": "execute_result"
    }
   ],
   "source": [
    "columns = df.columns.tolist()\n",
    "columns"
   ]
  },
  {
   "cell_type": "code",
   "execution_count": 21,
   "metadata": {
    "ExecuteTime": {
     "end_time": "2018-01-09T23:48:48.671176Z",
     "start_time": "2018-01-09T23:48:48.633181Z"
    },
    "collapsed": true
   },
   "outputs": [],
   "source": [
    "dfGLM = df_cut3[[\n",
    "    'price',\n",
    " 'accommodates',\n",
    " 'bathrooms',\n",
    " 'bedrooms',\n",
    " 'entire_home',\n",
    " 'private_room',\n",
    " 'shared_room',\n",
    " 'distance_from_NYC',\n",
    "'zipcode_median_income',\n",
    "    'booked_30',\n",
    "    'availability_30'\n",
    "                  ]]"
   ]
  },
  {
   "cell_type": "code",
   "execution_count": 22,
   "metadata": {
    "ExecuteTime": {
     "end_time": "2018-01-09T23:48:50.730610Z",
     "start_time": "2018-01-09T23:48:50.722653Z"
    }
   },
   "outputs": [
    {
     "name": "stdout",
     "output_type": "stream",
     "text": [
      "(19337, 11)\n"
     ]
    }
   ],
   "source": [
    "print(dfGLM.shape)"
   ]
  },
  {
   "cell_type": "code",
   "execution_count": 23,
   "metadata": {
    "ExecuteTime": {
     "end_time": "2018-01-09T23:48:52.107727Z",
     "start_time": "2018-01-09T23:48:51.841813Z"
    }
   },
   "outputs": [
    {
     "data": {
      "image/png": "[encoded data removed]",
      "text/plain": [
       "<matplotlib.figure.Figure at 0x11beee278>"
      ]
     },
     "metadata": {},
     "output_type": "display_data"
    }
   ],
   "source": [
    "plt.hist(dfGLM.booked_30);"
   ]
  },
  {
   "cell_type": "markdown",
   "metadata": {},
   "source": [
    "## Test-train split"
   ]
  },
  {
   "cell_type": "code",
   "execution_count": 24,
   "metadata": {
    "ExecuteTime": {
     "end_time": "2018-01-09T23:48:55.614590Z",
     "start_time": "2018-01-09T23:48:55.602998Z"
    },
    "collapsed": true
   },
   "outputs": [],
   "source": [
    "dfTrain, dfTest = train_test_split(dfGLM, test_size=0.33, random_state=42)"
   ]
  },
  {
   "cell_type": "code",
   "execution_count": 25,
   "metadata": {
    "ExecuteTime": {
     "end_time": "2018-01-09T23:48:56.507737Z",
     "start_time": "2018-01-09T23:48:56.500504Z"
    }
   },
   "outputs": [
    {
     "name": "stdout",
     "output_type": "stream",
     "text": [
      "(12955, 11)\n",
      "(6382, 11)\n"
     ]
    }
   ],
   "source": [
    "print(dfTrain.shape)\n",
    "print(dfTest.shape)"
   ]
  },
  {
   "cell_type": "markdown",
   "metadata": {},
   "source": [
    "## Data imputation\n",
    "### Check null values"
   ]
  },
  {
   "cell_type": "code",
   "execution_count": 26,
   "metadata": {
    "ExecuteTime": {
     "end_time": "2018-01-09T23:49:01.811450Z",
     "start_time": "2018-01-09T23:49:01.803886Z"
    },
    "collapsed": true
   },
   "outputs": [],
   "source": [
    "def check_nulls(dataframe, features):\n",
    "    contains_null = []\n",
    "    for f in features:\n",
    "        if dataframe[f].isnull().sum() > 0:\n",
    "            contains_null.append(f)\n",
    "    return contains_null"
   ]
  },
  {
   "cell_type": "code",
   "execution_count": 27,
   "metadata": {
    "ExecuteTime": {
     "end_time": "2018-01-09T23:49:02.684899Z",
     "start_time": "2018-01-09T23:49:02.667647Z"
    }
   },
   "outputs": [
    {
     "data": {
      "text/plain": [
       "['bathrooms', 'bedrooms', 'zipcode_median_income']"
      ]
     },
     "execution_count": 27,
     "metadata": {},
     "output_type": "execute_result"
    }
   ],
   "source": [
    "check_nulls(dfTrain, dfTrain.columns)"
   ]
  },
  {
   "cell_type": "code",
   "execution_count": 28,
   "metadata": {
    "ExecuteTime": {
     "end_time": "2018-01-09T23:49:03.318452Z",
     "start_time": "2018-01-09T23:49:03.304503Z"
    }
   },
   "outputs": [
    {
     "data": {
      "text/plain": [
       "['bathrooms', 'bedrooms', 'zipcode_median_income']"
      ]
     },
     "execution_count": 28,
     "metadata": {},
     "output_type": "execute_result"
    }
   ],
   "source": [
    "check_nulls(dfTest, dfTest.columns)"
   ]
  },
  {
   "cell_type": "code",
   "execution_count": 29,
   "metadata": {
    "ExecuteTime": {
     "end_time": "2018-01-09T23:49:04.892762Z",
     "start_time": "2018-01-09T23:49:04.878310Z"
    },
    "scrolled": true
   },
   "outputs": [
    {
     "data": {
      "text/plain": [
       "price                      0\n",
       "accommodates               0\n",
       "bathrooms                 35\n",
       "bedrooms                  18\n",
       "entire_home                0\n",
       "private_room               0\n",
       "shared_room                0\n",
       "distance_from_NYC          0\n",
       "zipcode_median_income    213\n",
       "booked_30                  0\n",
       "availability_30            0\n",
       "dtype: int64"
      ]
     },
     "execution_count": 29,
     "metadata": {},
     "output_type": "execute_result"
    }
   ],
   "source": [
    "dfTrain.isnull().sum()"
   ]
  },
  {
   "cell_type": "markdown",
   "metadata": {},
   "source": [
    "### Determine strategy"
   ]
  },
  {
   "cell_type": "markdown",
   "metadata": {},
   "source": [
    "Evaluate which imputation strategy to use:"
   ]
  },
  {
   "cell_type": "code",
   "execution_count": 30,
   "metadata": {
    "ExecuteTime": {
     "end_time": "2018-01-09T23:49:07.719166Z",
     "start_time": "2018-01-09T23:49:07.705497Z"
    },
    "collapsed": true
   },
   "outputs": [],
   "source": [
    "def modeVSmean(df, features):\n",
    "    for f in features:\n",
    "        print(f, \"Mean: \", df[f].mean(), \"Mode: \", df[f].mode()[0])"
   ]
  },
  {
   "cell_type": "code",
   "execution_count": 31,
   "metadata": {
    "ExecuteTime": {
     "end_time": "2018-01-09T23:49:08.397185Z",
     "start_time": "2018-01-09T23:49:08.367014Z"
    },
    "scrolled": true
   },
   "outputs": [
    {
     "name": "stdout",
     "output_type": "stream",
     "text": [
      "bathrooms Mean:  1.1239757286588528 Mode:  1.0\n",
      "bedrooms Mean:  1.158908507223114 Mode:  1.0\n",
      "zipcode_median_income Mean:  6341.946042597949 Mode:  3210.0\n"
     ]
    }
   ],
   "source": [
    "modeVSmean(df_cut3, ['bathrooms', 'bedrooms', 'zipcode_median_income'])"
   ]
  },
  {
   "cell_type": "markdown",
   "metadata": {},
   "source": [
    "Features to impute with \"most frequent\" strategy:\n",
    "- none\n",
    "\n",
    "Features to impute with \"mean\" strategy:\n",
    "- bathrooms\n",
    "- bedrooms"
   ]
  },
  {
   "cell_type": "markdown",
   "metadata": {},
   "source": [
    "### Build imputation pipeline"
   ]
  },
  {
   "cell_type": "markdown",
   "metadata": {},
   "source": [
    "Define some custom transformers.\n",
    "\n",
    "Reference: https://github.com/jem1031/pandas-pipelines-custom-transformers"
   ]
  },
  {
   "cell_type": "code",
   "execution_count": 32,
   "metadata": {
    "ExecuteTime": {
     "end_time": "2018-01-09T23:49:54.717451Z",
     "start_time": "2018-01-09T23:49:54.705598Z"
    },
    "collapsed": true
   },
   "outputs": [],
   "source": [
    "class DFFeatureUnion(TransformerMixin):\n",
    "    # FeatureUnion but for pandas DataFrames\n",
    "\n",
    "    def __init__(self, transformer_list):\n",
    "        self.transformer_list = transformer_list\n",
    "\n",
    "    def fit(self, X, y=None):\n",
    "        for (name, t) in self.transformer_list:\n",
    "            t.fit(X, y)\n",
    "        return self\n",
    "\n",
    "    def transform(self, X):\n",
    "        # assumes X is a DataFrame\n",
    "        Xts = [t.transform(X) for _, t in self.transformer_list]\n",
    "        Xunion = reduce(lambda X1, X2: pd.merge(X1, X2, left_index=True, right_index=True), Xts)\n",
    "        return Xunion"
   ]
  },
  {
   "cell_type": "code",
   "execution_count": 33,
   "metadata": {
    "ExecuteTime": {
     "end_time": "2018-01-09T23:49:55.558218Z",
     "start_time": "2018-01-09T23:49:55.551004Z"
    },
    "collapsed": true
   },
   "outputs": [],
   "source": [
    "class ColumnExtractor(TransformerMixin):\n",
    "\n",
    "    def __init__(self, cols):\n",
    "        self.cols = cols\n",
    "\n",
    "    def fit(self, X, y=None):\n",
    "        # stateless transformer\n",
    "        return self\n",
    "\n",
    "    def transform(self, X):\n",
    "        # assumes X is a DataFrame\n",
    "        Xcols = X[self.cols]\n",
    "        return Xcols"
   ]
  },
  {
   "cell_type": "code",
   "execution_count": 34,
   "metadata": {
    "ExecuteTime": {
     "end_time": "2018-01-09T23:49:57.139812Z",
     "start_time": "2018-01-09T23:49:57.123389Z"
    },
    "collapsed": true
   },
   "outputs": [],
   "source": [
    "class DFImputer(TransformerMixin):\n",
    "    # Imputer but for pandas DataFrames\n",
    "\n",
    "    def __init__(self, strategy='mean'):\n",
    "        self.strategy = strategy\n",
    "        self.imp = None\n",
    "        self.statistics_ = None\n",
    "\n",
    "    def fit(self, X, y=None):\n",
    "        self.imp = Imputer(strategy=self.strategy)\n",
    "        self.imp.fit(X)\n",
    "        self.statistics_ = pd.Series(self.imp.statistics_, index=X.columns)\n",
    "        return self\n",
    "\n",
    "    def transform(self, X):\n",
    "        # assumes X is a DataFrame\n",
    "        Ximp = self.imp.transform(X)\n",
    "        Xfilled = pd.DataFrame(Ximp, index=X.index, columns=X.columns)\n",
    "        return Xfilled"
   ]
  },
  {
   "cell_type": "code",
   "execution_count": 35,
   "metadata": {
    "ExecuteTime": {
     "end_time": "2018-01-09T23:50:01.528057Z",
     "start_time": "2018-01-09T23:50:01.521416Z"
    }
   },
   "outputs": [
    {
     "data": {
      "text/plain": [
       "Index(['price', 'accommodates', 'bathrooms', 'bedrooms', 'entire_home',\n",
       "       'private_room', 'shared_room', 'distance_from_NYC',\n",
       "       'zipcode_median_income', 'booked_30', 'availability_30'],\n",
       "      dtype='object')"
      ]
     },
     "execution_count": 35,
     "metadata": {},
     "output_type": "execute_result"
    }
   ],
   "source": [
    "dfTrain.columns"
   ]
  },
  {
   "cell_type": "code",
   "execution_count": 36,
   "metadata": {
    "ExecuteTime": {
     "end_time": "2018-01-09T23:50:02.464459Z",
     "start_time": "2018-01-09T23:50:02.458021Z"
    },
    "collapsed": true
   },
   "outputs": [],
   "source": [
    "ready_features = [ 'price','accommodates',\n",
    " 'entire_home',\n",
    " 'private_room',\n",
    " 'shared_room',\n",
    " 'distance_from_NYC', 'booked_30', 'availability_30'\n",
    "]\n",
    "\n",
    "set1 = ['bathrooms', 'bedrooms', 'zipcode_median_income']"
   ]
  },
  {
   "cell_type": "code",
   "execution_count": 37,
   "metadata": {
    "ExecuteTime": {
     "end_time": "2018-01-09T23:50:04.363190Z",
     "start_time": "2018-01-09T23:50:04.354770Z"
    },
    "collapsed": true
   },
   "outputs": [],
   "source": [
    "imp_pipeline = Pipeline([\n",
    "    ('features_to_be_imputed', DFFeatureUnion([\n",
    "        ('features_ready', Pipeline([\n",
    "            ('extract', ColumnExtractor(ready_features))\n",
    "        ])),\n",
    "        ('features_set1', Pipeline([\n",
    "            ('extract', ColumnExtractor(set1)),\n",
    "            ('mean_fill', DFImputer(strategy = 'mean'))\n",
    "        ]))\n",
    "    ])),\n",
    "])"
   ]
  },
  {
   "cell_type": "code",
   "execution_count": 38,
   "metadata": {
    "ExecuteTime": {
     "end_time": "2018-01-09T23:50:05.038934Z",
     "start_time": "2018-01-09T23:50:05.009957Z"
    },
    "collapsed": true
   },
   "outputs": [],
   "source": [
    "imp_pipeline.fit(dfTrain)\n",
    "\n",
    "dfTrainImputed = imp_pipeline.transform(dfTrain)\n",
    "dfTestImputed = imp_pipeline.transform(dfTest)"
   ]
  },
  {
   "cell_type": "markdown",
   "metadata": {},
   "source": [
    "## GLM (Binomial)"
   ]
  },
  {
   "cell_type": "code",
   "execution_count": 39,
   "metadata": {
    "ExecuteTime": {
     "end_time": "2018-01-09T23:50:08.704942Z",
     "start_time": "2018-01-09T23:50:08.671280Z"
    },
    "collapsed": true
   },
   "outputs": [],
   "source": [
    "formula = \"\"\"booked_30 + availability_30 ~ price + accommodates + entire_home + private_room + shared_room + distance_from_NYC + zipcode_median_income + bathrooms + bedrooms\"\"\"\n",
    "\n",
    "response_train, predictors_train = dmatrices(formula, dfTrainImputed, return_type='dataframe')"
   ]
  },
  {
   "cell_type": "code",
   "execution_count": 40,
   "metadata": {
    "ExecuteTime": {
     "end_time": "2018-01-09T23:50:09.639221Z",
     "start_time": "2018-01-09T23:50:09.560621Z"
    },
    "collapsed": true
   },
   "outputs": [],
   "source": [
    "GLM_binomial = sm.GLM(response_train, predictors_train, family=sm.families.Binomial()).fit()"
   ]
  },
  {
   "cell_type": "code",
   "execution_count": 41,
   "metadata": {
    "ExecuteTime": {
     "end_time": "2018-01-09T23:50:10.315975Z",
     "start_time": "2018-01-09T23:50:10.287821Z"
    },
    "collapsed": true
   },
   "outputs": [],
   "source": [
    "response_test, predictors_test = dmatrices(formula, dfTest, return_type='dataframe')"
   ]
  },
  {
   "cell_type": "markdown",
   "metadata": {},
   "source": [
    "### Predictions"
   ]
  },
  {
   "cell_type": "code",
   "execution_count": 42,
   "metadata": {
    "ExecuteTime": {
     "end_time": "2018-01-09T23:50:13.276764Z",
     "start_time": "2018-01-09T23:50:13.266934Z"
    },
    "collapsed": true
   },
   "outputs": [],
   "source": [
    "dfTrainImputed['predicted_occupancy'] = GLM_binomial.predict(predictors_train)\n",
    "dfTestImputed['predicted_occupancy'] = GLM_binomial.predict(predictors_test)"
   ]
  },
  {
   "cell_type": "code",
   "execution_count": 43,
   "metadata": {
    "ExecuteTime": {
     "end_time": "2018-01-09T23:50:13.984875Z",
     "start_time": "2018-01-09T23:50:13.970928Z"
    },
    "collapsed": true
   },
   "outputs": [],
   "source": [
    "dfPredictions = pd.concat([dfTrainImputed, dfTestImputed])"
   ]
  },
  {
   "cell_type": "code",
   "execution_count": 44,
   "metadata": {
    "ExecuteTime": {
     "end_time": "2018-01-09T23:50:14.752606Z",
     "start_time": "2018-01-09T23:50:14.742660Z"
    },
    "collapsed": true
   },
   "outputs": [],
   "source": [
    "dfPredictions['error'] = (dfPredictions['predicted_occupancy'] * 30) - dfPredictions['booked_30']"
   ]
  },
  {
   "cell_type": "code",
   "execution_count": 45,
   "metadata": {
    "ExecuteTime": {
     "end_time": "2018-01-09T23:50:15.396220Z",
     "start_time": "2018-01-09T23:50:15.367079Z"
    }
   },
   "outputs": [
    {
     "data": {
      "text/html": [
       "<div>\n",
       "<style>\n",
       "    .dataframe thead tr:only-child th {\n",
       "        text-align: right;\n",
       "    }\n",
       "\n",
       "    .dataframe thead th {\n",
       "        text-align: left;\n",
       "    }\n",
       "\n",
       "    .dataframe tbody tr th {\n",
       "        vertical-align: top;\n",
       "    }\n",
       "</style>\n",
       "<table border=\"1\" class=\"dataframe\">\n",
       "  <thead>\n",
       "    <tr style=\"text-align: right;\">\n",
       "      <th></th>\n",
       "      <th>price</th>\n",
       "      <th>accommodates</th>\n",
       "      <th>entire_home</th>\n",
       "      <th>private_room</th>\n",
       "      <th>shared_room</th>\n",
       "      <th>distance_from_NYC</th>\n",
       "      <th>booked_30</th>\n",
       "      <th>availability_30</th>\n",
       "      <th>bathrooms</th>\n",
       "      <th>bedrooms</th>\n",
       "      <th>zipcode_median_income</th>\n",
       "      <th>predicted_occupancy</th>\n",
       "      <th>error</th>\n",
       "    </tr>\n",
       "  </thead>\n",
       "  <tbody>\n",
       "    <tr>\n",
       "      <th>18196</th>\n",
       "      <td>60.0</td>\n",
       "      <td>2</td>\n",
       "      <td>0</td>\n",
       "      <td>1</td>\n",
       "      <td>0</td>\n",
       "      <td>10.432541</td>\n",
       "      <td>3</td>\n",
       "      <td>27</td>\n",
       "      <td>1.0</td>\n",
       "      <td>1.0</td>\n",
       "      <td>3074.0</td>\n",
       "      <td>0.326082</td>\n",
       "      <td>6.782474</td>\n",
       "    </tr>\n",
       "    <tr>\n",
       "      <th>13952</th>\n",
       "      <td>303.0</td>\n",
       "      <td>4</td>\n",
       "      <td>1</td>\n",
       "      <td>0</td>\n",
       "      <td>0</td>\n",
       "      <td>3.502807</td>\n",
       "      <td>1</td>\n",
       "      <td>29</td>\n",
       "      <td>1.0</td>\n",
       "      <td>2.0</td>\n",
       "      <td>3210.0</td>\n",
       "      <td>0.395350</td>\n",
       "      <td>10.860501</td>\n",
       "    </tr>\n",
       "    <tr>\n",
       "      <th>2128</th>\n",
       "      <td>85.0</td>\n",
       "      <td>2</td>\n",
       "      <td>0</td>\n",
       "      <td>1</td>\n",
       "      <td>0</td>\n",
       "      <td>7.787786</td>\n",
       "      <td>7</td>\n",
       "      <td>23</td>\n",
       "      <td>1.0</td>\n",
       "      <td>1.0</td>\n",
       "      <td>21321.0</td>\n",
       "      <td>0.369351</td>\n",
       "      <td>4.080542</td>\n",
       "    </tr>\n",
       "    <tr>\n",
       "      <th>702</th>\n",
       "      <td>28.0</td>\n",
       "      <td>1</td>\n",
       "      <td>0</td>\n",
       "      <td>1</td>\n",
       "      <td>0</td>\n",
       "      <td>6.324552</td>\n",
       "      <td>29</td>\n",
       "      <td>1</td>\n",
       "      <td>1.0</td>\n",
       "      <td>1.0</td>\n",
       "      <td>3017.0</td>\n",
       "      <td>0.374367</td>\n",
       "      <td>-17.768994</td>\n",
       "    </tr>\n",
       "    <tr>\n",
       "      <th>1947</th>\n",
       "      <td>125.0</td>\n",
       "      <td>7</td>\n",
       "      <td>1</td>\n",
       "      <td>0</td>\n",
       "      <td>0</td>\n",
       "      <td>5.874482</td>\n",
       "      <td>5</td>\n",
       "      <td>25</td>\n",
       "      <td>1.0</td>\n",
       "      <td>2.0</td>\n",
       "      <td>2279.0</td>\n",
       "      <td>0.392257</td>\n",
       "      <td>6.767723</td>\n",
       "    </tr>\n",
       "  </tbody>\n",
       "</table>\n",
       "</div>"
      ],
      "text/plain": [
       "       price  accommodates  entire_home  private_room  shared_room  \\\n",
       "18196   60.0             2            0             1            0   \n",
       "13952  303.0             4            1             0            0   \n",
       "2128    85.0             2            0             1            0   \n",
       "702     28.0             1            0             1            0   \n",
       "1947   125.0             7            1             0            0   \n",
       "\n",
       "       distance_from_NYC  booked_30  availability_30  bathrooms  bedrooms  \\\n",
       "18196          10.432541          3               27        1.0       1.0   \n",
       "13952           3.502807          1               29        1.0       2.0   \n",
       "2128            7.787786          7               23        1.0       1.0   \n",
       "702             6.324552         29                1        1.0       1.0   \n",
       "1947            5.874482          5               25        1.0       2.0   \n",
       "\n",
       "       zipcode_median_income  predicted_occupancy      error  \n",
       "18196                 3074.0             0.326082   6.782474  \n",
       "13952                 3210.0             0.395350  10.860501  \n",
       "2128                 21321.0             0.369351   4.080542  \n",
       "702                   3017.0             0.374367 -17.768994  \n",
       "1947                  2279.0             0.392257   6.767723  "
      ]
     },
     "execution_count": 45,
     "metadata": {},
     "output_type": "execute_result"
    }
   ],
   "source": [
    "dfPredictions.head()"
   ]
  },
  {
   "cell_type": "markdown",
   "metadata": {},
   "source": [
    "### Mean absolute error (days)"
   ]
  },
  {
   "cell_type": "code",
   "execution_count": 46,
   "metadata": {
    "ExecuteTime": {
     "end_time": "2018-01-09T23:50:18.752562Z",
     "start_time": "2018-01-09T23:50:18.745788Z"
    },
    "collapsed": true
   },
   "outputs": [],
   "source": [
    "errors = dfPredictions.error.tolist()"
   ]
  },
  {
   "cell_type": "code",
   "execution_count": 47,
   "metadata": {
    "ExecuteTime": {
     "end_time": "2018-01-09T23:50:19.317853Z",
     "start_time": "2018-01-09T23:50:19.310852Z"
    },
    "collapsed": true
   },
   "outputs": [],
   "source": [
    "errors_abs = [abs(e) for e in errors]"
   ]
  },
  {
   "cell_type": "code",
   "execution_count": 48,
   "metadata": {
    "ExecuteTime": {
     "end_time": "2018-01-09T23:50:20.006280Z",
     "start_time": "2018-01-09T23:50:19.940435Z"
    },
    "collapsed": true
   },
   "outputs": [],
   "source": [
    "errors_without_nan = [e for e in errors_abs if np.isnan(e) == False]"
   ]
  },
  {
   "cell_type": "code",
   "execution_count": 49,
   "metadata": {
    "ExecuteTime": {
     "end_time": "2018-01-09T23:50:20.597994Z",
     "start_time": "2018-01-09T23:50:20.592109Z"
    }
   },
   "outputs": [
    {
     "data": {
      "text/plain": [
       "19203"
      ]
     },
     "execution_count": 49,
     "metadata": {},
     "output_type": "execute_result"
    }
   ],
   "source": [
    "len(errors_without_nan)"
   ]
  },
  {
   "cell_type": "code",
   "execution_count": 50,
   "metadata": {
    "ExecuteTime": {
     "end_time": "2018-01-09T23:50:21.397085Z",
     "start_time": "2018-01-09T23:50:21.389614Z"
    }
   },
   "outputs": [
    {
     "data": {
      "text/plain": [
       "8.1804404932078061"
      ]
     },
     "execution_count": 50,
     "metadata": {},
     "output_type": "execute_result"
    }
   ],
   "source": [
    "mean_absolute_error = np.mean(errors_without_nan)\n",
    "mean_absolute_error"
   ]
  },
  {
   "cell_type": "markdown",
   "metadata": {},
   "source": [
    "__Check which rows are brining up NaN predictions from model__"
   ]
  },
  {
   "cell_type": "code",
   "execution_count": 51,
   "metadata": {
    "ExecuteTime": {
     "end_time": "2018-01-09T23:50:25.906270Z",
     "start_time": "2018-01-09T23:50:25.899141Z"
    }
   },
   "outputs": [
    {
     "data": {
      "text/plain": [
       "19337"
      ]
     },
     "execution_count": 51,
     "metadata": {},
     "output_type": "execute_result"
    }
   ],
   "source": [
    "len(errors_abs)"
   ]
  },
  {
   "cell_type": "code",
   "execution_count": 52,
   "metadata": {
    "ExecuteTime": {
     "end_time": "2018-01-09T23:50:27.016232Z",
     "start_time": "2018-01-09T23:50:27.005755Z"
    }
   },
   "outputs": [
    {
     "data": {
      "text/plain": [
       "134"
      ]
     },
     "execution_count": 52,
     "metadata": {},
     "output_type": "execute_result"
    }
   ],
   "source": [
    "np.isnan(errors_abs).sum()"
   ]
  },
  {
   "cell_type": "code",
   "execution_count": 53,
   "metadata": {
    "ExecuteTime": {
     "end_time": "2018-01-09T23:50:27.828442Z",
     "start_time": "2018-01-09T23:50:27.809521Z"
    }
   },
   "outputs": [
    {
     "data": {
      "text/plain": [
       "price                      0\n",
       "accommodates               0\n",
       "entire_home                0\n",
       "private_room               0\n",
       "shared_room                0\n",
       "distance_from_NYC          0\n",
       "booked_30                  0\n",
       "availability_30            0\n",
       "bathrooms                  0\n",
       "bedrooms                   0\n",
       "zipcode_median_income      0\n",
       "predicted_occupancy      134\n",
       "error                    134\n",
       "dtype: int64"
      ]
     },
     "execution_count": 53,
     "metadata": {},
     "output_type": "execute_result"
    }
   ],
   "source": [
    "dfPredictions.isnull().sum()"
   ]
  },
  {
   "cell_type": "code",
   "execution_count": 54,
   "metadata": {
    "ExecuteTime": {
     "end_time": "2018-01-09T23:50:28.538040Z",
     "start_time": "2018-01-09T23:50:28.509635Z"
    }
   },
   "outputs": [
    {
     "data": {
      "text/html": [
       "<div>\n",
       "<style>\n",
       "    .dataframe thead tr:only-child th {\n",
       "        text-align: right;\n",
       "    }\n",
       "\n",
       "    .dataframe thead th {\n",
       "        text-align: left;\n",
       "    }\n",
       "\n",
       "    .dataframe tbody tr th {\n",
       "        vertical-align: top;\n",
       "    }\n",
       "</style>\n",
       "<table border=\"1\" class=\"dataframe\">\n",
       "  <thead>\n",
       "    <tr style=\"text-align: right;\">\n",
       "      <th></th>\n",
       "      <th>price</th>\n",
       "      <th>accommodates</th>\n",
       "      <th>entire_home</th>\n",
       "      <th>private_room</th>\n",
       "      <th>shared_room</th>\n",
       "      <th>distance_from_NYC</th>\n",
       "      <th>booked_30</th>\n",
       "      <th>availability_30</th>\n",
       "      <th>bathrooms</th>\n",
       "      <th>bedrooms</th>\n",
       "      <th>zipcode_median_income</th>\n",
       "      <th>predicted_occupancy</th>\n",
       "      <th>error</th>\n",
       "    </tr>\n",
       "  </thead>\n",
       "  <tbody>\n",
       "    <tr>\n",
       "      <th>385</th>\n",
       "      <td>111.0</td>\n",
       "      <td>1</td>\n",
       "      <td>0</td>\n",
       "      <td>1</td>\n",
       "      <td>0</td>\n",
       "      <td>2.136842</td>\n",
       "      <td>12</td>\n",
       "      <td>18</td>\n",
       "      <td>2.5</td>\n",
       "      <td>1.0</td>\n",
       "      <td>6356.261105</td>\n",
       "      <td>NaN</td>\n",
       "      <td>NaN</td>\n",
       "    </tr>\n",
       "    <tr>\n",
       "      <th>9189</th>\n",
       "      <td>375.0</td>\n",
       "      <td>7</td>\n",
       "      <td>1</td>\n",
       "      <td>0</td>\n",
       "      <td>0</td>\n",
       "      <td>2.438837</td>\n",
       "      <td>27</td>\n",
       "      <td>3</td>\n",
       "      <td>2.0</td>\n",
       "      <td>2.0</td>\n",
       "      <td>6356.261105</td>\n",
       "      <td>NaN</td>\n",
       "      <td>NaN</td>\n",
       "    </tr>\n",
       "    <tr>\n",
       "      <th>2140</th>\n",
       "      <td>70.0</td>\n",
       "      <td>2</td>\n",
       "      <td>0</td>\n",
       "      <td>1</td>\n",
       "      <td>0</td>\n",
       "      <td>5.131104</td>\n",
       "      <td>23</td>\n",
       "      <td>7</td>\n",
       "      <td>1.0</td>\n",
       "      <td>1.0</td>\n",
       "      <td>6356.261105</td>\n",
       "      <td>NaN</td>\n",
       "      <td>NaN</td>\n",
       "    </tr>\n",
       "    <tr>\n",
       "      <th>10341</th>\n",
       "      <td>60.0</td>\n",
       "      <td>2</td>\n",
       "      <td>0</td>\n",
       "      <td>1</td>\n",
       "      <td>0</td>\n",
       "      <td>6.564515</td>\n",
       "      <td>28</td>\n",
       "      <td>2</td>\n",
       "      <td>1.0</td>\n",
       "      <td>1.0</td>\n",
       "      <td>6356.261105</td>\n",
       "      <td>NaN</td>\n",
       "      <td>NaN</td>\n",
       "    </tr>\n",
       "    <tr>\n",
       "      <th>12813</th>\n",
       "      <td>202.0</td>\n",
       "      <td>5</td>\n",
       "      <td>1</td>\n",
       "      <td>0</td>\n",
       "      <td>0</td>\n",
       "      <td>2.804634</td>\n",
       "      <td>21</td>\n",
       "      <td>9</td>\n",
       "      <td>1.0</td>\n",
       "      <td>2.0</td>\n",
       "      <td>6356.261105</td>\n",
       "      <td>NaN</td>\n",
       "      <td>NaN</td>\n",
       "    </tr>\n",
       "  </tbody>\n",
       "</table>\n",
       "</div>"
      ],
      "text/plain": [
       "       price  accommodates  entire_home  private_room  shared_room  \\\n",
       "385    111.0             1            0             1            0   \n",
       "9189   375.0             7            1             0            0   \n",
       "2140    70.0             2            0             1            0   \n",
       "10341   60.0             2            0             1            0   \n",
       "12813  202.0             5            1             0            0   \n",
       "\n",
       "       distance_from_NYC  booked_30  availability_30  bathrooms  bedrooms  \\\n",
       "385             2.136842         12               18        2.5       1.0   \n",
       "9189            2.438837         27                3        2.0       2.0   \n",
       "2140            5.131104         23                7        1.0       1.0   \n",
       "10341           6.564515         28                2        1.0       1.0   \n",
       "12813           2.804634         21                9        1.0       2.0   \n",
       "\n",
       "       zipcode_median_income  predicted_occupancy  error  \n",
       "385              6356.261105                  NaN    NaN  \n",
       "9189             6356.261105                  NaN    NaN  \n",
       "2140             6356.261105                  NaN    NaN  \n",
       "10341            6356.261105                  NaN    NaN  \n",
       "12813            6356.261105                  NaN    NaN  "
      ]
     },
     "execution_count": 54,
     "metadata": {},
     "output_type": "execute_result"
    }
   ],
   "source": [
    "dfPredictions[dfPredictions['predicted_occupancy'].isnull()].head()"
   ]
  },
  {
   "cell_type": "markdown",
   "metadata": {},
   "source": [
    "## Pickle the model"
   ]
  },
  {
   "cell_type": "code",
   "execution_count": null,
   "metadata": {
    "collapsed": true
   },
   "outputs": [],
   "source": [
    "# GLM_binomial.save(\"../pickled_models/GLM_binomial_Jan17.pkl\")"
   ]
  }
 ],
 "metadata": {
  "kernelspec": {
   "display_name": "Python 3",
   "language": "python",
   "name": "python3"
  },
  "language_info": {
   "codemirror_mode": {
    "name": "ipython",
    "version": 3
   },
   "file_extension": ".py",
   "mimetype": "text/x-python",
   "name": "python",
   "nbconvert_exporter": "python",
   "pygments_lexer": "ipython3",
   "version": "3.6.1"
  },
  "toc": {
   "nav_menu": {},
   "number_sections": true,
   "sideBar": true,
   "skip_h1_title": false,
   "toc_cell": false,
   "toc_position": {},
   "toc_section_display": "block",
   "toc_window_display": true
  }
 },
 "nbformat": 4,
 "nbformat_minor": 2
}
